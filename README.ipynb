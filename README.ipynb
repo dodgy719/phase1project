{
 "cells": [
  {
   "cell_type": "markdown",
   "metadata": {},
   "source": [
    "# Movie Analysis for Microsoft\n",
    "\n",
    "The aim of this repository is to analyze movies and figure out business recommendations for Microsoft. We will be working with data from multiple sources including:\n",
    "\n",
    "1. Box Office Mojo\n",
    "2. IMdB\n",
    "\n",
    "We have a lot of different csv files which can be found in the ```zipped_data``` folder.\n",
    "\n",
    "We have come up with three business recommendations for Microsoft as listed below. \n",
    "\n",
    "The analysis was performed using python and the code can be found in ```student.ipynb```"
   ]
  },
  {
   "cell_type": "markdown",
   "metadata": {},
   "source": [
    "# Business problem\n",
    "\n",
    "Analyzing movies until 2018 to come up with business recommendations for Microsoft. We will be looking at the most popular films, the most profitable studios and we will also look at the most popular directors by num of votes for their films. We hope to provide Microsoft with an idea of which studio and director should they work with or investigate more for their movie industry debut."
   ]
  },
  {
   "cell_type": "markdown",
   "metadata": {},
   "source": [
    "# Data \n",
    "\n",
    "The data was provided to me by Flatiron school and comes from various sources. I leveraged the ```glob``` library to read all the csv files. Most of the analysis was done was data sourced from IMdB and Box Office Mojo.\n",
    "\n",
    "We had movies until 2018. We also had movie gross data, production companies and list of cast and crew."
   ]
  },
  {
   "cell_type": "markdown",
   "metadata": {},
   "source": [
    "# Results\n",
    "\n",
    "## Disney and Fox are the highest grossing studios\n",
    "\n",
    "![studios](studios.png)"
   ]
  },
  {
   "cell_type": "markdown",
   "metadata": {},
   "source": [
    "We can clearly see that Disney is the highest grossing studio with more than \\\\$4 billon earned till 2018. Fox and WB come in a close second and third with grosses of nearly $3 billion.\n",
    "\n",
    "**We recommend that Microsoft work with one of these 3 studios as they clearly have delivered a consistent and solid performance at the box office.**"
   ]
  },
  {
   "cell_type": "markdown",
   "metadata": {},
   "source": [
    "We also took a look at the highest grossing movies till 2018 and saw a lot of Disney and Fox movies appearing in the top 15.\n",
    "\n",
    "![Movies](movies.png)"
   ]
  },
  {
   "cell_type": "markdown",
   "metadata": {},
   "source": [
    "# Command to convert jupyter notebook to markdown file\n",
    "\n",
    "jupyter nbconvert --to markdown notebookname.ipynb"
   ]
  },
  {
   "cell_type": "code",
   "execution_count": null,
   "metadata": {},
   "outputs": [],
   "source": []
  }
 ],
 "metadata": {
  "kernelspec": {
   "display_name": "Python 3",
   "language": "python",
   "name": "python3"
  },
  "language_info": {
   "codemirror_mode": {
    "name": "ipython",
    "version": 3
   },
   "file_extension": ".py",
   "mimetype": "text/x-python",
   "name": "python",
   "nbconvert_exporter": "python",
   "pygments_lexer": "ipython3",
   "version": "3.8.5"
  },
  "toc": {
   "base_numbering": 1,
   "nav_menu": {},
   "number_sections": true,
   "sideBar": true,
   "skip_h1_title": false,
   "title_cell": "Table of Contents",
   "title_sidebar": "Contents",
   "toc_cell": false,
   "toc_position": {},
   "toc_section_display": true,
   "toc_window_display": false
  },
  "varInspector": {
   "cols": {
    "lenName": 16,
    "lenType": 16,
    "lenVar": 40
   },
   "kernels_config": {
    "python": {
     "delete_cmd_postfix": "",
     "delete_cmd_prefix": "del ",
     "library": "var_list.py",
     "varRefreshCmd": "print(var_dic_list())"
    },
    "r": {
     "delete_cmd_postfix": ") ",
     "delete_cmd_prefix": "rm(",
     "library": "var_list.r",
     "varRefreshCmd": "cat(var_dic_list()) "
    }
   },
   "types_to_exclude": [
    "module",
    "function",
    "builtin_function_or_method",
    "instance",
    "_Feature"
   ],
   "window_display": false
  }
 },
 "nbformat": 4,
 "nbformat_minor": 4
}
