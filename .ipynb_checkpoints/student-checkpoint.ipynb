{
 "cells": [
  {
   "cell_type": "markdown",
   "metadata": {},
   "source": [
    "## Final Project Submission\n",
    "\n",
    "Please fill out:\n",
    "* Student name: \n",
    "* Student pace: self paced / part time / full time\n",
    "* Scheduled project review date/time: \n",
    "* Instructor name: \n",
    "* Blog post URL:\n"
   ]
  },
  {
   "cell_type": "code",
   "execution_count": 1,
   "metadata": {
    "ExecuteTime": {
     "end_time": "2021-07-01T22:29:16.181150Z",
     "start_time": "2021-07-01T22:29:14.807194Z"
    }
   },
   "outputs": [],
   "source": [
    "# Your code here - remember to use markdown cells for comments as well!\n",
    "import pandas as pd\n",
    "import numpy as np\n",
    "import matplotlib.pyplot as plt\n",
    "import seaborn as sns\n",
    "import os"
   ]
  },
  {
   "cell_type": "code",
   "execution_count": 2,
   "metadata": {
    "ExecuteTime": {
     "end_time": "2021-07-01T22:29:16.585384Z",
     "start_time": "2021-07-01T22:29:16.182992Z"
    }
   },
   "outputs": [],
   "source": [
    "title_basics_df = pd.read_csv(\"zippedData/imdb.title.basics.csv.gz\")\n",
    "le_ratings_df = pd.read_csv(\"zippedData/imdb.title.ratings.csv.gz\")\n",
    "movie_gross_df = pd.read_csv(\"zippedData/bom.movie_gross.csv.gz\")"
   ]
  },
  {
   "cell_type": "code",
   "execution_count": 3,
   "metadata": {
    "ExecuteTime": {
     "end_time": "2021-07-01T22:29:16.591156Z",
     "start_time": "2021-07-01T22:29:16.588189Z"
    }
   },
   "outputs": [],
   "source": [
    "from glob import glob"
   ]
  },
  {
   "cell_type": "code",
   "execution_count": 4,
   "metadata": {
    "ExecuteTime": {
     "end_time": "2021-07-01T22:29:16.597275Z",
     "start_time": "2021-07-01T22:29:16.593780Z"
    }
   },
   "outputs": [],
   "source": [
    "csv_files = glob(\"zippedData/*.csv.gz\")"
   ]
  },
  {
   "cell_type": "code",
   "execution_count": 5,
   "metadata": {
    "ExecuteTime": {
     "end_time": "2021-07-01T22:29:16.606189Z",
     "start_time": "2021-07-01T22:29:16.599092Z"
    }
   },
   "outputs": [
    {
     "data": {
      "text/plain": [
       "['zippedData/imdb.title.crew.csv.gz',\n",
       " 'zippedData/tmdb.movies.csv.gz',\n",
       " 'zippedData/imdb.title.akas.csv.gz',\n",
       " 'zippedData/imdb.title.ratings.csv.gz',\n",
       " 'zippedData/imdb.name.basics.csv.gz',\n",
       " 'zippedData/imdb.title.basics.csv.gz',\n",
       " 'zippedData/tn.movie_budgets.csv.gz',\n",
       " 'zippedData/bom.movie_gross.csv.gz',\n",
       " 'zippedData/imdb.title.principals.csv.gz']"
      ]
     },
     "execution_count": 5,
     "metadata": {},
     "output_type": "execute_result"
    }
   ],
   "source": [
    "csv_files"
   ]
  },
  {
   "cell_type": "code",
   "execution_count": 6,
   "metadata": {
    "ExecuteTime": {
     "end_time": "2021-07-01T22:29:20.535386Z",
     "start_time": "2021-07-01T22:29:16.608076Z"
    }
   },
   "outputs": [],
   "source": [
    "csv_files_dict = {}\n",
    "for filename in csv_files:\n",
    "    filename_cleaned = os.path.basename(filename).replace(\".csv\", \"\").replace(\".\", \"_\") # cleaning the filenames\n",
    "    filename_df = pd.read_csv(filename, index_col=0)\n",
    "    csv_files_dict[filename_cleaned] = filename_df"
   ]
  },
  {
   "cell_type": "code",
   "execution_count": 7,
   "metadata": {
    "ExecuteTime": {
     "end_time": "2021-07-01T22:29:20.543128Z",
     "start_time": "2021-07-01T22:29:20.538541Z"
    }
   },
   "outputs": [
    {
     "data": {
      "text/plain": [
       "dict_keys(['imdb_title_crew_gz', 'tmdb_movies_gz', 'imdb_title_akas_gz', 'imdb_title_ratings_gz', 'imdb_name_basics_gz', 'imdb_title_basics_gz', 'tn_movie_budgets_gz', 'bom_movie_gross_gz', 'imdb_title_principals_gz'])"
      ]
     },
     "execution_count": 7,
     "metadata": {},
     "output_type": "execute_result"
    }
   ],
   "source": [
    "csv_files_dict.keys()"
   ]
  },
  {
   "cell_type": "code",
   "execution_count": 8,
   "metadata": {
    "ExecuteTime": {
     "end_time": "2021-07-01T22:29:20.568996Z",
     "start_time": "2021-07-01T22:29:20.549262Z"
    }
   },
   "outputs": [],
   "source": [
    "title_basics_df = csv_files_dict['imdb_title_crew_gz']"
   ]
  },
  {
   "cell_type": "code",
   "execution_count": 9,
   "metadata": {
    "ExecuteTime": {
     "end_time": "2021-07-01T22:29:20.598799Z",
     "start_time": "2021-07-01T22:29:20.572164Z"
    }
   },
   "outputs": [
    {
     "data": {
      "text/html": [
       "<div>\n",
       "<style scoped>\n",
       "    .dataframe tbody tr th:only-of-type {\n",
       "        vertical-align: middle;\n",
       "    }\n",
       "\n",
       "    .dataframe tbody tr th {\n",
       "        vertical-align: top;\n",
       "    }\n",
       "\n",
       "    .dataframe thead th {\n",
       "        text-align: right;\n",
       "    }\n",
       "</style>\n",
       "<table border=\"1\" class=\"dataframe\">\n",
       "  <thead>\n",
       "    <tr style=\"text-align: right;\">\n",
       "      <th></th>\n",
       "      <th>genre_ids</th>\n",
       "      <th>id</th>\n",
       "      <th>original_language</th>\n",
       "      <th>original_title</th>\n",
       "      <th>popularity</th>\n",
       "      <th>release_date</th>\n",
       "      <th>title</th>\n",
       "      <th>vote_average</th>\n",
       "      <th>vote_count</th>\n",
       "    </tr>\n",
       "  </thead>\n",
       "  <tbody>\n",
       "    <tr>\n",
       "      <th>0</th>\n",
       "      <td>[12, 14, 10751]</td>\n",
       "      <td>12444</td>\n",
       "      <td>en</td>\n",
       "      <td>Harry Potter and the Deathly Hallows: Part 1</td>\n",
       "      <td>33.533</td>\n",
       "      <td>2010-11-19</td>\n",
       "      <td>Harry Potter and the Deathly Hallows: Part 1</td>\n",
       "      <td>7.7</td>\n",
       "      <td>10788</td>\n",
       "    </tr>\n",
       "    <tr>\n",
       "      <th>1</th>\n",
       "      <td>[14, 12, 16, 10751]</td>\n",
       "      <td>10191</td>\n",
       "      <td>en</td>\n",
       "      <td>How to Train Your Dragon</td>\n",
       "      <td>28.734</td>\n",
       "      <td>2010-03-26</td>\n",
       "      <td>How to Train Your Dragon</td>\n",
       "      <td>7.7</td>\n",
       "      <td>7610</td>\n",
       "    </tr>\n",
       "    <tr>\n",
       "      <th>2</th>\n",
       "      <td>[12, 28, 878]</td>\n",
       "      <td>10138</td>\n",
       "      <td>en</td>\n",
       "      <td>Iron Man 2</td>\n",
       "      <td>28.515</td>\n",
       "      <td>2010-05-07</td>\n",
       "      <td>Iron Man 2</td>\n",
       "      <td>6.8</td>\n",
       "      <td>12368</td>\n",
       "    </tr>\n",
       "    <tr>\n",
       "      <th>3</th>\n",
       "      <td>[16, 35, 10751]</td>\n",
       "      <td>862</td>\n",
       "      <td>en</td>\n",
       "      <td>Toy Story</td>\n",
       "      <td>28.005</td>\n",
       "      <td>1995-11-22</td>\n",
       "      <td>Toy Story</td>\n",
       "      <td>7.9</td>\n",
       "      <td>10174</td>\n",
       "    </tr>\n",
       "    <tr>\n",
       "      <th>4</th>\n",
       "      <td>[28, 878, 12]</td>\n",
       "      <td>27205</td>\n",
       "      <td>en</td>\n",
       "      <td>Inception</td>\n",
       "      <td>27.920</td>\n",
       "      <td>2010-07-16</td>\n",
       "      <td>Inception</td>\n",
       "      <td>8.3</td>\n",
       "      <td>22186</td>\n",
       "    </tr>\n",
       "    <tr>\n",
       "      <th>...</th>\n",
       "      <td>...</td>\n",
       "      <td>...</td>\n",
       "      <td>...</td>\n",
       "      <td>...</td>\n",
       "      <td>...</td>\n",
       "      <td>...</td>\n",
       "      <td>...</td>\n",
       "      <td>...</td>\n",
       "      <td>...</td>\n",
       "    </tr>\n",
       "    <tr>\n",
       "      <th>26512</th>\n",
       "      <td>[27, 18]</td>\n",
       "      <td>488143</td>\n",
       "      <td>en</td>\n",
       "      <td>Laboratory Conditions</td>\n",
       "      <td>0.600</td>\n",
       "      <td>2018-10-13</td>\n",
       "      <td>Laboratory Conditions</td>\n",
       "      <td>0.0</td>\n",
       "      <td>1</td>\n",
       "    </tr>\n",
       "    <tr>\n",
       "      <th>26513</th>\n",
       "      <td>[18, 53]</td>\n",
       "      <td>485975</td>\n",
       "      <td>en</td>\n",
       "      <td>_EXHIBIT_84xxx_</td>\n",
       "      <td>0.600</td>\n",
       "      <td>2018-05-01</td>\n",
       "      <td>_EXHIBIT_84xxx_</td>\n",
       "      <td>0.0</td>\n",
       "      <td>1</td>\n",
       "    </tr>\n",
       "    <tr>\n",
       "      <th>26514</th>\n",
       "      <td>[14, 28, 12]</td>\n",
       "      <td>381231</td>\n",
       "      <td>en</td>\n",
       "      <td>The Last One</td>\n",
       "      <td>0.600</td>\n",
       "      <td>2018-10-01</td>\n",
       "      <td>The Last One</td>\n",
       "      <td>0.0</td>\n",
       "      <td>1</td>\n",
       "    </tr>\n",
       "    <tr>\n",
       "      <th>26515</th>\n",
       "      <td>[10751, 12, 28]</td>\n",
       "      <td>366854</td>\n",
       "      <td>en</td>\n",
       "      <td>Trailer Made</td>\n",
       "      <td>0.600</td>\n",
       "      <td>2018-06-22</td>\n",
       "      <td>Trailer Made</td>\n",
       "      <td>0.0</td>\n",
       "      <td>1</td>\n",
       "    </tr>\n",
       "    <tr>\n",
       "      <th>26516</th>\n",
       "      <td>[53, 27]</td>\n",
       "      <td>309885</td>\n",
       "      <td>en</td>\n",
       "      <td>The Church</td>\n",
       "      <td>0.600</td>\n",
       "      <td>2018-10-05</td>\n",
       "      <td>The Church</td>\n",
       "      <td>0.0</td>\n",
       "      <td>1</td>\n",
       "    </tr>\n",
       "  </tbody>\n",
       "</table>\n",
       "<p>26517 rows × 9 columns</p>\n",
       "</div>"
      ],
      "text/plain": [
       "                 genre_ids      id original_language  \\\n",
       "0          [12, 14, 10751]   12444                en   \n",
       "1      [14, 12, 16, 10751]   10191                en   \n",
       "2            [12, 28, 878]   10138                en   \n",
       "3          [16, 35, 10751]     862                en   \n",
       "4            [28, 878, 12]   27205                en   \n",
       "...                    ...     ...               ...   \n",
       "26512             [27, 18]  488143                en   \n",
       "26513             [18, 53]  485975                en   \n",
       "26514         [14, 28, 12]  381231                en   \n",
       "26515      [10751, 12, 28]  366854                en   \n",
       "26516             [53, 27]  309885                en   \n",
       "\n",
       "                                     original_title  popularity release_date  \\\n",
       "0      Harry Potter and the Deathly Hallows: Part 1      33.533   2010-11-19   \n",
       "1                          How to Train Your Dragon      28.734   2010-03-26   \n",
       "2                                        Iron Man 2      28.515   2010-05-07   \n",
       "3                                         Toy Story      28.005   1995-11-22   \n",
       "4                                         Inception      27.920   2010-07-16   \n",
       "...                                             ...         ...          ...   \n",
       "26512                         Laboratory Conditions       0.600   2018-10-13   \n",
       "26513                               _EXHIBIT_84xxx_       0.600   2018-05-01   \n",
       "26514                                  The Last One       0.600   2018-10-01   \n",
       "26515                                  Trailer Made       0.600   2018-06-22   \n",
       "26516                                    The Church       0.600   2018-10-05   \n",
       "\n",
       "                                              title  vote_average  vote_count  \n",
       "0      Harry Potter and the Deathly Hallows: Part 1           7.7       10788  \n",
       "1                          How to Train Your Dragon           7.7        7610  \n",
       "2                                        Iron Man 2           6.8       12368  \n",
       "3                                         Toy Story           7.9       10174  \n",
       "4                                         Inception           8.3       22186  \n",
       "...                                             ...           ...         ...  \n",
       "26512                         Laboratory Conditions           0.0           1  \n",
       "26513                               _EXHIBIT_84xxx_           0.0           1  \n",
       "26514                                  The Last One           0.0           1  \n",
       "26515                                  Trailer Made           0.0           1  \n",
       "26516                                    The Church           0.0           1  \n",
       "\n",
       "[26517 rows x 9 columns]"
      ]
     },
     "execution_count": 9,
     "metadata": {},
     "output_type": "execute_result"
    }
   ],
   "source": [
    "csv_files_dict['tmdb_movies_gz']"
   ]
  },
  {
   "cell_type": "code",
   "execution_count": 10,
   "metadata": {
    "ExecuteTime": {
     "end_time": "2021-07-01T22:29:20.604867Z",
     "start_time": "2021-07-01T22:29:20.601806Z"
    }
   },
   "outputs": [],
   "source": [
    "bom_movie_gross = csv_files_dict['bom_movie_gross_gz']"
   ]
  },
  {
   "cell_type": "markdown",
   "metadata": {},
   "source": [
    "# Analyzing movie gross"
   ]
  },
  {
   "cell_type": "code",
   "execution_count": 11,
   "metadata": {
    "ExecuteTime": {
     "end_time": "2021-07-01T22:29:20.615193Z",
     "start_time": "2021-07-01T22:29:20.607366Z"
    }
   },
   "outputs": [
    {
     "name": "stdout",
     "output_type": "stream",
     "text": [
      "<class 'pandas.core.frame.DataFrame'>\n",
      "Index: 3387 entries, Toy Story 3 to An Actor Prepares\n",
      "Data columns (total 4 columns):\n",
      " #   Column          Non-Null Count  Dtype  \n",
      "---  ------          --------------  -----  \n",
      " 0   studio          3382 non-null   object \n",
      " 1   domestic_gross  3359 non-null   float64\n",
      " 2   foreign_gross   2037 non-null   object \n",
      " 3   year            3387 non-null   int64  \n",
      "dtypes: float64(1), int64(1), object(2)\n",
      "memory usage: 132.3+ KB\n"
     ]
    }
   ],
   "source": [
    "bom_movie_gross.info()"
   ]
  },
  {
   "cell_type": "markdown",
   "metadata": {},
   "source": [
    "A quick look tells me that foreign_gross is missing values and is an object whereas domestic_gross is float.\n",
    "\n",
    "Why is the column missing values?\n",
    "\n",
    "1. Movie did not release internationally\n",
    "2. Movie did not earn anything in foreign markets\n",
    "3. Missing data.\n"
   ]
  },
  {
   "cell_type": "markdown",
   "metadata": {},
   "source": [
    "In this case, I am going to assume the movie didn't release internationally and just fill in all the missing values with 0."
   ]
  },
  {
   "cell_type": "code",
   "execution_count": 12,
   "metadata": {
    "ExecuteTime": {
     "end_time": "2021-07-01T22:29:20.626335Z",
     "start_time": "2021-07-01T22:29:20.617375Z"
    }
   },
   "outputs": [
    {
     "data": {
      "text/html": [
       "<div>\n",
       "<style scoped>\n",
       "    .dataframe tbody tr th:only-of-type {\n",
       "        vertical-align: middle;\n",
       "    }\n",
       "\n",
       "    .dataframe tbody tr th {\n",
       "        vertical-align: top;\n",
       "    }\n",
       "\n",
       "    .dataframe thead th {\n",
       "        text-align: right;\n",
       "    }\n",
       "</style>\n",
       "<table border=\"1\" class=\"dataframe\">\n",
       "  <thead>\n",
       "    <tr style=\"text-align: right;\">\n",
       "      <th></th>\n",
       "      <th>studio</th>\n",
       "      <th>domestic_gross</th>\n",
       "      <th>foreign_gross</th>\n",
       "      <th>year</th>\n",
       "    </tr>\n",
       "    <tr>\n",
       "      <th>title</th>\n",
       "      <th></th>\n",
       "      <th></th>\n",
       "      <th></th>\n",
       "      <th></th>\n",
       "    </tr>\n",
       "  </thead>\n",
       "  <tbody>\n",
       "    <tr>\n",
       "      <th>Toy Story 3</th>\n",
       "      <td>BV</td>\n",
       "      <td>415000000.0</td>\n",
       "      <td>652000000</td>\n",
       "      <td>2010</td>\n",
       "    </tr>\n",
       "    <tr>\n",
       "      <th>Alice in Wonderland (2010)</th>\n",
       "      <td>BV</td>\n",
       "      <td>334200000.0</td>\n",
       "      <td>691300000</td>\n",
       "      <td>2010</td>\n",
       "    </tr>\n",
       "    <tr>\n",
       "      <th>Harry Potter and the Deathly Hallows Part 1</th>\n",
       "      <td>WB</td>\n",
       "      <td>296000000.0</td>\n",
       "      <td>664300000</td>\n",
       "      <td>2010</td>\n",
       "    </tr>\n",
       "    <tr>\n",
       "      <th>Inception</th>\n",
       "      <td>WB</td>\n",
       "      <td>292600000.0</td>\n",
       "      <td>535700000</td>\n",
       "      <td>2010</td>\n",
       "    </tr>\n",
       "    <tr>\n",
       "      <th>Shrek Forever After</th>\n",
       "      <td>P/DW</td>\n",
       "      <td>238700000.0</td>\n",
       "      <td>513900000</td>\n",
       "      <td>2010</td>\n",
       "    </tr>\n",
       "  </tbody>\n",
       "</table>\n",
       "</div>"
      ],
      "text/plain": [
       "                                            studio  domestic_gross  \\\n",
       "title                                                                \n",
       "Toy Story 3                                     BV     415000000.0   \n",
       "Alice in Wonderland (2010)                      BV     334200000.0   \n",
       "Harry Potter and the Deathly Hallows Part 1     WB     296000000.0   \n",
       "Inception                                       WB     292600000.0   \n",
       "Shrek Forever After                           P/DW     238700000.0   \n",
       "\n",
       "                                            foreign_gross  year  \n",
       "title                                                            \n",
       "Toy Story 3                                     652000000  2010  \n",
       "Alice in Wonderland (2010)                      691300000  2010  \n",
       "Harry Potter and the Deathly Hallows Part 1     664300000  2010  \n",
       "Inception                                       535700000  2010  \n",
       "Shrek Forever After                             513900000  2010  "
      ]
     },
     "execution_count": 12,
     "metadata": {},
     "output_type": "execute_result"
    }
   ],
   "source": [
    "bom_movie_gross.head()"
   ]
  },
  {
   "cell_type": "code",
   "execution_count": 13,
   "metadata": {
    "ExecuteTime": {
     "end_time": "2021-07-01T22:29:20.636604Z",
     "start_time": "2021-07-01T22:29:20.628988Z"
    }
   },
   "outputs": [
    {
     "data": {
      "text/plain": [
       "1200000      23\n",
       "1100000      14\n",
       "1900000      12\n",
       "4200000      12\n",
       "1300000      11\n",
       "             ..\n",
       "636800000     1\n",
       "105200000     1\n",
       "187700000     1\n",
       "125400000     1\n",
       "700000000     1\n",
       "Name: foreign_gross, Length: 1204, dtype: int64"
      ]
     },
     "execution_count": 13,
     "metadata": {},
     "output_type": "execute_result"
    }
   ],
   "source": [
    "bom_movie_gross['foreign_gross'].value_counts()"
   ]
  },
  {
   "cell_type": "code",
   "execution_count": 14,
   "metadata": {
    "ExecuteTime": {
     "end_time": "2021-07-01T22:29:20.642668Z",
     "start_time": "2021-07-01T22:29:20.638891Z"
    }
   },
   "outputs": [],
   "source": [
    "bom_movie_gross['foreign_gross'] = bom_movie_gross['foreign_gross'].fillna(value = 0)"
   ]
  },
  {
   "cell_type": "code",
   "execution_count": 15,
   "metadata": {
    "ExecuteTime": {
     "end_time": "2021-07-01T22:29:20.653419Z",
     "start_time": "2021-07-01T22:29:20.645060Z"
    }
   },
   "outputs": [
    {
     "name": "stdout",
     "output_type": "stream",
     "text": [
      "<class 'pandas.core.frame.DataFrame'>\n",
      "Index: 3387 entries, Toy Story 3 to An Actor Prepares\n",
      "Data columns (total 4 columns):\n",
      " #   Column          Non-Null Count  Dtype  \n",
      "---  ------          --------------  -----  \n",
      " 0   studio          3382 non-null   object \n",
      " 1   domestic_gross  3359 non-null   float64\n",
      " 2   foreign_gross   3387 non-null   object \n",
      " 3   year            3387 non-null   int64  \n",
      "dtypes: float64(1), int64(1), object(2)\n",
      "memory usage: 132.3+ KB\n"
     ]
    }
   ],
   "source": [
    "bom_movie_gross.info()"
   ]
  },
  {
   "cell_type": "code",
   "execution_count": 16,
   "metadata": {
    "ExecuteTime": {
     "end_time": "2021-07-01T22:29:20.664089Z",
     "start_time": "2021-07-01T22:29:20.655618Z"
    }
   },
   "outputs": [
    {
     "data": {
      "text/plain": [
       "0            1350\n",
       "1200000        23\n",
       "1100000        14\n",
       "4200000        12\n",
       "1900000        12\n",
       "             ... \n",
       "231400000       1\n",
       "38200000        1\n",
       "118800000       1\n",
       "77800000        1\n",
       "90500000        1\n",
       "Name: foreign_gross, Length: 1205, dtype: int64"
      ]
     },
     "execution_count": 16,
     "metadata": {},
     "output_type": "execute_result"
    }
   ],
   "source": [
    "bom_movie_gross['foreign_gross'].value_counts()"
   ]
  },
  {
   "cell_type": "code",
   "execution_count": 17,
   "metadata": {
    "ExecuteTime": {
     "end_time": "2021-07-01T22:29:20.669541Z",
     "start_time": "2021-07-01T22:29:20.665781Z"
    }
   },
   "outputs": [],
   "source": [
    "bom_movie_gross.reset_index(inplace=True)"
   ]
  },
  {
   "cell_type": "code",
   "execution_count": 18,
   "metadata": {
    "ExecuteTime": {
     "end_time": "2021-07-01T22:29:20.679421Z",
     "start_time": "2021-07-01T22:29:20.670810Z"
    }
   },
   "outputs": [
    {
     "name": "stdout",
     "output_type": "stream",
     "text": [
      "<class 'pandas.core.frame.DataFrame'>\n",
      "RangeIndex: 3387 entries, 0 to 3386\n",
      "Data columns (total 5 columns):\n",
      " #   Column          Non-Null Count  Dtype  \n",
      "---  ------          --------------  -----  \n",
      " 0   title           3387 non-null   object \n",
      " 1   studio          3382 non-null   object \n",
      " 2   domestic_gross  3359 non-null   float64\n",
      " 3   foreign_gross   3387 non-null   object \n",
      " 4   year            3387 non-null   int64  \n",
      "dtypes: float64(1), int64(1), object(3)\n",
      "memory usage: 132.4+ KB\n"
     ]
    }
   ],
   "source": [
    "bom_movie_gross.info()"
   ]
  },
  {
   "cell_type": "markdown",
   "metadata": {},
   "source": [
    "I see that there are a few movies with domestic gross being missing. I am going to drop those as I want to analyze the domestic and foreign gross"
   ]
  },
  {
   "cell_type": "code",
   "execution_count": 19,
   "metadata": {
    "ExecuteTime": {
     "end_time": "2021-07-01T22:29:20.700195Z",
     "start_time": "2021-07-01T22:29:20.681421Z"
    }
   },
   "outputs": [],
   "source": [
    "bom_movie_gross.dropna(inplace=True)"
   ]
  },
  {
   "cell_type": "code",
   "execution_count": 20,
   "metadata": {
    "ExecuteTime": {
     "end_time": "2021-07-01T22:29:20.709545Z",
     "start_time": "2021-07-01T22:29:20.702127Z"
    }
   },
   "outputs": [
    {
     "name": "stdout",
     "output_type": "stream",
     "text": [
      "<class 'pandas.core.frame.DataFrame'>\n",
      "Int64Index: 3356 entries, 0 to 3386\n",
      "Data columns (total 5 columns):\n",
      " #   Column          Non-Null Count  Dtype  \n",
      "---  ------          --------------  -----  \n",
      " 0   title           3356 non-null   object \n",
      " 1   studio          3356 non-null   object \n",
      " 2   domestic_gross  3356 non-null   float64\n",
      " 3   foreign_gross   3356 non-null   object \n",
      " 4   year            3356 non-null   int64  \n",
      "dtypes: float64(1), int64(1), object(3)\n",
      "memory usage: 157.3+ KB\n"
     ]
    }
   ],
   "source": [
    "bom_movie_gross.info()"
   ]
  },
  {
   "cell_type": "code",
   "execution_count": 21,
   "metadata": {
    "ExecuteTime": {
     "end_time": "2021-07-01T22:29:20.724361Z",
     "start_time": "2021-07-01T22:29:20.711777Z"
    }
   },
   "outputs": [
    {
     "data": {
      "text/html": [
       "<div>\n",
       "<style scoped>\n",
       "    .dataframe tbody tr th:only-of-type {\n",
       "        vertical-align: middle;\n",
       "    }\n",
       "\n",
       "    .dataframe tbody tr th {\n",
       "        vertical-align: top;\n",
       "    }\n",
       "\n",
       "    .dataframe thead th {\n",
       "        text-align: right;\n",
       "    }\n",
       "</style>\n",
       "<table border=\"1\" class=\"dataframe\">\n",
       "  <thead>\n",
       "    <tr style=\"text-align: right;\">\n",
       "      <th></th>\n",
       "      <th>title</th>\n",
       "      <th>studio</th>\n",
       "      <th>domestic_gross</th>\n",
       "      <th>foreign_gross</th>\n",
       "      <th>year</th>\n",
       "    </tr>\n",
       "  </thead>\n",
       "  <tbody>\n",
       "    <tr>\n",
       "      <th>0</th>\n",
       "      <td>Toy Story 3</td>\n",
       "      <td>BV</td>\n",
       "      <td>415000000.0</td>\n",
       "      <td>652000000</td>\n",
       "      <td>2010</td>\n",
       "    </tr>\n",
       "    <tr>\n",
       "      <th>1</th>\n",
       "      <td>Alice in Wonderland (2010)</td>\n",
       "      <td>BV</td>\n",
       "      <td>334200000.0</td>\n",
       "      <td>691300000</td>\n",
       "      <td>2010</td>\n",
       "    </tr>\n",
       "    <tr>\n",
       "      <th>2</th>\n",
       "      <td>Harry Potter and the Deathly Hallows Part 1</td>\n",
       "      <td>WB</td>\n",
       "      <td>296000000.0</td>\n",
       "      <td>664300000</td>\n",
       "      <td>2010</td>\n",
       "    </tr>\n",
       "    <tr>\n",
       "      <th>3</th>\n",
       "      <td>Inception</td>\n",
       "      <td>WB</td>\n",
       "      <td>292600000.0</td>\n",
       "      <td>535700000</td>\n",
       "      <td>2010</td>\n",
       "    </tr>\n",
       "    <tr>\n",
       "      <th>4</th>\n",
       "      <td>Shrek Forever After</td>\n",
       "      <td>P/DW</td>\n",
       "      <td>238700000.0</td>\n",
       "      <td>513900000</td>\n",
       "      <td>2010</td>\n",
       "    </tr>\n",
       "  </tbody>\n",
       "</table>\n",
       "</div>"
      ],
      "text/plain": [
       "                                         title studio  domestic_gross  \\\n",
       "0                                  Toy Story 3     BV     415000000.0   \n",
       "1                   Alice in Wonderland (2010)     BV     334200000.0   \n",
       "2  Harry Potter and the Deathly Hallows Part 1     WB     296000000.0   \n",
       "3                                    Inception     WB     292600000.0   \n",
       "4                          Shrek Forever After   P/DW     238700000.0   \n",
       "\n",
       "  foreign_gross  year  \n",
       "0     652000000  2010  \n",
       "1     691300000  2010  \n",
       "2     664300000  2010  \n",
       "3     535700000  2010  \n",
       "4     513900000  2010  "
      ]
     },
     "execution_count": 21,
     "metadata": {},
     "output_type": "execute_result"
    }
   ],
   "source": [
    "bom_movie_gross.head()"
   ]
  },
  {
   "cell_type": "markdown",
   "metadata": {},
   "source": [
    "In here, I am assuming domestic_gross is for the US and foreign_gross is for the rest of the world. In order to get an idea of how much money the movie actually made, I can add these two columns and create a new column called worldwide_gross and use that to analyze the films"
   ]
  },
  {
   "cell_type": "markdown",
   "metadata": {},
   "source": [
    "Before doing this, I need to convert the foreign gross column to int"
   ]
  },
  {
   "cell_type": "code",
   "execution_count": 22,
   "metadata": {
    "ExecuteTime": {
     "end_time": "2021-07-01T22:29:20.964994Z",
     "start_time": "2021-07-01T22:29:20.728332Z"
    }
   },
   "outputs": [
    {
     "ename": "ValueError",
     "evalue": "invalid literal for int() with base 10: '1,131.6'",
     "output_type": "error",
     "traceback": [
      "\u001b[0;31m---------------------------------------------------------------------------\u001b[0m",
      "\u001b[0;31mValueError\u001b[0m                                Traceback (most recent call last)",
      "\u001b[0;32m<ipython-input-22-150c57624404>\u001b[0m in \u001b[0;36m<module>\u001b[0;34m\u001b[0m\n\u001b[0;32m----> 1\u001b[0;31m \u001b[0mbom_movie_gross\u001b[0m\u001b[0;34m[\u001b[0m\u001b[0;34m'foreign_gross'\u001b[0m\u001b[0;34m]\u001b[0m\u001b[0;34m.\u001b[0m\u001b[0mastype\u001b[0m\u001b[0;34m(\u001b[0m\u001b[0mint\u001b[0m\u001b[0;34m)\u001b[0m\u001b[0;34m\u001b[0m\u001b[0;34m\u001b[0m\u001b[0m\n\u001b[0m",
      "\u001b[0;32m~/anaconda3/lib/python3.8/site-packages/pandas/core/generic.py\u001b[0m in \u001b[0;36mastype\u001b[0;34m(self, dtype, copy, errors)\u001b[0m\n\u001b[1;32m   5544\u001b[0m         \u001b[0;32melse\u001b[0m\u001b[0;34m:\u001b[0m\u001b[0;34m\u001b[0m\u001b[0;34m\u001b[0m\u001b[0m\n\u001b[1;32m   5545\u001b[0m             \u001b[0;31m# else, only a single dtype is given\u001b[0m\u001b[0;34m\u001b[0m\u001b[0;34m\u001b[0m\u001b[0;34m\u001b[0m\u001b[0m\n\u001b[0;32m-> 5546\u001b[0;31m             \u001b[0mnew_data\u001b[0m \u001b[0;34m=\u001b[0m \u001b[0mself\u001b[0m\u001b[0;34m.\u001b[0m\u001b[0m_mgr\u001b[0m\u001b[0;34m.\u001b[0m\u001b[0mastype\u001b[0m\u001b[0;34m(\u001b[0m\u001b[0mdtype\u001b[0m\u001b[0;34m=\u001b[0m\u001b[0mdtype\u001b[0m\u001b[0;34m,\u001b[0m \u001b[0mcopy\u001b[0m\u001b[0;34m=\u001b[0m\u001b[0mcopy\u001b[0m\u001b[0;34m,\u001b[0m \u001b[0merrors\u001b[0m\u001b[0;34m=\u001b[0m\u001b[0merrors\u001b[0m\u001b[0;34m,\u001b[0m\u001b[0;34m)\u001b[0m\u001b[0;34m\u001b[0m\u001b[0;34m\u001b[0m\u001b[0m\n\u001b[0m\u001b[1;32m   5547\u001b[0m             \u001b[0;32mreturn\u001b[0m \u001b[0mself\u001b[0m\u001b[0;34m.\u001b[0m\u001b[0m_constructor\u001b[0m\u001b[0;34m(\u001b[0m\u001b[0mnew_data\u001b[0m\u001b[0;34m)\u001b[0m\u001b[0;34m.\u001b[0m\u001b[0m__finalize__\u001b[0m\u001b[0;34m(\u001b[0m\u001b[0mself\u001b[0m\u001b[0;34m,\u001b[0m \u001b[0mmethod\u001b[0m\u001b[0;34m=\u001b[0m\u001b[0;34m\"astype\"\u001b[0m\u001b[0;34m)\u001b[0m\u001b[0;34m\u001b[0m\u001b[0;34m\u001b[0m\u001b[0m\n\u001b[1;32m   5548\u001b[0m \u001b[0;34m\u001b[0m\u001b[0m\n",
      "\u001b[0;32m~/anaconda3/lib/python3.8/site-packages/pandas/core/internals/managers.py\u001b[0m in \u001b[0;36mastype\u001b[0;34m(self, dtype, copy, errors)\u001b[0m\n\u001b[1;32m    593\u001b[0m         \u001b[0mself\u001b[0m\u001b[0;34m,\u001b[0m \u001b[0mdtype\u001b[0m\u001b[0;34m,\u001b[0m \u001b[0mcopy\u001b[0m\u001b[0;34m:\u001b[0m \u001b[0mbool\u001b[0m \u001b[0;34m=\u001b[0m \u001b[0;32mFalse\u001b[0m\u001b[0;34m,\u001b[0m \u001b[0merrors\u001b[0m\u001b[0;34m:\u001b[0m \u001b[0mstr\u001b[0m \u001b[0;34m=\u001b[0m \u001b[0;34m\"raise\"\u001b[0m\u001b[0;34m\u001b[0m\u001b[0;34m\u001b[0m\u001b[0m\n\u001b[1;32m    594\u001b[0m     ) -> \"BlockManager\":\n\u001b[0;32m--> 595\u001b[0;31m         \u001b[0;32mreturn\u001b[0m \u001b[0mself\u001b[0m\u001b[0;34m.\u001b[0m\u001b[0mapply\u001b[0m\u001b[0;34m(\u001b[0m\u001b[0;34m\"astype\"\u001b[0m\u001b[0;34m,\u001b[0m \u001b[0mdtype\u001b[0m\u001b[0;34m=\u001b[0m\u001b[0mdtype\u001b[0m\u001b[0;34m,\u001b[0m \u001b[0mcopy\u001b[0m\u001b[0;34m=\u001b[0m\u001b[0mcopy\u001b[0m\u001b[0;34m,\u001b[0m \u001b[0merrors\u001b[0m\u001b[0;34m=\u001b[0m\u001b[0merrors\u001b[0m\u001b[0;34m)\u001b[0m\u001b[0;34m\u001b[0m\u001b[0;34m\u001b[0m\u001b[0m\n\u001b[0m\u001b[1;32m    596\u001b[0m \u001b[0;34m\u001b[0m\u001b[0m\n\u001b[1;32m    597\u001b[0m     def convert(\n",
      "\u001b[0;32m~/anaconda3/lib/python3.8/site-packages/pandas/core/internals/managers.py\u001b[0m in \u001b[0;36mapply\u001b[0;34m(self, f, align_keys, **kwargs)\u001b[0m\n\u001b[1;32m    404\u001b[0m                 \u001b[0mapplied\u001b[0m \u001b[0;34m=\u001b[0m \u001b[0mb\u001b[0m\u001b[0;34m.\u001b[0m\u001b[0mapply\u001b[0m\u001b[0;34m(\u001b[0m\u001b[0mf\u001b[0m\u001b[0;34m,\u001b[0m \u001b[0;34m**\u001b[0m\u001b[0mkwargs\u001b[0m\u001b[0;34m)\u001b[0m\u001b[0;34m\u001b[0m\u001b[0;34m\u001b[0m\u001b[0m\n\u001b[1;32m    405\u001b[0m             \u001b[0;32melse\u001b[0m\u001b[0;34m:\u001b[0m\u001b[0;34m\u001b[0m\u001b[0;34m\u001b[0m\u001b[0m\n\u001b[0;32m--> 406\u001b[0;31m                 \u001b[0mapplied\u001b[0m \u001b[0;34m=\u001b[0m \u001b[0mgetattr\u001b[0m\u001b[0;34m(\u001b[0m\u001b[0mb\u001b[0m\u001b[0;34m,\u001b[0m \u001b[0mf\u001b[0m\u001b[0;34m)\u001b[0m\u001b[0;34m(\u001b[0m\u001b[0;34m**\u001b[0m\u001b[0mkwargs\u001b[0m\u001b[0;34m)\u001b[0m\u001b[0;34m\u001b[0m\u001b[0;34m\u001b[0m\u001b[0m\n\u001b[0m\u001b[1;32m    407\u001b[0m             \u001b[0mresult_blocks\u001b[0m \u001b[0;34m=\u001b[0m \u001b[0m_extend_blocks\u001b[0m\u001b[0;34m(\u001b[0m\u001b[0mapplied\u001b[0m\u001b[0;34m,\u001b[0m \u001b[0mresult_blocks\u001b[0m\u001b[0;34m)\u001b[0m\u001b[0;34m\u001b[0m\u001b[0;34m\u001b[0m\u001b[0m\n\u001b[1;32m    408\u001b[0m \u001b[0;34m\u001b[0m\u001b[0m\n",
      "\u001b[0;32m~/anaconda3/lib/python3.8/site-packages/pandas/core/internals/blocks.py\u001b[0m in \u001b[0;36mastype\u001b[0;34m(self, dtype, copy, errors)\u001b[0m\n\u001b[1;32m    593\u001b[0m             \u001b[0mvals1d\u001b[0m \u001b[0;34m=\u001b[0m \u001b[0mvalues\u001b[0m\u001b[0;34m.\u001b[0m\u001b[0mravel\u001b[0m\u001b[0;34m(\u001b[0m\u001b[0;34m)\u001b[0m\u001b[0;34m\u001b[0m\u001b[0;34m\u001b[0m\u001b[0m\n\u001b[1;32m    594\u001b[0m             \u001b[0;32mtry\u001b[0m\u001b[0;34m:\u001b[0m\u001b[0;34m\u001b[0m\u001b[0;34m\u001b[0m\u001b[0m\n\u001b[0;32m--> 595\u001b[0;31m                 \u001b[0mvalues\u001b[0m \u001b[0;34m=\u001b[0m \u001b[0mastype_nansafe\u001b[0m\u001b[0;34m(\u001b[0m\u001b[0mvals1d\u001b[0m\u001b[0;34m,\u001b[0m \u001b[0mdtype\u001b[0m\u001b[0;34m,\u001b[0m \u001b[0mcopy\u001b[0m\u001b[0;34m=\u001b[0m\u001b[0;32mTrue\u001b[0m\u001b[0;34m)\u001b[0m\u001b[0;34m\u001b[0m\u001b[0;34m\u001b[0m\u001b[0m\n\u001b[0m\u001b[1;32m    596\u001b[0m             \u001b[0;32mexcept\u001b[0m \u001b[0;34m(\u001b[0m\u001b[0mValueError\u001b[0m\u001b[0;34m,\u001b[0m \u001b[0mTypeError\u001b[0m\u001b[0;34m)\u001b[0m\u001b[0;34m:\u001b[0m\u001b[0;34m\u001b[0m\u001b[0;34m\u001b[0m\u001b[0m\n\u001b[1;32m    597\u001b[0m                 \u001b[0;31m# e.g. astype_nansafe can fail on object-dtype of strings\u001b[0m\u001b[0;34m\u001b[0m\u001b[0;34m\u001b[0m\u001b[0;34m\u001b[0m\u001b[0m\n",
      "\u001b[0;32m~/anaconda3/lib/python3.8/site-packages/pandas/core/dtypes/cast.py\u001b[0m in \u001b[0;36mastype_nansafe\u001b[0;34m(arr, dtype, copy, skipna)\u001b[0m\n\u001b[1;32m    970\u001b[0m         \u001b[0;31m# work around NumPy brokenness, #1987\u001b[0m\u001b[0;34m\u001b[0m\u001b[0;34m\u001b[0m\u001b[0;34m\u001b[0m\u001b[0m\n\u001b[1;32m    971\u001b[0m         \u001b[0;32mif\u001b[0m \u001b[0mnp\u001b[0m\u001b[0;34m.\u001b[0m\u001b[0missubdtype\u001b[0m\u001b[0;34m(\u001b[0m\u001b[0mdtype\u001b[0m\u001b[0;34m.\u001b[0m\u001b[0mtype\u001b[0m\u001b[0;34m,\u001b[0m \u001b[0mnp\u001b[0m\u001b[0;34m.\u001b[0m\u001b[0minteger\u001b[0m\u001b[0;34m)\u001b[0m\u001b[0;34m:\u001b[0m\u001b[0;34m\u001b[0m\u001b[0;34m\u001b[0m\u001b[0m\n\u001b[0;32m--> 972\u001b[0;31m             \u001b[0;32mreturn\u001b[0m \u001b[0mlib\u001b[0m\u001b[0;34m.\u001b[0m\u001b[0mastype_intsafe\u001b[0m\u001b[0;34m(\u001b[0m\u001b[0marr\u001b[0m\u001b[0;34m.\u001b[0m\u001b[0mravel\u001b[0m\u001b[0;34m(\u001b[0m\u001b[0;34m)\u001b[0m\u001b[0;34m,\u001b[0m \u001b[0mdtype\u001b[0m\u001b[0;34m)\u001b[0m\u001b[0;34m.\u001b[0m\u001b[0mreshape\u001b[0m\u001b[0;34m(\u001b[0m\u001b[0marr\u001b[0m\u001b[0;34m.\u001b[0m\u001b[0mshape\u001b[0m\u001b[0;34m)\u001b[0m\u001b[0;34m\u001b[0m\u001b[0;34m\u001b[0m\u001b[0m\n\u001b[0m\u001b[1;32m    973\u001b[0m \u001b[0;34m\u001b[0m\u001b[0m\n\u001b[1;32m    974\u001b[0m         \u001b[0;31m# if we have a datetime/timedelta array of objects\u001b[0m\u001b[0;34m\u001b[0m\u001b[0;34m\u001b[0m\u001b[0;34m\u001b[0m\u001b[0m\n",
      "\u001b[0;32mpandas/_libs/lib.pyx\u001b[0m in \u001b[0;36mpandas._libs.lib.astype_intsafe\u001b[0;34m()\u001b[0m\n",
      "\u001b[0;31mValueError\u001b[0m: invalid literal for int() with base 10: '1,131.6'"
     ]
    }
   ],
   "source": [
    "bom_movie_gross['foreign_gross'].astype(int)"
   ]
  },
  {
   "cell_type": "code",
   "execution_count": 23,
   "metadata": {
    "ExecuteTime": {
     "end_time": "2021-07-01T22:29:24.737273Z",
     "start_time": "2021-07-01T22:29:24.732159Z"
    }
   },
   "outputs": [],
   "source": [
    "bom_movie_gross['foreign_gross'] = bom_movie_gross['foreign_gross'].str.replace(\",\", \"\")"
   ]
  },
  {
   "cell_type": "code",
   "execution_count": 24,
   "metadata": {
    "ExecuteTime": {
     "end_time": "2021-07-01T22:29:25.079286Z",
     "start_time": "2021-07-01T22:29:25.073304Z"
    }
   },
   "outputs": [
    {
     "data": {
      "text/html": [
       "<div>\n",
       "<style scoped>\n",
       "    .dataframe tbody tr th:only-of-type {\n",
       "        vertical-align: middle;\n",
       "    }\n",
       "\n",
       "    .dataframe tbody tr th {\n",
       "        vertical-align: top;\n",
       "    }\n",
       "\n",
       "    .dataframe thead th {\n",
       "        text-align: right;\n",
       "    }\n",
       "</style>\n",
       "<table border=\"1\" class=\"dataframe\">\n",
       "  <thead>\n",
       "    <tr style=\"text-align: right;\">\n",
       "      <th></th>\n",
       "      <th>title</th>\n",
       "      <th>studio</th>\n",
       "      <th>domestic_gross</th>\n",
       "      <th>foreign_gross</th>\n",
       "      <th>year</th>\n",
       "    </tr>\n",
       "  </thead>\n",
       "  <tbody>\n",
       "  </tbody>\n",
       "</table>\n",
       "</div>"
      ],
      "text/plain": [
       "Empty DataFrame\n",
       "Columns: [title, studio, domestic_gross, foreign_gross, year]\n",
       "Index: []"
      ]
     },
     "execution_count": 24,
     "metadata": {},
     "output_type": "execute_result"
    }
   ],
   "source": [
    "bom_movie_gross.loc[bom_movie_gross['foreign_gross'] == '1,131.6']"
   ]
  },
  {
   "cell_type": "code",
   "execution_count": 25,
   "metadata": {
    "ExecuteTime": {
     "end_time": "2021-07-01T22:29:25.407008Z",
     "start_time": "2021-07-01T22:29:25.403694Z"
    }
   },
   "outputs": [],
   "source": [
    "bom_movie_gross['foreign_gross'] = bom_movie_gross['foreign_gross'].astype(float)"
   ]
  },
  {
   "cell_type": "code",
   "execution_count": 26,
   "metadata": {
    "ExecuteTime": {
     "end_time": "2021-07-01T22:29:25.781727Z",
     "start_time": "2021-07-01T22:29:25.771770Z"
    }
   },
   "outputs": [
    {
     "name": "stdout",
     "output_type": "stream",
     "text": [
      "<class 'pandas.core.frame.DataFrame'>\n",
      "Int64Index: 3356 entries, 0 to 3386\n",
      "Data columns (total 5 columns):\n",
      " #   Column          Non-Null Count  Dtype  \n",
      "---  ------          --------------  -----  \n",
      " 0   title           3356 non-null   object \n",
      " 1   studio          3356 non-null   object \n",
      " 2   domestic_gross  3356 non-null   float64\n",
      " 3   foreign_gross   2007 non-null   float64\n",
      " 4   year            3356 non-null   int64  \n",
      "dtypes: float64(2), int64(1), object(2)\n",
      "memory usage: 157.3+ KB\n"
     ]
    }
   ],
   "source": [
    "bom_movie_gross.info()"
   ]
  },
  {
   "cell_type": "code",
   "execution_count": 27,
   "metadata": {
    "ExecuteTime": {
     "end_time": "2021-07-01T22:29:26.129720Z",
     "start_time": "2021-07-01T22:29:26.122056Z"
    }
   },
   "outputs": [],
   "source": [
    "bom_movie_gross['worldwide_gross'] = bom_movie_gross['domestic_gross'] + bom_movie_gross['foreign_gross']"
   ]
  },
  {
   "cell_type": "code",
   "execution_count": 28,
   "metadata": {
    "ExecuteTime": {
     "end_time": "2021-07-01T22:29:26.516169Z",
     "start_time": "2021-07-01T22:29:26.507498Z"
    }
   },
   "outputs": [
    {
     "name": "stdout",
     "output_type": "stream",
     "text": [
      "<class 'pandas.core.frame.DataFrame'>\n",
      "Int64Index: 3356 entries, 0 to 3386\n",
      "Data columns (total 6 columns):\n",
      " #   Column           Non-Null Count  Dtype  \n",
      "---  ------           --------------  -----  \n",
      " 0   title            3356 non-null   object \n",
      " 1   studio           3356 non-null   object \n",
      " 2   domestic_gross   3356 non-null   float64\n",
      " 3   foreign_gross    2007 non-null   float64\n",
      " 4   year             3356 non-null   int64  \n",
      " 5   worldwide_gross  2007 non-null   float64\n",
      "dtypes: float64(3), int64(1), object(2)\n",
      "memory usage: 183.5+ KB\n"
     ]
    }
   ],
   "source": [
    "bom_movie_gross.info()"
   ]
  },
  {
   "cell_type": "code",
   "execution_count": 29,
   "metadata": {
    "ExecuteTime": {
     "end_time": "2021-07-01T22:29:26.928407Z",
     "start_time": "2021-07-01T22:29:26.911046Z"
    }
   },
   "outputs": [
    {
     "data": {
      "text/html": [
       "<div>\n",
       "<style scoped>\n",
       "    .dataframe tbody tr th:only-of-type {\n",
       "        vertical-align: middle;\n",
       "    }\n",
       "\n",
       "    .dataframe tbody tr th {\n",
       "        vertical-align: top;\n",
       "    }\n",
       "\n",
       "    .dataframe thead th {\n",
       "        text-align: right;\n",
       "    }\n",
       "</style>\n",
       "<table border=\"1\" class=\"dataframe\">\n",
       "  <thead>\n",
       "    <tr style=\"text-align: right;\">\n",
       "      <th></th>\n",
       "      <th>title</th>\n",
       "      <th>studio</th>\n",
       "      <th>domestic_gross</th>\n",
       "      <th>foreign_gross</th>\n",
       "      <th>year</th>\n",
       "      <th>worldwide_gross</th>\n",
       "    </tr>\n",
       "  </thead>\n",
       "  <tbody>\n",
       "    <tr>\n",
       "      <th>0</th>\n",
       "      <td>Toy Story 3</td>\n",
       "      <td>BV</td>\n",
       "      <td>415000000.0</td>\n",
       "      <td>652000000.0</td>\n",
       "      <td>2010</td>\n",
       "      <td>1.067000e+09</td>\n",
       "    </tr>\n",
       "    <tr>\n",
       "      <th>1</th>\n",
       "      <td>Alice in Wonderland (2010)</td>\n",
       "      <td>BV</td>\n",
       "      <td>334200000.0</td>\n",
       "      <td>691300000.0</td>\n",
       "      <td>2010</td>\n",
       "      <td>1.025500e+09</td>\n",
       "    </tr>\n",
       "    <tr>\n",
       "      <th>2</th>\n",
       "      <td>Harry Potter and the Deathly Hallows Part 1</td>\n",
       "      <td>WB</td>\n",
       "      <td>296000000.0</td>\n",
       "      <td>664300000.0</td>\n",
       "      <td>2010</td>\n",
       "      <td>9.603000e+08</td>\n",
       "    </tr>\n",
       "    <tr>\n",
       "      <th>3</th>\n",
       "      <td>Inception</td>\n",
       "      <td>WB</td>\n",
       "      <td>292600000.0</td>\n",
       "      <td>535700000.0</td>\n",
       "      <td>2010</td>\n",
       "      <td>8.283000e+08</td>\n",
       "    </tr>\n",
       "    <tr>\n",
       "      <th>4</th>\n",
       "      <td>Shrek Forever After</td>\n",
       "      <td>P/DW</td>\n",
       "      <td>238700000.0</td>\n",
       "      <td>513900000.0</td>\n",
       "      <td>2010</td>\n",
       "      <td>7.526000e+08</td>\n",
       "    </tr>\n",
       "  </tbody>\n",
       "</table>\n",
       "</div>"
      ],
      "text/plain": [
       "                                         title studio  domestic_gross  \\\n",
       "0                                  Toy Story 3     BV     415000000.0   \n",
       "1                   Alice in Wonderland (2010)     BV     334200000.0   \n",
       "2  Harry Potter and the Deathly Hallows Part 1     WB     296000000.0   \n",
       "3                                    Inception     WB     292600000.0   \n",
       "4                          Shrek Forever After   P/DW     238700000.0   \n",
       "\n",
       "   foreign_gross  year  worldwide_gross  \n",
       "0    652000000.0  2010     1.067000e+09  \n",
       "1    691300000.0  2010     1.025500e+09  \n",
       "2    664300000.0  2010     9.603000e+08  \n",
       "3    535700000.0  2010     8.283000e+08  \n",
       "4    513900000.0  2010     7.526000e+08  "
      ]
     },
     "execution_count": 29,
     "metadata": {},
     "output_type": "execute_result"
    }
   ],
   "source": [
    "bom_movie_gross.head()"
   ]
  },
  {
   "cell_type": "code",
   "execution_count": 30,
   "metadata": {
    "ExecuteTime": {
     "end_time": "2021-07-01T22:29:27.395119Z",
     "start_time": "2021-07-01T22:29:27.382243Z"
    }
   },
   "outputs": [],
   "source": [
    "top_grossing_films = bom_movie_gross.sort_values(by = 'worldwide_gross', ascending=False)[0:25]"
   ]
  },
  {
   "cell_type": "code",
   "execution_count": 31,
   "metadata": {
    "ExecuteTime": {
     "end_time": "2021-07-01T22:29:27.941697Z",
     "start_time": "2021-07-01T22:29:27.929144Z"
    }
   },
   "outputs": [
    {
     "data": {
      "text/html": [
       "<div>\n",
       "<style scoped>\n",
       "    .dataframe tbody tr th:only-of-type {\n",
       "        vertical-align: middle;\n",
       "    }\n",
       "\n",
       "    .dataframe tbody tr th {\n",
       "        vertical-align: top;\n",
       "    }\n",
       "\n",
       "    .dataframe thead th {\n",
       "        text-align: right;\n",
       "    }\n",
       "</style>\n",
       "<table border=\"1\" class=\"dataframe\">\n",
       "  <thead>\n",
       "    <tr style=\"text-align: right;\">\n",
       "      <th></th>\n",
       "      <th>title</th>\n",
       "      <th>studio</th>\n",
       "      <th>domestic_gross</th>\n",
       "      <th>foreign_gross</th>\n",
       "      <th>year</th>\n",
       "      <th>worldwide_gross</th>\n",
       "    </tr>\n",
       "  </thead>\n",
       "  <tbody>\n",
       "    <tr>\n",
       "      <th>727</th>\n",
       "      <td>Marvel's The Avengers</td>\n",
       "      <td>BV</td>\n",
       "      <td>623400000.0</td>\n",
       "      <td>895500000.0</td>\n",
       "      <td>2012</td>\n",
       "      <td>1.518900e+09</td>\n",
       "    </tr>\n",
       "    <tr>\n",
       "      <th>1875</th>\n",
       "      <td>Avengers: Age of Ultron</td>\n",
       "      <td>BV</td>\n",
       "      <td>459000000.0</td>\n",
       "      <td>946400000.0</td>\n",
       "      <td>2015</td>\n",
       "      <td>1.405400e+09</td>\n",
       "    </tr>\n",
       "    <tr>\n",
       "      <th>3080</th>\n",
       "      <td>Black Panther</td>\n",
       "      <td>BV</td>\n",
       "      <td>700100000.0</td>\n",
       "      <td>646900000.0</td>\n",
       "      <td>2018</td>\n",
       "      <td>1.347000e+09</td>\n",
       "    </tr>\n",
       "    <tr>\n",
       "      <th>328</th>\n",
       "      <td>Harry Potter and the Deathly Hallows Part 2</td>\n",
       "      <td>WB</td>\n",
       "      <td>381000000.0</td>\n",
       "      <td>960500000.0</td>\n",
       "      <td>2011</td>\n",
       "      <td>1.341500e+09</td>\n",
       "    </tr>\n",
       "    <tr>\n",
       "      <th>2758</th>\n",
       "      <td>Star Wars: The Last Jedi</td>\n",
       "      <td>BV</td>\n",
       "      <td>620200000.0</td>\n",
       "      <td>712400000.0</td>\n",
       "      <td>2017</td>\n",
       "      <td>1.332600e+09</td>\n",
       "    </tr>\n",
       "  </tbody>\n",
       "</table>\n",
       "</div>"
      ],
      "text/plain": [
       "                                            title studio  domestic_gross  \\\n",
       "727                         Marvel's The Avengers     BV     623400000.0   \n",
       "1875                      Avengers: Age of Ultron     BV     459000000.0   \n",
       "3080                                Black Panther     BV     700100000.0   \n",
       "328   Harry Potter and the Deathly Hallows Part 2     WB     381000000.0   \n",
       "2758                     Star Wars: The Last Jedi     BV     620200000.0   \n",
       "\n",
       "      foreign_gross  year  worldwide_gross  \n",
       "727     895500000.0  2012     1.518900e+09  \n",
       "1875    946400000.0  2015     1.405400e+09  \n",
       "3080    646900000.0  2018     1.347000e+09  \n",
       "328     960500000.0  2011     1.341500e+09  \n",
       "2758    712400000.0  2017     1.332600e+09  "
      ]
     },
     "execution_count": 31,
     "metadata": {},
     "output_type": "execute_result"
    }
   ],
   "source": [
    "top_grossing_films.head()"
   ]
  },
  {
   "cell_type": "code",
   "execution_count": 32,
   "metadata": {
    "ExecuteTime": {
     "end_time": "2021-07-01T22:29:28.911574Z",
     "start_time": "2021-07-01T22:29:28.411218Z"
    }
   },
   "outputs": [
    {
     "data": {
      "text/plain": [
       "<AxesSubplot:xlabel='title', ylabel='worldwide_gross'>"
      ]
     },
     "execution_count": 32,
     "metadata": {},
     "output_type": "execute_result"
    },
    {
     "data": {
      "image/png": "[encoded data removed]",
      "text/plain": [
       "<Figure size 432x288 with 1 Axes>"
      ]
     },
     "metadata": {
      "needs_background": "light"
     },
     "output_type": "display_data"
    }
   ],
   "source": [
    "sns.barplot(x = \"title\", y = \"worldwide_gross\", data = top_grossing_films)"
   ]
  },
  {
   "cell_type": "code",
   "execution_count": 33,
   "metadata": {
    "ExecuteTime": {
     "end_time": "2021-07-01T22:29:29.978885Z",
     "start_time": "2021-07-01T22:29:29.485834Z"
    }
   },
   "outputs": [
    {
     "data": {
      "text/plain": [
       "<AxesSubplot:xlabel='worldwide_gross', ylabel='title'>"
      ]
     },
     "execution_count": 33,
     "metadata": {},
     "output_type": "execute_result"
    },
    {
     "data": {
      "image/png": "[encoded data removed]",
      "text/plain": [
       "<Figure size 720x576 with 1 Axes>"
      ]
     },
     "metadata": {
      "needs_background": "light"
     },
     "output_type": "display_data"
    }
   ],
   "source": [
    "plt.figure(figsize=(10,8))\n",
    "sns.barplot(y = \"title\", x = \"worldwide_gross\", data = top_grossing_films)"
   ]
  },
  {
   "cell_type": "code",
   "execution_count": 34,
   "metadata": {
    "ExecuteTime": {
     "end_time": "2021-07-01T22:29:30.518449Z",
     "start_time": "2021-07-01T22:29:30.496916Z"
    }
   },
   "outputs": [],
   "source": [
    "studio_data = bom_movie_gross.groupby(by=\"studio\").agg(['median', 'sum'])"
   ]
  },
  {
   "cell_type": "code",
   "execution_count": 35,
   "metadata": {
    "ExecuteTime": {
     "end_time": "2021-07-01T22:29:31.195309Z",
     "start_time": "2021-07-01T22:29:31.182415Z"
    }
   },
   "outputs": [
    {
     "data": {
      "text/plain": [
       "studio\n",
       "3D        16000000.0\n",
       "A23              0.0\n",
       "A24      498919000.0\n",
       "ADC              0.0\n",
       "AF         4655000.0\n",
       "            ...     \n",
       "XL               0.0\n",
       "YFG              0.0\n",
       "Yash     295234500.0\n",
       "Zee        1671000.0\n",
       "Zeit.     22029200.0\n",
       "Name: sum, Length: 255, dtype: float64"
      ]
     },
     "execution_count": 35,
     "metadata": {},
     "output_type": "execute_result"
    }
   ],
   "source": [
    "studio_data['worldwide_gross']['sum']"
   ]
  },
  {
   "cell_type": "code",
   "execution_count": 36,
   "metadata": {
    "ExecuteTime": {
     "end_time": "2021-07-01T22:29:31.876052Z",
     "start_time": "2021-07-01T22:29:31.871380Z"
    }
   },
   "outputs": [],
   "source": [
    "top_grossing_studio = studio_data.sort_values(by = [('worldwide_gross', 'sum')], ascending=False)[0:25]"
   ]
  },
  {
   "cell_type": "code",
   "execution_count": 37,
   "metadata": {
    "ExecuteTime": {
     "end_time": "2021-07-01T22:29:32.675755Z",
     "start_time": "2021-07-01T22:29:32.670938Z"
    }
   },
   "outputs": [],
   "source": [
    "worldwide_studio_gross = top_grossing_studio['worldwide_gross']['sum']"
   ]
  },
  {
   "cell_type": "code",
   "execution_count": 38,
   "metadata": {
    "ExecuteTime": {
     "end_time": "2021-07-01T22:29:33.339904Z",
     "start_time": "2021-07-01T22:29:33.334234Z"
    }
   },
   "outputs": [
    {
     "data": {
      "text/plain": [
       "studio\n",
       "BV         4.419038e+10\n",
       "Fox        3.098037e+10\n",
       "WB         3.079150e+10\n",
       "Uni.       2.974681e+10\n",
       "Sony       2.240472e+10\n",
       "Par.       1.944420e+10\n",
       "WB (NL)    1.031410e+10\n",
       "LGF        8.467471e+09\n",
       "LG/S       5.318924e+09\n",
       "P/DW       5.076500e+09\n",
       "Wein.      4.095903e+09\n",
       "SGem       3.140162e+09\n",
       "WGUSA      2.778054e+09\n",
       "Focus      2.496769e+09\n",
       "FoxS       2.474688e+09\n",
       "Sum.       2.284971e+09\n",
       "CL         1.898686e+09\n",
       "Rela.      1.715417e+09\n",
       "TriS       1.713055e+09\n",
       "STX        1.474200e+09\n",
       "SPC        1.287556e+09\n",
       "ORF        1.192531e+09\n",
       "HC         8.703000e+08\n",
       "W/Dim.     7.573327e+08\n",
       "FD         6.675000e+08\n",
       "Name: sum, dtype: float64"
      ]
     },
     "execution_count": 38,
     "metadata": {},
     "output_type": "execute_result"
    }
   ],
   "source": [
    "worldwide_studio_gross"
   ]
  },
  {
   "cell_type": "code",
   "execution_count": 39,
   "metadata": {
    "ExecuteTime": {
     "end_time": "2021-07-01T22:29:34.111105Z",
     "start_time": "2021-07-01T22:29:34.104781Z"
    }
   },
   "outputs": [],
   "source": [
    "top_grossing_studio.reset_index(inplace=True)"
   ]
  },
  {
   "cell_type": "code",
   "execution_count": 40,
   "metadata": {
    "ExecuteTime": {
     "end_time": "2021-07-01T22:29:35.347477Z",
     "start_time": "2021-07-01T22:29:34.850773Z"
    }
   },
   "outputs": [
    {
     "data": {
      "text/plain": [
       "<AxesSubplot:ylabel='studio'>"
      ]
     },
     "execution_count": 40,
     "metadata": {},
     "output_type": "execute_result"
    },
    {
     "data": {
      "image/png": "[encoded data removed]",
      "text/plain": [
       "<Figure size 720x576 with 1 Axes>"
      ]
     },
     "metadata": {
      "needs_background": "light"
     },
     "output_type": "display_data"
    }
   ],
   "source": [
    "plt.figure(figsize=(10,8))\n",
    "sns.barplot(y = top_grossing_studio[\"studio\"], x = list(worldwide_studio_gross))"
   ]
  },
  {
   "cell_type": "markdown",
   "metadata": {},
   "source": [
    "## Recommendation\n",
    "\n",
    "**From the above plot it is pretty clear that BV, Fox and WB are the top grossing studios worldwide. I would recommend Microsoft to partner with one of those studios on their movie debut**"
   ]
  },
  {
   "cell_type": "markdown",
   "metadata": {},
   "source": [
    "# Most popular directors by no of votes"
   ]
  },
  {
   "cell_type": "code",
   "execution_count": 41,
   "metadata": {
    "ExecuteTime": {
     "end_time": "2021-07-01T22:29:36.068613Z",
     "start_time": "2021-07-01T22:29:36.063701Z"
    }
   },
   "outputs": [
    {
     "data": {
      "text/plain": [
       "['zippedData/imdb.title.crew.csv.gz',\n",
       " 'zippedData/tmdb.movies.csv.gz',\n",
       " 'zippedData/imdb.title.akas.csv.gz',\n",
       " 'zippedData/imdb.title.ratings.csv.gz',\n",
       " 'zippedData/imdb.name.basics.csv.gz',\n",
       " 'zippedData/imdb.title.basics.csv.gz',\n",
       " 'zippedData/tn.movie_budgets.csv.gz',\n",
       " 'zippedData/bom.movie_gross.csv.gz',\n",
       " 'zippedData/imdb.title.principals.csv.gz']"
      ]
     },
     "execution_count": 41,
     "metadata": {},
     "output_type": "execute_result"
    }
   ],
   "source": [
    "csv_files"
   ]
  },
  {
   "cell_type": "code",
   "execution_count": 42,
   "metadata": {
    "ExecuteTime": {
     "end_time": "2021-07-01T22:29:36.722278Z",
     "start_time": "2021-07-01T22:29:36.716048Z"
    }
   },
   "outputs": [],
   "source": [
    "imdb_title_ratings = csv_files_dict['imdb_title_ratings_gz']"
   ]
  },
  {
   "cell_type": "code",
   "execution_count": 43,
   "metadata": {
    "ExecuteTime": {
     "end_time": "2021-07-01T22:29:37.465574Z",
     "start_time": "2021-07-01T22:29:37.451191Z"
    }
   },
   "outputs": [
    {
     "name": "stdout",
     "output_type": "stream",
     "text": [
      "<class 'pandas.core.frame.DataFrame'>\n",
      "Index: 73856 entries, tt10356526 to tt9894098\n",
      "Data columns (total 2 columns):\n",
      " #   Column         Non-Null Count  Dtype  \n",
      "---  ------         --------------  -----  \n",
      " 0   averagerating  73856 non-null  float64\n",
      " 1   numvotes       73856 non-null  int64  \n",
      "dtypes: float64(1), int64(1)\n",
      "memory usage: 1.7+ MB\n"
     ]
    }
   ],
   "source": [
    "imdb_title_ratings.info()"
   ]
  },
  {
   "cell_type": "code",
   "execution_count": 44,
   "metadata": {
    "ExecuteTime": {
     "end_time": "2021-07-01T22:29:38.176962Z",
     "start_time": "2021-07-01T22:29:38.168340Z"
    }
   },
   "outputs": [
    {
     "data": {
      "text/html": [
       "<div>\n",
       "<style scoped>\n",
       "    .dataframe tbody tr th:only-of-type {\n",
       "        vertical-align: middle;\n",
       "    }\n",
       "\n",
       "    .dataframe tbody tr th {\n",
       "        vertical-align: top;\n",
       "    }\n",
       "\n",
       "    .dataframe thead th {\n",
       "        text-align: right;\n",
       "    }\n",
       "</style>\n",
       "<table border=\"1\" class=\"dataframe\">\n",
       "  <thead>\n",
       "    <tr style=\"text-align: right;\">\n",
       "      <th></th>\n",
       "      <th>averagerating</th>\n",
       "      <th>numvotes</th>\n",
       "    </tr>\n",
       "    <tr>\n",
       "      <th>tconst</th>\n",
       "      <th></th>\n",
       "      <th></th>\n",
       "    </tr>\n",
       "  </thead>\n",
       "  <tbody>\n",
       "    <tr>\n",
       "      <th>tt10356526</th>\n",
       "      <td>8.3</td>\n",
       "      <td>31</td>\n",
       "    </tr>\n",
       "    <tr>\n",
       "      <th>tt10384606</th>\n",
       "      <td>8.9</td>\n",
       "      <td>559</td>\n",
       "    </tr>\n",
       "    <tr>\n",
       "      <th>tt1042974</th>\n",
       "      <td>6.4</td>\n",
       "      <td>20</td>\n",
       "    </tr>\n",
       "    <tr>\n",
       "      <th>tt1043726</th>\n",
       "      <td>4.2</td>\n",
       "      <td>50352</td>\n",
       "    </tr>\n",
       "    <tr>\n",
       "      <th>tt1060240</th>\n",
       "      <td>6.5</td>\n",
       "      <td>21</td>\n",
       "    </tr>\n",
       "  </tbody>\n",
       "</table>\n",
       "</div>"
      ],
      "text/plain": [
       "            averagerating  numvotes\n",
       "tconst                             \n",
       "tt10356526            8.3        31\n",
       "tt10384606            8.9       559\n",
       "tt1042974             6.4        20\n",
       "tt1043726             4.2     50352\n",
       "tt1060240             6.5        21"
      ]
     },
     "execution_count": 44,
     "metadata": {},
     "output_type": "execute_result"
    }
   ],
   "source": [
    "imdb_title_ratings.head()"
   ]
  },
  {
   "cell_type": "code",
   "execution_count": 45,
   "metadata": {
    "ExecuteTime": {
     "end_time": "2021-07-01T22:29:38.878993Z",
     "start_time": "2021-07-01T22:29:38.875599Z"
    }
   },
   "outputs": [],
   "source": [
    "imdb_title_crew = csv_files_dict['imdb_title_crew_gz']"
   ]
  },
  {
   "cell_type": "code",
   "execution_count": 46,
   "metadata": {
    "ExecuteTime": {
     "end_time": "2021-07-01T22:29:39.537567Z",
     "start_time": "2021-07-01T22:29:39.509160Z"
    }
   },
   "outputs": [
    {
     "name": "stdout",
     "output_type": "stream",
     "text": [
      "<class 'pandas.core.frame.DataFrame'>\n",
      "Index: 146144 entries, tt0285252 to tt9010172\n",
      "Data columns (total 2 columns):\n",
      " #   Column     Non-Null Count   Dtype \n",
      "---  ------     --------------   ----- \n",
      " 0   directors  140417 non-null  object\n",
      " 1   writers    110261 non-null  object\n",
      "dtypes: object(2)\n",
      "memory usage: 3.3+ MB\n"
     ]
    }
   ],
   "source": [
    "imdb_title_crew.info()"
   ]
  },
  {
   "cell_type": "code",
   "execution_count": 47,
   "metadata": {
    "ExecuteTime": {
     "end_time": "2021-07-01T22:29:40.196862Z",
     "start_time": "2021-07-01T22:29:40.188497Z"
    }
   },
   "outputs": [
    {
     "data": {
      "text/html": [
       "<div>\n",
       "<style scoped>\n",
       "    .dataframe tbody tr th:only-of-type {\n",
       "        vertical-align: middle;\n",
       "    }\n",
       "\n",
       "    .dataframe tbody tr th {\n",
       "        vertical-align: top;\n",
       "    }\n",
       "\n",
       "    .dataframe thead th {\n",
       "        text-align: right;\n",
       "    }\n",
       "</style>\n",
       "<table border=\"1\" class=\"dataframe\">\n",
       "  <thead>\n",
       "    <tr style=\"text-align: right;\">\n",
       "      <th></th>\n",
       "      <th>directors</th>\n",
       "      <th>writers</th>\n",
       "    </tr>\n",
       "    <tr>\n",
       "      <th>tconst</th>\n",
       "      <th></th>\n",
       "      <th></th>\n",
       "    </tr>\n",
       "  </thead>\n",
       "  <tbody>\n",
       "    <tr>\n",
       "      <th>tt0285252</th>\n",
       "      <td>nm0899854</td>\n",
       "      <td>nm0899854</td>\n",
       "    </tr>\n",
       "    <tr>\n",
       "      <th>tt0438973</th>\n",
       "      <td>NaN</td>\n",
       "      <td>nm0175726,nm1802864</td>\n",
       "    </tr>\n",
       "    <tr>\n",
       "      <th>tt0462036</th>\n",
       "      <td>nm1940585</td>\n",
       "      <td>nm1940585</td>\n",
       "    </tr>\n",
       "    <tr>\n",
       "      <th>tt0835418</th>\n",
       "      <td>nm0151540</td>\n",
       "      <td>nm0310087,nm0841532</td>\n",
       "    </tr>\n",
       "    <tr>\n",
       "      <th>tt0878654</th>\n",
       "      <td>nm0089502,nm2291498,nm2292011</td>\n",
       "      <td>nm0284943</td>\n",
       "    </tr>\n",
       "  </tbody>\n",
       "</table>\n",
       "</div>"
      ],
      "text/plain": [
       "                               directors              writers\n",
       "tconst                                                       \n",
       "tt0285252                      nm0899854            nm0899854\n",
       "tt0438973                            NaN  nm0175726,nm1802864\n",
       "tt0462036                      nm1940585            nm1940585\n",
       "tt0835418                      nm0151540  nm0310087,nm0841532\n",
       "tt0878654  nm0089502,nm2291498,nm2292011            nm0284943"
      ]
     },
     "execution_count": 47,
     "metadata": {},
     "output_type": "execute_result"
    }
   ],
   "source": [
    "imdb_title_crew.head()"
   ]
  },
  {
   "cell_type": "code",
   "execution_count": 48,
   "metadata": {
    "ExecuteTime": {
     "end_time": "2021-07-01T22:29:40.830550Z",
     "start_time": "2021-07-01T22:29:40.828017Z"
    }
   },
   "outputs": [],
   "source": [
    "imdb_title_akas = csv_files_dict['imdb_title_akas_gz']"
   ]
  },
  {
   "cell_type": "code",
   "execution_count": 49,
   "metadata": {
    "ExecuteTime": {
     "end_time": "2021-07-01T22:29:41.545046Z",
     "start_time": "2021-07-01T22:29:41.464577Z"
    }
   },
   "outputs": [
    {
     "name": "stdout",
     "output_type": "stream",
     "text": [
      "<class 'pandas.core.frame.DataFrame'>\n",
      "Index: 331703 entries, tt0369610 to tt9880178\n",
      "Data columns (total 7 columns):\n",
      " #   Column             Non-Null Count   Dtype  \n",
      "---  ------             --------------   -----  \n",
      " 0   ordering           331703 non-null  int64  \n",
      " 1   title              331703 non-null  object \n",
      " 2   region             278410 non-null  object \n",
      " 3   language           41715 non-null   object \n",
      " 4   types              168447 non-null  object \n",
      " 5   attributes         14925 non-null   object \n",
      " 6   is_original_title  331678 non-null  float64\n",
      "dtypes: float64(1), int64(1), object(5)\n",
      "memory usage: 20.2+ MB\n"
     ]
    }
   ],
   "source": [
    "imdb_title_akas.info()"
   ]
  },
  {
   "cell_type": "code",
   "execution_count": 50,
   "metadata": {
    "ExecuteTime": {
     "end_time": "2021-07-01T22:29:42.134116Z",
     "start_time": "2021-07-01T22:29:42.121772Z"
    }
   },
   "outputs": [
    {
     "data": {
      "text/html": [
       "<div>\n",
       "<style scoped>\n",
       "    .dataframe tbody tr th:only-of-type {\n",
       "        vertical-align: middle;\n",
       "    }\n",
       "\n",
       "    .dataframe tbody tr th {\n",
       "        vertical-align: top;\n",
       "    }\n",
       "\n",
       "    .dataframe thead th {\n",
       "        text-align: right;\n",
       "    }\n",
       "</style>\n",
       "<table border=\"1\" class=\"dataframe\">\n",
       "  <thead>\n",
       "    <tr style=\"text-align: right;\">\n",
       "      <th></th>\n",
       "      <th>ordering</th>\n",
       "      <th>title</th>\n",
       "      <th>region</th>\n",
       "      <th>language</th>\n",
       "      <th>types</th>\n",
       "      <th>attributes</th>\n",
       "      <th>is_original_title</th>\n",
       "    </tr>\n",
       "    <tr>\n",
       "      <th>title_id</th>\n",
       "      <th></th>\n",
       "      <th></th>\n",
       "      <th></th>\n",
       "      <th></th>\n",
       "      <th></th>\n",
       "      <th></th>\n",
       "      <th></th>\n",
       "    </tr>\n",
       "  </thead>\n",
       "  <tbody>\n",
       "    <tr>\n",
       "      <th>tt0369610</th>\n",
       "      <td>10</td>\n",
       "      <td>Джурасик свят</td>\n",
       "      <td>BG</td>\n",
       "      <td>bg</td>\n",
       "      <td>NaN</td>\n",
       "      <td>NaN</td>\n",
       "      <td>0.0</td>\n",
       "    </tr>\n",
       "    <tr>\n",
       "      <th>tt0369610</th>\n",
       "      <td>11</td>\n",
       "      <td>Jurashikku warudo</td>\n",
       "      <td>JP</td>\n",
       "      <td>NaN</td>\n",
       "      <td>imdbDisplay</td>\n",
       "      <td>NaN</td>\n",
       "      <td>0.0</td>\n",
       "    </tr>\n",
       "    <tr>\n",
       "      <th>tt0369610</th>\n",
       "      <td>12</td>\n",
       "      <td>Jurassic World: O Mundo dos Dinossauros</td>\n",
       "      <td>BR</td>\n",
       "      <td>NaN</td>\n",
       "      <td>imdbDisplay</td>\n",
       "      <td>NaN</td>\n",
       "      <td>0.0</td>\n",
       "    </tr>\n",
       "    <tr>\n",
       "      <th>tt0369610</th>\n",
       "      <td>13</td>\n",
       "      <td>O Mundo dos Dinossauros</td>\n",
       "      <td>BR</td>\n",
       "      <td>NaN</td>\n",
       "      <td>NaN</td>\n",
       "      <td>short title</td>\n",
       "      <td>0.0</td>\n",
       "    </tr>\n",
       "    <tr>\n",
       "      <th>tt0369610</th>\n",
       "      <td>14</td>\n",
       "      <td>Jurassic World</td>\n",
       "      <td>FR</td>\n",
       "      <td>NaN</td>\n",
       "      <td>imdbDisplay</td>\n",
       "      <td>NaN</td>\n",
       "      <td>0.0</td>\n",
       "    </tr>\n",
       "  </tbody>\n",
       "</table>\n",
       "</div>"
      ],
      "text/plain": [
       "           ordering                                    title region language  \\\n",
       "title_id                                                                       \n",
       "tt0369610        10                            Джурасик свят     BG       bg   \n",
       "tt0369610        11                        Jurashikku warudo     JP      NaN   \n",
       "tt0369610        12  Jurassic World: O Mundo dos Dinossauros     BR      NaN   \n",
       "tt0369610        13                  O Mundo dos Dinossauros     BR      NaN   \n",
       "tt0369610        14                           Jurassic World     FR      NaN   \n",
       "\n",
       "                 types   attributes  is_original_title  \n",
       "title_id                                                \n",
       "tt0369610          NaN          NaN                0.0  \n",
       "tt0369610  imdbDisplay          NaN                0.0  \n",
       "tt0369610  imdbDisplay          NaN                0.0  \n",
       "tt0369610          NaN  short title                0.0  \n",
       "tt0369610  imdbDisplay          NaN                0.0  "
      ]
     },
     "execution_count": 50,
     "metadata": {},
     "output_type": "execute_result"
    }
   ],
   "source": [
    "imdb_title_akas.head()"
   ]
  },
  {
   "cell_type": "code",
   "execution_count": 51,
   "metadata": {
    "ExecuteTime": {
     "end_time": "2021-07-01T22:29:42.780259Z",
     "start_time": "2021-07-01T22:29:42.777402Z"
    }
   },
   "outputs": [],
   "source": [
    "imdb_name_basics = csv_files_dict['imdb_name_basics_gz']"
   ]
  },
  {
   "cell_type": "code",
   "execution_count": 52,
   "metadata": {
    "ExecuteTime": {
     "end_time": "2021-07-01T22:29:43.381769Z",
     "start_time": "2021-07-01T22:29:43.372167Z"
    }
   },
   "outputs": [
    {
     "data": {
      "text/html": [
       "<div>\n",
       "<style scoped>\n",
       "    .dataframe tbody tr th:only-of-type {\n",
       "        vertical-align: middle;\n",
       "    }\n",
       "\n",
       "    .dataframe tbody tr th {\n",
       "        vertical-align: top;\n",
       "    }\n",
       "\n",
       "    .dataframe thead th {\n",
       "        text-align: right;\n",
       "    }\n",
       "</style>\n",
       "<table border=\"1\" class=\"dataframe\">\n",
       "  <thead>\n",
       "    <tr style=\"text-align: right;\">\n",
       "      <th></th>\n",
       "      <th>primary_name</th>\n",
       "      <th>birth_year</th>\n",
       "      <th>death_year</th>\n",
       "      <th>primary_profession</th>\n",
       "      <th>known_for_titles</th>\n",
       "    </tr>\n",
       "    <tr>\n",
       "      <th>nconst</th>\n",
       "      <th></th>\n",
       "      <th></th>\n",
       "      <th></th>\n",
       "      <th></th>\n",
       "      <th></th>\n",
       "    </tr>\n",
       "  </thead>\n",
       "  <tbody>\n",
       "    <tr>\n",
       "      <th>nm0061671</th>\n",
       "      <td>Mary Ellen Bauder</td>\n",
       "      <td>NaN</td>\n",
       "      <td>NaN</td>\n",
       "      <td>miscellaneous,production_manager,producer</td>\n",
       "      <td>tt0837562,tt2398241,tt0844471,tt0118553</td>\n",
       "    </tr>\n",
       "    <tr>\n",
       "      <th>nm0061865</th>\n",
       "      <td>Joseph Bauer</td>\n",
       "      <td>NaN</td>\n",
       "      <td>NaN</td>\n",
       "      <td>composer,music_department,sound_department</td>\n",
       "      <td>tt0896534,tt6791238,tt0287072,tt1682940</td>\n",
       "    </tr>\n",
       "    <tr>\n",
       "      <th>nm0062070</th>\n",
       "      <td>Bruce Baum</td>\n",
       "      <td>NaN</td>\n",
       "      <td>NaN</td>\n",
       "      <td>miscellaneous,actor,writer</td>\n",
       "      <td>tt1470654,tt0363631,tt0104030,tt0102898</td>\n",
       "    </tr>\n",
       "    <tr>\n",
       "      <th>nm0062195</th>\n",
       "      <td>Axel Baumann</td>\n",
       "      <td>NaN</td>\n",
       "      <td>NaN</td>\n",
       "      <td>camera_department,cinematographer,art_department</td>\n",
       "      <td>tt0114371,tt2004304,tt1618448,tt1224387</td>\n",
       "    </tr>\n",
       "    <tr>\n",
       "      <th>nm0062798</th>\n",
       "      <td>Pete Baxter</td>\n",
       "      <td>NaN</td>\n",
       "      <td>NaN</td>\n",
       "      <td>production_designer,art_department,set_decorator</td>\n",
       "      <td>tt0452644,tt0452692,tt3458030,tt2178256</td>\n",
       "    </tr>\n",
       "  </tbody>\n",
       "</table>\n",
       "</div>"
      ],
      "text/plain": [
       "                primary_name  birth_year  death_year  \\\n",
       "nconst                                                 \n",
       "nm0061671  Mary Ellen Bauder         NaN         NaN   \n",
       "nm0061865       Joseph Bauer         NaN         NaN   \n",
       "nm0062070         Bruce Baum         NaN         NaN   \n",
       "nm0062195       Axel Baumann         NaN         NaN   \n",
       "nm0062798        Pete Baxter         NaN         NaN   \n",
       "\n",
       "                                         primary_profession  \\\n",
       "nconst                                                        \n",
       "nm0061671         miscellaneous,production_manager,producer   \n",
       "nm0061865        composer,music_department,sound_department   \n",
       "nm0062070                        miscellaneous,actor,writer   \n",
       "nm0062195  camera_department,cinematographer,art_department   \n",
       "nm0062798  production_designer,art_department,set_decorator   \n",
       "\n",
       "                                  known_for_titles  \n",
       "nconst                                              \n",
       "nm0061671  tt0837562,tt2398241,tt0844471,tt0118553  \n",
       "nm0061865  tt0896534,tt6791238,tt0287072,tt1682940  \n",
       "nm0062070  tt1470654,tt0363631,tt0104030,tt0102898  \n",
       "nm0062195  tt0114371,tt2004304,tt1618448,tt1224387  \n",
       "nm0062798  tt0452644,tt0452692,tt3458030,tt2178256  "
      ]
     },
     "execution_count": 52,
     "metadata": {},
     "output_type": "execute_result"
    }
   ],
   "source": [
    "imdb_name_basics.head()"
   ]
  },
  {
   "cell_type": "code",
   "execution_count": 53,
   "metadata": {
    "ExecuteTime": {
     "end_time": "2021-07-01T22:29:44.061159Z",
     "start_time": "2021-07-01T22:29:44.039910Z"
    }
   },
   "outputs": [],
   "source": [
    "imdb_name_basics.reset_index(inplace=True)\n",
    "imdb_title_akas.reset_index(inplace=True)\n",
    "imdb_title_crew.reset_index(inplace=True)\n",
    "imdb_title_ratings.reset_index(inplace=True)"
   ]
  },
  {
   "cell_type": "markdown",
   "metadata": {},
   "source": [
    "## Join title_akas with title_crew using tconst."
   ]
  },
  {
   "cell_type": "code",
   "execution_count": 54,
   "metadata": {
    "ExecuteTime": {
     "end_time": "2021-07-01T22:29:44.808443Z",
     "start_time": "2021-07-01T22:29:44.672529Z"
    }
   },
   "outputs": [],
   "source": [
    "imdb_movie_crew = pd.merge(imdb_title_akas, imdb_title_crew, how = 'inner', left_on= \"title_id\", right_on= \"tconst\")"
   ]
  },
  {
   "cell_type": "code",
   "execution_count": 55,
   "metadata": {
    "ExecuteTime": {
     "end_time": "2021-07-01T22:29:45.430563Z",
     "start_time": "2021-07-01T22:29:45.414404Z"
    }
   },
   "outputs": [
    {
     "data": {
      "text/html": [
       "<div>\n",
       "<style scoped>\n",
       "    .dataframe tbody tr th:only-of-type {\n",
       "        vertical-align: middle;\n",
       "    }\n",
       "\n",
       "    .dataframe tbody tr th {\n",
       "        vertical-align: top;\n",
       "    }\n",
       "\n",
       "    .dataframe thead th {\n",
       "        text-align: right;\n",
       "    }\n",
       "</style>\n",
       "<table border=\"1\" class=\"dataframe\">\n",
       "  <thead>\n",
       "    <tr style=\"text-align: right;\">\n",
       "      <th></th>\n",
       "      <th>title_id</th>\n",
       "      <th>ordering</th>\n",
       "      <th>title</th>\n",
       "      <th>region</th>\n",
       "      <th>language</th>\n",
       "      <th>types</th>\n",
       "      <th>attributes</th>\n",
       "      <th>is_original_title</th>\n",
       "      <th>tconst</th>\n",
       "      <th>directors</th>\n",
       "      <th>writers</th>\n",
       "    </tr>\n",
       "  </thead>\n",
       "  <tbody>\n",
       "    <tr>\n",
       "      <th>0</th>\n",
       "      <td>tt0369610</td>\n",
       "      <td>10</td>\n",
       "      <td>Джурасик свят</td>\n",
       "      <td>BG</td>\n",
       "      <td>bg</td>\n",
       "      <td>NaN</td>\n",
       "      <td>NaN</td>\n",
       "      <td>0.0</td>\n",
       "      <td>tt0369610</td>\n",
       "      <td>nm1119880</td>\n",
       "      <td>nm0415425,nm0798646,nm1119880,nm2081046,nm0000341</td>\n",
       "    </tr>\n",
       "    <tr>\n",
       "      <th>1</th>\n",
       "      <td>tt0369610</td>\n",
       "      <td>11</td>\n",
       "      <td>Jurashikku warudo</td>\n",
       "      <td>JP</td>\n",
       "      <td>NaN</td>\n",
       "      <td>imdbDisplay</td>\n",
       "      <td>NaN</td>\n",
       "      <td>0.0</td>\n",
       "      <td>tt0369610</td>\n",
       "      <td>nm1119880</td>\n",
       "      <td>nm0415425,nm0798646,nm1119880,nm2081046,nm0000341</td>\n",
       "    </tr>\n",
       "    <tr>\n",
       "      <th>2</th>\n",
       "      <td>tt0369610</td>\n",
       "      <td>12</td>\n",
       "      <td>Jurassic World: O Mundo dos Dinossauros</td>\n",
       "      <td>BR</td>\n",
       "      <td>NaN</td>\n",
       "      <td>imdbDisplay</td>\n",
       "      <td>NaN</td>\n",
       "      <td>0.0</td>\n",
       "      <td>tt0369610</td>\n",
       "      <td>nm1119880</td>\n",
       "      <td>nm0415425,nm0798646,nm1119880,nm2081046,nm0000341</td>\n",
       "    </tr>\n",
       "    <tr>\n",
       "      <th>3</th>\n",
       "      <td>tt0369610</td>\n",
       "      <td>13</td>\n",
       "      <td>O Mundo dos Dinossauros</td>\n",
       "      <td>BR</td>\n",
       "      <td>NaN</td>\n",
       "      <td>NaN</td>\n",
       "      <td>short title</td>\n",
       "      <td>0.0</td>\n",
       "      <td>tt0369610</td>\n",
       "      <td>nm1119880</td>\n",
       "      <td>nm0415425,nm0798646,nm1119880,nm2081046,nm0000341</td>\n",
       "    </tr>\n",
       "    <tr>\n",
       "      <th>4</th>\n",
       "      <td>tt0369610</td>\n",
       "      <td>14</td>\n",
       "      <td>Jurassic World</td>\n",
       "      <td>FR</td>\n",
       "      <td>NaN</td>\n",
       "      <td>imdbDisplay</td>\n",
       "      <td>NaN</td>\n",
       "      <td>0.0</td>\n",
       "      <td>tt0369610</td>\n",
       "      <td>nm1119880</td>\n",
       "      <td>nm0415425,nm0798646,nm1119880,nm2081046,nm0000341</td>\n",
       "    </tr>\n",
       "  </tbody>\n",
       "</table>\n",
       "</div>"
      ],
      "text/plain": [
       "    title_id  ordering                                    title region  \\\n",
       "0  tt0369610        10                            Джурасик свят     BG   \n",
       "1  tt0369610        11                        Jurashikku warudo     JP   \n",
       "2  tt0369610        12  Jurassic World: O Mundo dos Dinossauros     BR   \n",
       "3  tt0369610        13                  O Mundo dos Dinossauros     BR   \n",
       "4  tt0369610        14                           Jurassic World     FR   \n",
       "\n",
       "  language        types   attributes  is_original_title     tconst  directors  \\\n",
       "0       bg          NaN          NaN                0.0  tt0369610  nm1119880   \n",
       "1      NaN  imdbDisplay          NaN                0.0  tt0369610  nm1119880   \n",
       "2      NaN  imdbDisplay          NaN                0.0  tt0369610  nm1119880   \n",
       "3      NaN          NaN  short title                0.0  tt0369610  nm1119880   \n",
       "4      NaN  imdbDisplay          NaN                0.0  tt0369610  nm1119880   \n",
       "\n",
       "                                             writers  \n",
       "0  nm0415425,nm0798646,nm1119880,nm2081046,nm0000341  \n",
       "1  nm0415425,nm0798646,nm1119880,nm2081046,nm0000341  \n",
       "2  nm0415425,nm0798646,nm1119880,nm2081046,nm0000341  \n",
       "3  nm0415425,nm0798646,nm1119880,nm2081046,nm0000341  \n",
       "4  nm0415425,nm0798646,nm1119880,nm2081046,nm0000341  "
      ]
     },
     "execution_count": 55,
     "metadata": {},
     "output_type": "execute_result"
    }
   ],
   "source": [
    "imdb_movie_crew.head()"
   ]
  },
  {
   "cell_type": "code",
   "execution_count": 56,
   "metadata": {
    "ExecuteTime": {
     "end_time": "2021-07-01T22:29:46.289051Z",
     "start_time": "2021-07-01T22:29:46.091103Z"
    }
   },
   "outputs": [
    {
     "name": "stdout",
     "output_type": "stream",
     "text": [
      "<class 'pandas.core.frame.DataFrame'>\n",
      "Int64Index: 331703 entries, 0 to 331702\n",
      "Data columns (total 11 columns):\n",
      " #   Column             Non-Null Count   Dtype  \n",
      "---  ------             --------------   -----  \n",
      " 0   title_id           331703 non-null  object \n",
      " 1   ordering           331703 non-null  int64  \n",
      " 2   title              331703 non-null  object \n",
      " 3   region             278410 non-null  object \n",
      " 4   language           41715 non-null   object \n",
      " 5   types              168447 non-null  object \n",
      " 6   attributes         14925 non-null   object \n",
      " 7   is_original_title  331678 non-null  float64\n",
      " 8   tconst             331703 non-null  object \n",
      " 9   directors          328096 non-null  object \n",
      " 10  writers            291447 non-null  object \n",
      "dtypes: float64(1), int64(1), object(9)\n",
      "memory usage: 30.4+ MB\n"
     ]
    }
   ],
   "source": [
    "imdb_movie_crew.info()"
   ]
  },
  {
   "cell_type": "code",
   "execution_count": 57,
   "metadata": {
    "ExecuteTime": {
     "end_time": "2021-07-01T22:29:46.934161Z",
     "start_time": "2021-07-01T22:29:46.914789Z"
    }
   },
   "outputs": [
    {
     "data": {
      "text/plain": [
       "array(['bg', nan, 'he', 'fr', 'tr', 'ka', 'ta', 'te', 'en', 'sv', 'hr',\n",
       "       'de', 'hi', 'sl', 'ca', 'fa', 'es', 'ml', 'cmn', 'yue', 'qbp',\n",
       "       'cs', 'ar', 'ms', 'nl', 'qbn', 'tl', 'mr', 'id', 'ga', 'th', 'bs',\n",
       "       'bn', 'sr', 'sk', 'et', 'it', 'hu', 'da', 'el', 'pt', 'fi', 'no',\n",
       "       'ru', 'uk', 'ro', 'lt', 'ur', 'gsw', 'mi', 'az', 'eu', 'la', 'gl',\n",
       "       'af', 'kn', 'pl', 'yi', 'wo', 'zu', 'xh', 'st', 'tn', 'iu', 'vi',\n",
       "       'cy', 'ko', 'fro', 'gu', 'mk', 'ps', 'pa', 'zh', 'ja', 'gd', 'ku',\n",
       "       'qal'], dtype=object)"
      ]
     },
     "execution_count": 57,
     "metadata": {},
     "output_type": "execute_result"
    }
   ],
   "source": [
    "imdb_movie_crew.language.unique()"
   ]
  },
  {
   "cell_type": "code",
   "execution_count": 58,
   "metadata": {
    "ExecuteTime": {
     "end_time": "2021-07-01T22:29:47.574468Z",
     "start_time": "2021-07-01T22:29:47.538021Z"
    }
   },
   "outputs": [],
   "source": [
    "imdb_movie_crew = imdb_movie_crew[imdb_movie_crew.language == 'en']"
   ]
  },
  {
   "cell_type": "code",
   "execution_count": 59,
   "metadata": {
    "ExecuteTime": {
     "end_time": "2021-07-01T22:29:48.228983Z",
     "start_time": "2021-07-01T22:29:48.201105Z"
    }
   },
   "outputs": [
    {
     "name": "stdout",
     "output_type": "stream",
     "text": [
      "<class 'pandas.core.frame.DataFrame'>\n",
      "Int64Index: 22895 entries, 87 to 331702\n",
      "Data columns (total 11 columns):\n",
      " #   Column             Non-Null Count  Dtype  \n",
      "---  ------             --------------  -----  \n",
      " 0   title_id           22895 non-null  object \n",
      " 1   ordering           22895 non-null  int64  \n",
      " 2   title              22895 non-null  object \n",
      " 3   region             22895 non-null  object \n",
      " 4   language           22895 non-null  object \n",
      " 5   types              17937 non-null  object \n",
      " 6   attributes         3597 non-null   object \n",
      " 7   is_original_title  22895 non-null  float64\n",
      " 8   tconst             22895 non-null  object \n",
      " 9   directors          22778 non-null  object \n",
      " 10  writers            20435 non-null  object \n",
      "dtypes: float64(1), int64(1), object(9)\n",
      "memory usage: 2.1+ MB\n"
     ]
    }
   ],
   "source": [
    "imdb_movie_crew.info()"
   ]
  },
  {
   "cell_type": "code",
   "execution_count": 60,
   "metadata": {
    "ExecuteTime": {
     "end_time": "2021-07-01T22:29:48.986434Z",
     "start_time": "2021-07-01T22:29:48.968635Z"
    }
   },
   "outputs": [],
   "source": [
    "imdb_movie_crew.dropna(subset = [\"directors\"], inplace=True)"
   ]
  },
  {
   "cell_type": "code",
   "execution_count": 61,
   "metadata": {
    "ExecuteTime": {
     "end_time": "2021-07-01T22:29:49.670406Z",
     "start_time": "2021-07-01T22:29:49.647967Z"
    }
   },
   "outputs": [
    {
     "name": "stdout",
     "output_type": "stream",
     "text": [
      "<class 'pandas.core.frame.DataFrame'>\n",
      "Int64Index: 22778 entries, 87 to 331702\n",
      "Data columns (total 11 columns):\n",
      " #   Column             Non-Null Count  Dtype  \n",
      "---  ------             --------------  -----  \n",
      " 0   title_id           22778 non-null  object \n",
      " 1   ordering           22778 non-null  int64  \n",
      " 2   title              22778 non-null  object \n",
      " 3   region             22778 non-null  object \n",
      " 4   language           22778 non-null  object \n",
      " 5   types              17841 non-null  object \n",
      " 6   attributes         3578 non-null   object \n",
      " 7   is_original_title  22778 non-null  float64\n",
      " 8   tconst             22778 non-null  object \n",
      " 9   directors          22778 non-null  object \n",
      " 10  writers            20406 non-null  object \n",
      "dtypes: float64(1), int64(1), object(9)\n",
      "memory usage: 2.1+ MB\n"
     ]
    }
   ],
   "source": [
    "imdb_movie_crew.info()"
   ]
  },
  {
   "cell_type": "code",
   "execution_count": 62,
   "metadata": {
    "ExecuteTime": {
     "end_time": "2021-07-01T22:29:50.283743Z",
     "start_time": "2021-07-01T22:29:50.274535Z"
    }
   },
   "outputs": [],
   "source": [
    "imdb_movie_crew.drop(columns=['types', 'attributes'], inplace=True)"
   ]
  },
  {
   "cell_type": "code",
   "execution_count": 63,
   "metadata": {
    "ExecuteTime": {
     "end_time": "2021-07-01T22:29:50.865213Z",
     "start_time": "2021-07-01T22:29:50.839356Z"
    }
   },
   "outputs": [
    {
     "name": "stdout",
     "output_type": "stream",
     "text": [
      "<class 'pandas.core.frame.DataFrame'>\n",
      "Int64Index: 22778 entries, 87 to 331702\n",
      "Data columns (total 9 columns):\n",
      " #   Column             Non-Null Count  Dtype  \n",
      "---  ------             --------------  -----  \n",
      " 0   title_id           22778 non-null  object \n",
      " 1   ordering           22778 non-null  int64  \n",
      " 2   title              22778 non-null  object \n",
      " 3   region             22778 non-null  object \n",
      " 4   language           22778 non-null  object \n",
      " 5   is_original_title  22778 non-null  float64\n",
      " 6   tconst             22778 non-null  object \n",
      " 7   directors          22778 non-null  object \n",
      " 8   writers            20406 non-null  object \n",
      "dtypes: float64(1), int64(1), object(7)\n",
      "memory usage: 1.7+ MB\n"
     ]
    }
   ],
   "source": [
    "imdb_movie_crew.info()"
   ]
  },
  {
   "cell_type": "code",
   "execution_count": 64,
   "metadata": {
    "ExecuteTime": {
     "end_time": "2021-07-01T22:29:51.562751Z",
     "start_time": "2021-07-01T22:29:51.536292Z"
    }
   },
   "outputs": [
    {
     "data": {
      "text/html": [
       "<div>\n",
       "<style scoped>\n",
       "    .dataframe tbody tr th:only-of-type {\n",
       "        vertical-align: middle;\n",
       "    }\n",
       "\n",
       "    .dataframe tbody tr th {\n",
       "        vertical-align: top;\n",
       "    }\n",
       "\n",
       "    .dataframe thead th {\n",
       "        text-align: right;\n",
       "    }\n",
       "</style>\n",
       "<table border=\"1\" class=\"dataframe\">\n",
       "  <thead>\n",
       "    <tr style=\"text-align: right;\">\n",
       "      <th></th>\n",
       "      <th>title_id</th>\n",
       "      <th>ordering</th>\n",
       "      <th>title</th>\n",
       "      <th>region</th>\n",
       "      <th>language</th>\n",
       "      <th>is_original_title</th>\n",
       "      <th>tconst</th>\n",
       "      <th>directors</th>\n",
       "      <th>writers</th>\n",
       "    </tr>\n",
       "  </thead>\n",
       "  <tbody>\n",
       "    <tr>\n",
       "      <th>87</th>\n",
       "      <td>tt10027708</td>\n",
       "      <td>2</td>\n",
       "      <td>Miguelito</td>\n",
       "      <td>XWW</td>\n",
       "      <td>en</td>\n",
       "      <td>0.0</td>\n",
       "      <td>tt10027708</td>\n",
       "      <td>nm3495624</td>\n",
       "      <td>nm3495624</td>\n",
       "    </tr>\n",
       "    <tr>\n",
       "      <th>89</th>\n",
       "      <td>tt10027708</td>\n",
       "      <td>4</td>\n",
       "      <td>Miguelito</td>\n",
       "      <td>AU</td>\n",
       "      <td>en</td>\n",
       "      <td>0.0</td>\n",
       "      <td>tt10027708</td>\n",
       "      <td>nm3495624</td>\n",
       "      <td>nm3495624</td>\n",
       "    </tr>\n",
       "    <tr>\n",
       "      <th>95</th>\n",
       "      <td>tt1014759</td>\n",
       "      <td>10</td>\n",
       "      <td>Alice Dar Sarzamin E Ajayeb</td>\n",
       "      <td>IE</td>\n",
       "      <td>en</td>\n",
       "      <td>0.0</td>\n",
       "      <td>tt1014759</td>\n",
       "      <td>nm0000318</td>\n",
       "      <td>nm0941314,nm0140902</td>\n",
       "    </tr>\n",
       "    <tr>\n",
       "      <th>127</th>\n",
       "      <td>tt1014759</td>\n",
       "      <td>3</td>\n",
       "      <td>Alice in Wonderland</td>\n",
       "      <td>JP</td>\n",
       "      <td>en</td>\n",
       "      <td>0.0</td>\n",
       "      <td>tt1014759</td>\n",
       "      <td>nm0000318</td>\n",
       "      <td>nm0941314,nm0140902</td>\n",
       "    </tr>\n",
       "    <tr>\n",
       "      <th>142</th>\n",
       "      <td>tt10225354</td>\n",
       "      <td>3</td>\n",
       "      <td>Returning Home</td>\n",
       "      <td>XWW</td>\n",
       "      <td>en</td>\n",
       "      <td>0.0</td>\n",
       "      <td>tt10225354</td>\n",
       "      <td>nm6265549</td>\n",
       "      <td>nm6265549</td>\n",
       "    </tr>\n",
       "  </tbody>\n",
       "</table>\n",
       "</div>"
      ],
      "text/plain": [
       "       title_id  ordering                        title region language  \\\n",
       "87   tt10027708         2                    Miguelito    XWW       en   \n",
       "89   tt10027708         4                    Miguelito     AU       en   \n",
       "95    tt1014759        10  Alice Dar Sarzamin E Ajayeb     IE       en   \n",
       "127   tt1014759         3          Alice in Wonderland     JP       en   \n",
       "142  tt10225354         3               Returning Home    XWW       en   \n",
       "\n",
       "     is_original_title      tconst  directors              writers  \n",
       "87                 0.0  tt10027708  nm3495624            nm3495624  \n",
       "89                 0.0  tt10027708  nm3495624            nm3495624  \n",
       "95                 0.0   tt1014759  nm0000318  nm0941314,nm0140902  \n",
       "127                0.0   tt1014759  nm0000318  nm0941314,nm0140902  \n",
       "142                0.0  tt10225354  nm6265549            nm6265549  "
      ]
     },
     "execution_count": 64,
     "metadata": {},
     "output_type": "execute_result"
    }
   ],
   "source": [
    "imdb_movie_crew.head()"
   ]
  },
  {
   "cell_type": "markdown",
   "metadata": {},
   "source": [
    "## Join title_ratings with movie_crew"
   ]
  },
  {
   "cell_type": "code",
   "execution_count": 65,
   "metadata": {
    "ExecuteTime": {
     "end_time": "2021-07-01T22:29:52.322977Z",
     "start_time": "2021-07-01T22:29:52.268319Z"
    }
   },
   "outputs": [],
   "source": [
    "imdb_crew_ratings = pd.merge(imdb_movie_crew, imdb_title_ratings, left_on= \"title_id\", right_on= \"tconst\", how = \"inner\")"
   ]
  },
  {
   "cell_type": "code",
   "execution_count": 66,
   "metadata": {
    "ExecuteTime": {
     "end_time": "2021-07-01T22:29:52.359834Z",
     "start_time": "2021-07-01T22:29:52.327272Z"
    }
   },
   "outputs": [
    {
     "name": "stdout",
     "output_type": "stream",
     "text": [
      "<class 'pandas.core.frame.DataFrame'>\n",
      "Int64Index: 19211 entries, 0 to 19210\n",
      "Data columns (total 12 columns):\n",
      " #   Column             Non-Null Count  Dtype  \n",
      "---  ------             --------------  -----  \n",
      " 0   title_id           19211 non-null  object \n",
      " 1   ordering           19211 non-null  int64  \n",
      " 2   title              19211 non-null  object \n",
      " 3   region             19211 non-null  object \n",
      " 4   language           19211 non-null  object \n",
      " 5   is_original_title  19211 non-null  float64\n",
      " 6   tconst_x           19211 non-null  object \n",
      " 7   directors          19211 non-null  object \n",
      " 8   writers            17796 non-null  object \n",
      " 9   tconst_y           19211 non-null  object \n",
      " 10  averagerating      19211 non-null  float64\n",
      " 11  numvotes           19211 non-null  int64  \n",
      "dtypes: float64(2), int64(2), object(8)\n",
      "memory usage: 1.9+ MB\n"
     ]
    }
   ],
   "source": [
    "imdb_crew_ratings.info()"
   ]
  },
  {
   "cell_type": "code",
   "execution_count": 67,
   "metadata": {
    "ExecuteTime": {
     "end_time": "2021-07-01T22:29:53.680676Z",
     "start_time": "2021-07-01T22:29:53.667479Z"
    }
   },
   "outputs": [
    {
     "data": {
      "text/html": [
       "<div>\n",
       "<style scoped>\n",
       "    .dataframe tbody tr th:only-of-type {\n",
       "        vertical-align: middle;\n",
       "    }\n",
       "\n",
       "    .dataframe tbody tr th {\n",
       "        vertical-align: top;\n",
       "    }\n",
       "\n",
       "    .dataframe thead th {\n",
       "        text-align: right;\n",
       "    }\n",
       "</style>\n",
       "<table border=\"1\" class=\"dataframe\">\n",
       "  <thead>\n",
       "    <tr style=\"text-align: right;\">\n",
       "      <th></th>\n",
       "      <th>title_id</th>\n",
       "      <th>ordering</th>\n",
       "      <th>title</th>\n",
       "      <th>region</th>\n",
       "      <th>language</th>\n",
       "      <th>is_original_title</th>\n",
       "      <th>tconst_x</th>\n",
       "      <th>directors</th>\n",
       "      <th>writers</th>\n",
       "      <th>tconst_y</th>\n",
       "      <th>averagerating</th>\n",
       "      <th>numvotes</th>\n",
       "    </tr>\n",
       "  </thead>\n",
       "  <tbody>\n",
       "    <tr>\n",
       "      <th>0</th>\n",
       "      <td>tt1014759</td>\n",
       "      <td>10</td>\n",
       "      <td>Alice Dar Sarzamin E Ajayeb</td>\n",
       "      <td>IE</td>\n",
       "      <td>en</td>\n",
       "      <td>0.0</td>\n",
       "      <td>tt1014759</td>\n",
       "      <td>nm0000318</td>\n",
       "      <td>nm0941314,nm0140902</td>\n",
       "      <td>tt1014759</td>\n",
       "      <td>6.5</td>\n",
       "      <td>358813</td>\n",
       "    </tr>\n",
       "    <tr>\n",
       "      <th>1</th>\n",
       "      <td>tt1014759</td>\n",
       "      <td>3</td>\n",
       "      <td>Alice in Wonderland</td>\n",
       "      <td>JP</td>\n",
       "      <td>en</td>\n",
       "      <td>0.0</td>\n",
       "      <td>tt1014759</td>\n",
       "      <td>nm0000318</td>\n",
       "      <td>nm0941314,nm0140902</td>\n",
       "      <td>tt1014759</td>\n",
       "      <td>6.5</td>\n",
       "      <td>358813</td>\n",
       "    </tr>\n",
       "    <tr>\n",
       "      <th>2</th>\n",
       "      <td>tt1182315</td>\n",
       "      <td>2</td>\n",
       "      <td>Black Buenos Aires</td>\n",
       "      <td>XWW</td>\n",
       "      <td>en</td>\n",
       "      <td>0.0</td>\n",
       "      <td>tt1182315</td>\n",
       "      <td>nm1413776</td>\n",
       "      <td>nm0267066,nm1413776</td>\n",
       "      <td>tt1182315</td>\n",
       "      <td>3.4</td>\n",
       "      <td>123</td>\n",
       "    </tr>\n",
       "    <tr>\n",
       "      <th>3</th>\n",
       "      <td>tt1233259</td>\n",
       "      <td>1</td>\n",
       "      <td>Prince Killian and the Holy Grail</td>\n",
       "      <td>CA</td>\n",
       "      <td>en</td>\n",
       "      <td>0.0</td>\n",
       "      <td>tt1233259</td>\n",
       "      <td>nm0379872</td>\n",
       "      <td>nm0602358,nm1938616</td>\n",
       "      <td>tt1233259</td>\n",
       "      <td>2.9</td>\n",
       "      <td>521</td>\n",
       "    </tr>\n",
       "    <tr>\n",
       "      <th>4</th>\n",
       "      <td>tt1263750</td>\n",
       "      <td>19</td>\n",
       "      <td>Room in Rome</td>\n",
       "      <td>XWW</td>\n",
       "      <td>en</td>\n",
       "      <td>0.0</td>\n",
       "      <td>tt1263750</td>\n",
       "      <td>nm0575523</td>\n",
       "      <td>nm1471503,nm0575523,nm0297545</td>\n",
       "      <td>tt1263750</td>\n",
       "      <td>6.2</td>\n",
       "      <td>20455</td>\n",
       "    </tr>\n",
       "  </tbody>\n",
       "</table>\n",
       "</div>"
      ],
      "text/plain": [
       "    title_id  ordering                              title region language  \\\n",
       "0  tt1014759        10        Alice Dar Sarzamin E Ajayeb     IE       en   \n",
       "1  tt1014759         3                Alice in Wonderland     JP       en   \n",
       "2  tt1182315         2                 Black Buenos Aires    XWW       en   \n",
       "3  tt1233259         1  Prince Killian and the Holy Grail     CA       en   \n",
       "4  tt1263750        19                       Room in Rome    XWW       en   \n",
       "\n",
       "   is_original_title   tconst_x  directors                        writers  \\\n",
       "0                0.0  tt1014759  nm0000318            nm0941314,nm0140902   \n",
       "1                0.0  tt1014759  nm0000318            nm0941314,nm0140902   \n",
       "2                0.0  tt1182315  nm1413776            nm0267066,nm1413776   \n",
       "3                0.0  tt1233259  nm0379872            nm0602358,nm1938616   \n",
       "4                0.0  tt1263750  nm0575523  nm1471503,nm0575523,nm0297545   \n",
       "\n",
       "    tconst_y  averagerating  numvotes  \n",
       "0  tt1014759            6.5    358813  \n",
       "1  tt1014759            6.5    358813  \n",
       "2  tt1182315            3.4       123  \n",
       "3  tt1233259            2.9       521  \n",
       "4  tt1263750            6.2     20455  "
      ]
     },
     "execution_count": 67,
     "metadata": {},
     "output_type": "execute_result"
    }
   ],
   "source": [
    "imdb_crew_ratings.head()"
   ]
  },
  {
   "cell_type": "code",
   "execution_count": 68,
   "metadata": {
    "ExecuteTime": {
     "end_time": "2021-07-01T22:30:43.702703Z",
     "start_time": "2021-07-01T22:30:43.697466Z"
    }
   },
   "outputs": [],
   "source": [
    "imdb_crew_ratings.drop(columns=['tconst_x', 'tconst_y'], inplace=True)"
   ]
  },
  {
   "cell_type": "code",
   "execution_count": 69,
   "metadata": {
    "ExecuteTime": {
     "end_time": "2021-07-01T22:30:57.611593Z",
     "start_time": "2021-07-01T22:30:57.601601Z"
    }
   },
   "outputs": [
    {
     "data": {
      "text/html": [
       "<div>\n",
       "<style scoped>\n",
       "    .dataframe tbody tr th:only-of-type {\n",
       "        vertical-align: middle;\n",
       "    }\n",
       "\n",
       "    .dataframe tbody tr th {\n",
       "        vertical-align: top;\n",
       "    }\n",
       "\n",
       "    .dataframe thead th {\n",
       "        text-align: right;\n",
       "    }\n",
       "</style>\n",
       "<table border=\"1\" class=\"dataframe\">\n",
       "  <thead>\n",
       "    <tr style=\"text-align: right;\">\n",
       "      <th></th>\n",
       "      <th>title_id</th>\n",
       "      <th>ordering</th>\n",
       "      <th>title</th>\n",
       "      <th>region</th>\n",
       "      <th>language</th>\n",
       "      <th>is_original_title</th>\n",
       "      <th>directors</th>\n",
       "      <th>writers</th>\n",
       "      <th>averagerating</th>\n",
       "      <th>numvotes</th>\n",
       "    </tr>\n",
       "  </thead>\n",
       "  <tbody>\n",
       "    <tr>\n",
       "      <th>0</th>\n",
       "      <td>tt1014759</td>\n",
       "      <td>10</td>\n",
       "      <td>Alice Dar Sarzamin E Ajayeb</td>\n",
       "      <td>IE</td>\n",
       "      <td>en</td>\n",
       "      <td>0.0</td>\n",
       "      <td>nm0000318</td>\n",
       "      <td>nm0941314,nm0140902</td>\n",
       "      <td>6.5</td>\n",
       "      <td>358813</td>\n",
       "    </tr>\n",
       "    <tr>\n",
       "      <th>1</th>\n",
       "      <td>tt1014759</td>\n",
       "      <td>3</td>\n",
       "      <td>Alice in Wonderland</td>\n",
       "      <td>JP</td>\n",
       "      <td>en</td>\n",
       "      <td>0.0</td>\n",
       "      <td>nm0000318</td>\n",
       "      <td>nm0941314,nm0140902</td>\n",
       "      <td>6.5</td>\n",
       "      <td>358813</td>\n",
       "    </tr>\n",
       "    <tr>\n",
       "      <th>2</th>\n",
       "      <td>tt1182315</td>\n",
       "      <td>2</td>\n",
       "      <td>Black Buenos Aires</td>\n",
       "      <td>XWW</td>\n",
       "      <td>en</td>\n",
       "      <td>0.0</td>\n",
       "      <td>nm1413776</td>\n",
       "      <td>nm0267066,nm1413776</td>\n",
       "      <td>3.4</td>\n",
       "      <td>123</td>\n",
       "    </tr>\n",
       "    <tr>\n",
       "      <th>3</th>\n",
       "      <td>tt1233259</td>\n",
       "      <td>1</td>\n",
       "      <td>Prince Killian and the Holy Grail</td>\n",
       "      <td>CA</td>\n",
       "      <td>en</td>\n",
       "      <td>0.0</td>\n",
       "      <td>nm0379872</td>\n",
       "      <td>nm0602358,nm1938616</td>\n",
       "      <td>2.9</td>\n",
       "      <td>521</td>\n",
       "    </tr>\n",
       "    <tr>\n",
       "      <th>4</th>\n",
       "      <td>tt1263750</td>\n",
       "      <td>19</td>\n",
       "      <td>Room in Rome</td>\n",
       "      <td>XWW</td>\n",
       "      <td>en</td>\n",
       "      <td>0.0</td>\n",
       "      <td>nm0575523</td>\n",
       "      <td>nm1471503,nm0575523,nm0297545</td>\n",
       "      <td>6.2</td>\n",
       "      <td>20455</td>\n",
       "    </tr>\n",
       "  </tbody>\n",
       "</table>\n",
       "</div>"
      ],
      "text/plain": [
       "    title_id  ordering                              title region language  \\\n",
       "0  tt1014759        10        Alice Dar Sarzamin E Ajayeb     IE       en   \n",
       "1  tt1014759         3                Alice in Wonderland     JP       en   \n",
       "2  tt1182315         2                 Black Buenos Aires    XWW       en   \n",
       "3  tt1233259         1  Prince Killian and the Holy Grail     CA       en   \n",
       "4  tt1263750        19                       Room in Rome    XWW       en   \n",
       "\n",
       "   is_original_title  directors                        writers  averagerating  \\\n",
       "0                0.0  nm0000318            nm0941314,nm0140902            6.5   \n",
       "1                0.0  nm0000318            nm0941314,nm0140902            6.5   \n",
       "2                0.0  nm1413776            nm0267066,nm1413776            3.4   \n",
       "3                0.0  nm0379872            nm0602358,nm1938616            2.9   \n",
       "4                0.0  nm0575523  nm1471503,nm0575523,nm0297545            6.2   \n",
       "\n",
       "   numvotes  \n",
       "0    358813  \n",
       "1    358813  \n",
       "2       123  \n",
       "3       521  \n",
       "4     20455  "
      ]
     },
     "execution_count": 69,
     "metadata": {},
     "output_type": "execute_result"
    }
   ],
   "source": [
    "imdb_crew_ratings.head()"
   ]
  },
  {
   "cell_type": "markdown",
   "metadata": {},
   "source": [
    "**We need to consider that movies with low no of votes will tend to have a higher rating. We will only look at movies over 11000 votes**"
   ]
  },
  {
   "cell_type": "code",
   "execution_count": 135,
   "metadata": {
    "ExecuteTime": {
     "end_time": "2021-07-01T22:49:03.838505Z",
     "start_time": "2021-07-01T22:49:03.835076Z"
    }
   },
   "outputs": [],
   "source": [
    "imdb_crew_ratings = imdb_crew_ratings[imdb_crew_ratings.numvotes > 11000]"
   ]
  },
  {
   "cell_type": "code",
   "execution_count": 136,
   "metadata": {
    "ExecuteTime": {
     "end_time": "2021-07-01T22:49:04.452670Z",
     "start_time": "2021-07-01T22:49:04.444143Z"
    }
   },
   "outputs": [
    {
     "name": "stdout",
     "output_type": "stream",
     "text": [
      "<class 'pandas.core.frame.DataFrame'>\n",
      "Int64Index: 1409 entries, 0 to 19155\n",
      "Data columns (total 10 columns):\n",
      " #   Column             Non-Null Count  Dtype  \n",
      "---  ------             --------------  -----  \n",
      " 0   title_id           1409 non-null   object \n",
      " 1   ordering           1409 non-null   int64  \n",
      " 2   title              1409 non-null   object \n",
      " 3   region             1409 non-null   object \n",
      " 4   language           1409 non-null   object \n",
      " 5   is_original_title  1409 non-null   float64\n",
      " 6   directors          1409 non-null   object \n",
      " 7   writers            1401 non-null   object \n",
      " 8   averagerating      1409 non-null   float64\n",
      " 9   numvotes           1409 non-null   int64  \n",
      "dtypes: float64(2), int64(2), object(6)\n",
      "memory usage: 121.1+ KB\n"
     ]
    }
   ],
   "source": [
    "imdb_crew_ratings.info()"
   ]
  },
  {
   "cell_type": "code",
   "execution_count": 137,
   "metadata": {
    "ExecuteTime": {
     "end_time": "2021-07-01T22:49:05.004533Z",
     "start_time": "2021-07-01T22:49:04.999737Z"
    }
   },
   "outputs": [],
   "source": [
    "imdb_crew_ratings_sorted = imdb_crew_ratings.sort_values(by = ['averagerating', 'numvotes'], ascending=False)"
   ]
  },
  {
   "cell_type": "code",
   "execution_count": 138,
   "metadata": {
    "ExecuteTime": {
     "end_time": "2021-07-01T22:49:05.545194Z",
     "start_time": "2021-07-01T22:49:05.534953Z"
    }
   },
   "outputs": [
    {
     "data": {
      "text/html": [
       "<div>\n",
       "<style scoped>\n",
       "    .dataframe tbody tr th:only-of-type {\n",
       "        vertical-align: middle;\n",
       "    }\n",
       "\n",
       "    .dataframe tbody tr th {\n",
       "        vertical-align: top;\n",
       "    }\n",
       "\n",
       "    .dataframe thead th {\n",
       "        text-align: right;\n",
       "    }\n",
       "</style>\n",
       "<table border=\"1\" class=\"dataframe\">\n",
       "  <thead>\n",
       "    <tr style=\"text-align: right;\">\n",
       "      <th></th>\n",
       "      <th>title_id</th>\n",
       "      <th>ordering</th>\n",
       "      <th>title</th>\n",
       "      <th>region</th>\n",
       "      <th>language</th>\n",
       "      <th>is_original_title</th>\n",
       "      <th>directors</th>\n",
       "      <th>writers</th>\n",
       "      <th>averagerating</th>\n",
       "      <th>numvotes</th>\n",
       "    </tr>\n",
       "  </thead>\n",
       "  <tbody>\n",
       "    <tr>\n",
       "      <th>10902</th>\n",
       "      <td>tt5813916</td>\n",
       "      <td>7</td>\n",
       "      <td>The Mountain II</td>\n",
       "      <td>XWW</td>\n",
       "      <td>en</td>\n",
       "      <td>0.0</td>\n",
       "      <td>nm3809021</td>\n",
       "      <td>nm3809021</td>\n",
       "      <td>9.3</td>\n",
       "      <td>100568</td>\n",
       "    </tr>\n",
       "    <tr>\n",
       "      <th>11307</th>\n",
       "      <td>tt5354160</td>\n",
       "      <td>2</td>\n",
       "      <td>Mirror Game</td>\n",
       "      <td>BD</td>\n",
       "      <td>en</td>\n",
       "      <td>0.0</td>\n",
       "      <td>nm2755490</td>\n",
       "      <td>nm7861816,nm7861817,nm7861818</td>\n",
       "      <td>9.3</td>\n",
       "      <td>18470</td>\n",
       "    </tr>\n",
       "    <tr>\n",
       "      <th>492</th>\n",
       "      <td>tt1375666</td>\n",
       "      <td>40</td>\n",
       "      <td>Inception</td>\n",
       "      <td>XWW</td>\n",
       "      <td>en</td>\n",
       "      <td>0.0</td>\n",
       "      <td>nm0634240</td>\n",
       "      <td>nm0634240</td>\n",
       "      <td>8.8</td>\n",
       "      <td>1841066</td>\n",
       "    </tr>\n",
       "    <tr>\n",
       "      <th>493</th>\n",
       "      <td>tt1375666</td>\n",
       "      <td>8</td>\n",
       "      <td>Inception</td>\n",
       "      <td>US</td>\n",
       "      <td>en</td>\n",
       "      <td>0.0</td>\n",
       "      <td>nm0634240</td>\n",
       "      <td>nm0634240</td>\n",
       "      <td>8.8</td>\n",
       "      <td>1841066</td>\n",
       "    </tr>\n",
       "    <tr>\n",
       "      <th>10522</th>\n",
       "      <td>tt4154796</td>\n",
       "      <td>18</td>\n",
       "      <td>Avengers: Endgame</td>\n",
       "      <td>US</td>\n",
       "      <td>en</td>\n",
       "      <td>0.0</td>\n",
       "      <td>nm0751577,nm0751648</td>\n",
       "      <td>nm1321655,nm1321656,nm0498278,nm0456158,nm4160687</td>\n",
       "      <td>8.8</td>\n",
       "      <td>441135</td>\n",
       "    </tr>\n",
       "  </tbody>\n",
       "</table>\n",
       "</div>"
      ],
      "text/plain": [
       "        title_id  ordering              title region language  \\\n",
       "10902  tt5813916         7    The Mountain II    XWW       en   \n",
       "11307  tt5354160         2        Mirror Game     BD       en   \n",
       "492    tt1375666        40          Inception    XWW       en   \n",
       "493    tt1375666         8          Inception     US       en   \n",
       "10522  tt4154796        18  Avengers: Endgame     US       en   \n",
       "\n",
       "       is_original_title            directors  \\\n",
       "10902                0.0            nm3809021   \n",
       "11307                0.0            nm2755490   \n",
       "492                  0.0            nm0634240   \n",
       "493                  0.0            nm0634240   \n",
       "10522                0.0  nm0751577,nm0751648   \n",
       "\n",
       "                                                 writers  averagerating  \\\n",
       "10902                                          nm3809021            9.3   \n",
       "11307                      nm7861816,nm7861817,nm7861818            9.3   \n",
       "492                                            nm0634240            8.8   \n",
       "493                                            nm0634240            8.8   \n",
       "10522  nm1321655,nm1321656,nm0498278,nm0456158,nm4160687            8.8   \n",
       "\n",
       "       numvotes  \n",
       "10902    100568  \n",
       "11307     18470  \n",
       "492     1841066  \n",
       "493     1841066  \n",
       "10522    441135  "
      ]
     },
     "execution_count": 138,
     "metadata": {},
     "output_type": "execute_result"
    }
   ],
   "source": [
    "imdb_crew_ratings_sorted.head()"
   ]
  },
  {
   "cell_type": "code",
   "execution_count": 139,
   "metadata": {
    "ExecuteTime": {
     "end_time": "2021-07-01T22:49:06.123620Z",
     "start_time": "2021-07-01T22:49:06.120266Z"
    }
   },
   "outputs": [],
   "source": [
    "imdb_crew_ratings_sorted = imdb_crew_ratings_sorted.drop_duplicates(subset = ['title'])"
   ]
  },
  {
   "cell_type": "code",
   "execution_count": 140,
   "metadata": {
    "ExecuteTime": {
     "end_time": "2021-07-01T22:49:06.660450Z",
     "start_time": "2021-07-01T22:49:06.651171Z"
    }
   },
   "outputs": [
    {
     "data": {
      "text/html": [
       "<div>\n",
       "<style scoped>\n",
       "    .dataframe tbody tr th:only-of-type {\n",
       "        vertical-align: middle;\n",
       "    }\n",
       "\n",
       "    .dataframe tbody tr th {\n",
       "        vertical-align: top;\n",
       "    }\n",
       "\n",
       "    .dataframe thead th {\n",
       "        text-align: right;\n",
       "    }\n",
       "</style>\n",
       "<table border=\"1\" class=\"dataframe\">\n",
       "  <thead>\n",
       "    <tr style=\"text-align: right;\">\n",
       "      <th></th>\n",
       "      <th>title_id</th>\n",
       "      <th>ordering</th>\n",
       "      <th>title</th>\n",
       "      <th>region</th>\n",
       "      <th>language</th>\n",
       "      <th>is_original_title</th>\n",
       "      <th>directors</th>\n",
       "      <th>writers</th>\n",
       "      <th>averagerating</th>\n",
       "      <th>numvotes</th>\n",
       "    </tr>\n",
       "  </thead>\n",
       "  <tbody>\n",
       "    <tr>\n",
       "      <th>10902</th>\n",
       "      <td>tt5813916</td>\n",
       "      <td>7</td>\n",
       "      <td>The Mountain II</td>\n",
       "      <td>XWW</td>\n",
       "      <td>en</td>\n",
       "      <td>0.0</td>\n",
       "      <td>nm3809021</td>\n",
       "      <td>nm3809021</td>\n",
       "      <td>9.3</td>\n",
       "      <td>100568</td>\n",
       "    </tr>\n",
       "    <tr>\n",
       "      <th>11307</th>\n",
       "      <td>tt5354160</td>\n",
       "      <td>2</td>\n",
       "      <td>Mirror Game</td>\n",
       "      <td>BD</td>\n",
       "      <td>en</td>\n",
       "      <td>0.0</td>\n",
       "      <td>nm2755490</td>\n",
       "      <td>nm7861816,nm7861817,nm7861818</td>\n",
       "      <td>9.3</td>\n",
       "      <td>18470</td>\n",
       "    </tr>\n",
       "    <tr>\n",
       "      <th>492</th>\n",
       "      <td>tt1375666</td>\n",
       "      <td>40</td>\n",
       "      <td>Inception</td>\n",
       "      <td>XWW</td>\n",
       "      <td>en</td>\n",
       "      <td>0.0</td>\n",
       "      <td>nm0634240</td>\n",
       "      <td>nm0634240</td>\n",
       "      <td>8.8</td>\n",
       "      <td>1841066</td>\n",
       "    </tr>\n",
       "    <tr>\n",
       "      <th>10522</th>\n",
       "      <td>tt4154796</td>\n",
       "      <td>18</td>\n",
       "      <td>Avengers: Endgame</td>\n",
       "      <td>US</td>\n",
       "      <td>en</td>\n",
       "      <td>0.0</td>\n",
       "      <td>nm0751577,nm0751648</td>\n",
       "      <td>nm1321655,nm1321656,nm0498278,nm0456158,nm4160687</td>\n",
       "      <td>8.8</td>\n",
       "      <td>441135</td>\n",
       "    </tr>\n",
       "    <tr>\n",
       "      <th>10523</th>\n",
       "      <td>tt4154796</td>\n",
       "      <td>20</td>\n",
       "      <td>Avengers: Infinity War - Part II</td>\n",
       "      <td>XWW</td>\n",
       "      <td>en</td>\n",
       "      <td>0.0</td>\n",
       "      <td>nm0751577,nm0751648</td>\n",
       "      <td>nm1321655,nm1321656,nm0498278,nm0456158,nm4160687</td>\n",
       "      <td>8.8</td>\n",
       "      <td>441135</td>\n",
       "    </tr>\n",
       "  </tbody>\n",
       "</table>\n",
       "</div>"
      ],
      "text/plain": [
       "        title_id  ordering                             title region language  \\\n",
       "10902  tt5813916         7                   The Mountain II    XWW       en   \n",
       "11307  tt5354160         2                       Mirror Game     BD       en   \n",
       "492    tt1375666        40                         Inception    XWW       en   \n",
       "10522  tt4154796        18                 Avengers: Endgame     US       en   \n",
       "10523  tt4154796        20  Avengers: Infinity War - Part II    XWW       en   \n",
       "\n",
       "       is_original_title            directors  \\\n",
       "10902                0.0            nm3809021   \n",
       "11307                0.0            nm2755490   \n",
       "492                  0.0            nm0634240   \n",
       "10522                0.0  nm0751577,nm0751648   \n",
       "10523                0.0  nm0751577,nm0751648   \n",
       "\n",
       "                                                 writers  averagerating  \\\n",
       "10902                                          nm3809021            9.3   \n",
       "11307                      nm7861816,nm7861817,nm7861818            9.3   \n",
       "492                                            nm0634240            8.8   \n",
       "10522  nm1321655,nm1321656,nm0498278,nm0456158,nm4160687            8.8   \n",
       "10523  nm1321655,nm1321656,nm0498278,nm0456158,nm4160687            8.8   \n",
       "\n",
       "       numvotes  \n",
       "10902    100568  \n",
       "11307     18470  \n",
       "492     1841066  \n",
       "10522    441135  \n",
       "10523    441135  "
      ]
     },
     "execution_count": 140,
     "metadata": {},
     "output_type": "execute_result"
    }
   ],
   "source": [
    "imdb_crew_ratings_sorted.head()"
   ]
  },
  {
   "cell_type": "code",
   "execution_count": 141,
   "metadata": {
    "ExecuteTime": {
     "end_time": "2021-07-01T22:49:07.594424Z",
     "start_time": "2021-07-01T22:49:07.142128Z"
    }
   },
   "outputs": [],
   "source": [
    "imdb_crew_ratings_sorted_2 = imdb_crew_ratings_sorted.directors.str.split(',').apply(pd.Series)"
   ]
  },
  {
   "cell_type": "code",
   "execution_count": 142,
   "metadata": {
    "ExecuteTime": {
     "end_time": "2021-07-01T22:49:08.119971Z",
     "start_time": "2021-07-01T22:49:08.116921Z"
    }
   },
   "outputs": [],
   "source": [
    "imdb_crew_ratings_sorted_2.index = imdb_crew_ratings_sorted.set_index(['title_id']).index"
   ]
  },
  {
   "cell_type": "code",
   "execution_count": 143,
   "metadata": {
    "ExecuteTime": {
     "end_time": "2021-07-01T22:49:08.636107Z",
     "start_time": "2021-07-01T22:49:08.633489Z"
    }
   },
   "outputs": [],
   "source": [
    "imdb_crew_ratings_sorted_2.reset_index(inplace=True)"
   ]
  },
  {
   "cell_type": "code",
   "execution_count": 144,
   "metadata": {
    "ExecuteTime": {
     "end_time": "2021-07-01T22:49:09.148788Z",
     "start_time": "2021-07-01T22:49:09.146146Z"
    }
   },
   "outputs": [
    {
     "data": {
      "text/plain": [
       "Index(['title_id', 0, 1, 2, 3, 4, 5, 6, 7, 8, 9, 10, 11, 12], dtype='object')"
      ]
     },
     "execution_count": 144,
     "metadata": {},
     "output_type": "execute_result"
    }
   ],
   "source": [
    "imdb_crew_ratings_sorted_2.columns"
   ]
  },
  {
   "cell_type": "code",
   "execution_count": 145,
   "metadata": {
    "ExecuteTime": {
     "end_time": "2021-07-01T22:49:09.679754Z",
     "start_time": "2021-07-01T22:49:09.677122Z"
    }
   },
   "outputs": [],
   "source": [
    "imdb_crew_ratings_sorted_2 = imdb_crew_ratings_sorted_2.iloc[:, 0:2]"
   ]
  },
  {
   "cell_type": "code",
   "execution_count": 146,
   "metadata": {
    "ExecuteTime": {
     "end_time": "2021-07-01T22:49:10.189785Z",
     "start_time": "2021-07-01T22:49:10.187558Z"
    }
   },
   "outputs": [],
   "source": [
    "imdb_crew_ratings_sorted_2.columns = [\"title_id1\", \"director\"]"
   ]
  },
  {
   "cell_type": "code",
   "execution_count": 147,
   "metadata": {
    "ExecuteTime": {
     "end_time": "2021-07-01T22:49:10.702212Z",
     "start_time": "2021-07-01T22:49:10.695535Z"
    }
   },
   "outputs": [
    {
     "name": "stdout",
     "output_type": "stream",
     "text": [
      "<class 'pandas.core.frame.DataFrame'>\n",
      "RangeIndex: 1145 entries, 0 to 1144\n",
      "Data columns (total 2 columns):\n",
      " #   Column     Non-Null Count  Dtype \n",
      "---  ------     --------------  ----- \n",
      " 0   title_id1  1145 non-null   object\n",
      " 1   director   1145 non-null   object\n",
      "dtypes: object(2)\n",
      "memory usage: 18.0+ KB\n"
     ]
    }
   ],
   "source": [
    "imdb_crew_ratings_sorted_2.info()"
   ]
  },
  {
   "cell_type": "code",
   "execution_count": 148,
   "metadata": {
    "ExecuteTime": {
     "end_time": "2021-07-01T22:49:11.273529Z",
     "start_time": "2021-07-01T22:49:11.266317Z"
    }
   },
   "outputs": [
    {
     "name": "stdout",
     "output_type": "stream",
     "text": [
      "<class 'pandas.core.frame.DataFrame'>\n",
      "Int64Index: 1145 entries, 10902 to 9230\n",
      "Data columns (total 10 columns):\n",
      " #   Column             Non-Null Count  Dtype  \n",
      "---  ------             --------------  -----  \n",
      " 0   title_id           1145 non-null   object \n",
      " 1   ordering           1145 non-null   int64  \n",
      " 2   title              1145 non-null   object \n",
      " 3   region             1145 non-null   object \n",
      " 4   language           1145 non-null   object \n",
      " 5   is_original_title  1145 non-null   float64\n",
      " 6   directors          1145 non-null   object \n",
      " 7   writers            1137 non-null   object \n",
      " 8   averagerating      1145 non-null   float64\n",
      " 9   numvotes           1145 non-null   int64  \n",
      "dtypes: float64(2), int64(2), object(6)\n",
      "memory usage: 98.4+ KB\n"
     ]
    }
   ],
   "source": [
    "imdb_crew_ratings_sorted.info()"
   ]
  },
  {
   "cell_type": "code",
   "execution_count": 149,
   "metadata": {
    "ExecuteTime": {
     "end_time": "2021-07-01T22:49:11.814744Z",
     "start_time": "2021-07-01T22:49:11.808064Z"
    }
   },
   "outputs": [],
   "source": [
    "imdb_crew_ratings_sorted = pd.merge(imdb_crew_ratings_sorted, imdb_crew_ratings_sorted_2, left_on = \"title_id\", right_on = \"title_id1\", how = \"inner\")"
   ]
  },
  {
   "cell_type": "code",
   "execution_count": 150,
   "metadata": {
    "ExecuteTime": {
     "end_time": "2021-07-01T22:49:12.365899Z",
     "start_time": "2021-07-01T22:49:12.348902Z"
    }
   },
   "outputs": [
    {
     "data": {
      "text/html": [
       "<div>\n",
       "<style scoped>\n",
       "    .dataframe tbody tr th:only-of-type {\n",
       "        vertical-align: middle;\n",
       "    }\n",
       "\n",
       "    .dataframe tbody tr th {\n",
       "        vertical-align: top;\n",
       "    }\n",
       "\n",
       "    .dataframe thead th {\n",
       "        text-align: right;\n",
       "    }\n",
       "</style>\n",
       "<table border=\"1\" class=\"dataframe\">\n",
       "  <thead>\n",
       "    <tr style=\"text-align: right;\">\n",
       "      <th></th>\n",
       "      <th>title_id</th>\n",
       "      <th>ordering</th>\n",
       "      <th>title</th>\n",
       "      <th>region</th>\n",
       "      <th>language</th>\n",
       "      <th>is_original_title</th>\n",
       "      <th>directors</th>\n",
       "      <th>writers</th>\n",
       "      <th>averagerating</th>\n",
       "      <th>numvotes</th>\n",
       "      <th>title_id1</th>\n",
       "      <th>director</th>\n",
       "    </tr>\n",
       "  </thead>\n",
       "  <tbody>\n",
       "    <tr>\n",
       "      <th>0</th>\n",
       "      <td>tt5813916</td>\n",
       "      <td>7</td>\n",
       "      <td>The Mountain II</td>\n",
       "      <td>XWW</td>\n",
       "      <td>en</td>\n",
       "      <td>0.0</td>\n",
       "      <td>nm3809021</td>\n",
       "      <td>nm3809021</td>\n",
       "      <td>9.3</td>\n",
       "      <td>100568</td>\n",
       "      <td>tt5813916</td>\n",
       "      <td>nm3809021</td>\n",
       "    </tr>\n",
       "    <tr>\n",
       "      <th>1</th>\n",
       "      <td>tt5354160</td>\n",
       "      <td>2</td>\n",
       "      <td>Mirror Game</td>\n",
       "      <td>BD</td>\n",
       "      <td>en</td>\n",
       "      <td>0.0</td>\n",
       "      <td>nm2755490</td>\n",
       "      <td>nm7861816,nm7861817,nm7861818</td>\n",
       "      <td>9.3</td>\n",
       "      <td>18470</td>\n",
       "      <td>tt5354160</td>\n",
       "      <td>nm2755490</td>\n",
       "    </tr>\n",
       "    <tr>\n",
       "      <th>2</th>\n",
       "      <td>tt1375666</td>\n",
       "      <td>40</td>\n",
       "      <td>Inception</td>\n",
       "      <td>XWW</td>\n",
       "      <td>en</td>\n",
       "      <td>0.0</td>\n",
       "      <td>nm0634240</td>\n",
       "      <td>nm0634240</td>\n",
       "      <td>8.8</td>\n",
       "      <td>1841066</td>\n",
       "      <td>tt1375666</td>\n",
       "      <td>nm0634240</td>\n",
       "    </tr>\n",
       "    <tr>\n",
       "      <th>3</th>\n",
       "      <td>tt4154796</td>\n",
       "      <td>18</td>\n",
       "      <td>Avengers: Endgame</td>\n",
       "      <td>US</td>\n",
       "      <td>en</td>\n",
       "      <td>0.0</td>\n",
       "      <td>nm0751577,nm0751648</td>\n",
       "      <td>nm1321655,nm1321656,nm0498278,nm0456158,nm4160687</td>\n",
       "      <td>8.8</td>\n",
       "      <td>441135</td>\n",
       "      <td>tt4154796</td>\n",
       "      <td>nm0751577</td>\n",
       "    </tr>\n",
       "    <tr>\n",
       "      <th>4</th>\n",
       "      <td>tt4154796</td>\n",
       "      <td>18</td>\n",
       "      <td>Avengers: Endgame</td>\n",
       "      <td>US</td>\n",
       "      <td>en</td>\n",
       "      <td>0.0</td>\n",
       "      <td>nm0751577,nm0751648</td>\n",
       "      <td>nm1321655,nm1321656,nm0498278,nm0456158,nm4160687</td>\n",
       "      <td>8.8</td>\n",
       "      <td>441135</td>\n",
       "      <td>tt4154796</td>\n",
       "      <td>nm0751577</td>\n",
       "    </tr>\n",
       "    <tr>\n",
       "      <th>...</th>\n",
       "      <td>...</td>\n",
       "      <td>...</td>\n",
       "      <td>...</td>\n",
       "      <td>...</td>\n",
       "      <td>...</td>\n",
       "      <td>...</td>\n",
       "      <td>...</td>\n",
       "      <td>...</td>\n",
       "      <td>...</td>\n",
       "      <td>...</td>\n",
       "      <td>...</td>\n",
       "      <td>...</td>\n",
       "    </tr>\n",
       "    <tr>\n",
       "      <th>1856</th>\n",
       "      <td>tt1714203</td>\n",
       "      <td>11</td>\n",
       "      <td>Piranha Returns</td>\n",
       "      <td>JP</td>\n",
       "      <td>en</td>\n",
       "      <td>0.0</td>\n",
       "      <td>nm0347657</td>\n",
       "      <td>nm1733317,nm1729303,nm0812373,nm1539257,nm0831457</td>\n",
       "      <td>3.7</td>\n",
       "      <td>37088</td>\n",
       "      <td>tt1714203</td>\n",
       "      <td>nm0347657</td>\n",
       "    </tr>\n",
       "    <tr>\n",
       "      <th>1857</th>\n",
       "      <td>tt0795461</td>\n",
       "      <td>21</td>\n",
       "      <td>Scary Movie 5</td>\n",
       "      <td>CA</td>\n",
       "      <td>en</td>\n",
       "      <td>0.0</td>\n",
       "      <td>nm0001878,nm0002700</td>\n",
       "      <td>nm0001878,nm0698493,nm0915465,nm0005541,nm0424...</td>\n",
       "      <td>3.5</td>\n",
       "      <td>60139</td>\n",
       "      <td>tt0795461</td>\n",
       "      <td>nm0001878</td>\n",
       "    </tr>\n",
       "    <tr>\n",
       "      <th>1858</th>\n",
       "      <td>tt1517489</td>\n",
       "      <td>10</td>\n",
       "      <td>Spy Kids 4-D: All the Time in the World</td>\n",
       "      <td>XWW</td>\n",
       "      <td>en</td>\n",
       "      <td>0.0</td>\n",
       "      <td>nm0001675</td>\n",
       "      <td>nm0001675</td>\n",
       "      <td>3.5</td>\n",
       "      <td>20043</td>\n",
       "      <td>tt1517489</td>\n",
       "      <td>nm0001675</td>\n",
       "    </tr>\n",
       "    <tr>\n",
       "      <th>1859</th>\n",
       "      <td>tt7825208</td>\n",
       "      <td>5</td>\n",
       "      <td>Marighella</td>\n",
       "      <td>XWW</td>\n",
       "      <td>en</td>\n",
       "      <td>0.0</td>\n",
       "      <td>nm0609944</td>\n",
       "      <td>nm1806027,nm0609944,nm4486011</td>\n",
       "      <td>2.8</td>\n",
       "      <td>41882</td>\n",
       "      <td>tt7825208</td>\n",
       "      <td>nm0609944</td>\n",
       "    </tr>\n",
       "    <tr>\n",
       "      <th>1860</th>\n",
       "      <td>tt4458206</td>\n",
       "      <td>1</td>\n",
       "      <td>Code Name: K.O.Z.</td>\n",
       "      <td>XWW</td>\n",
       "      <td>en</td>\n",
       "      <td>0.0</td>\n",
       "      <td>nm2930027</td>\n",
       "      <td>NaN</td>\n",
       "      <td>1.5</td>\n",
       "      <td>26723</td>\n",
       "      <td>tt4458206</td>\n",
       "      <td>nm2930027</td>\n",
       "    </tr>\n",
       "  </tbody>\n",
       "</table>\n",
       "<p>1861 rows × 12 columns</p>\n",
       "</div>"
      ],
      "text/plain": [
       "       title_id  ordering                                    title region  \\\n",
       "0     tt5813916         7                          The Mountain II    XWW   \n",
       "1     tt5354160         2                              Mirror Game     BD   \n",
       "2     tt1375666        40                                Inception    XWW   \n",
       "3     tt4154796        18                        Avengers: Endgame     US   \n",
       "4     tt4154796        18                        Avengers: Endgame     US   \n",
       "...         ...       ...                                      ...    ...   \n",
       "1856  tt1714203        11                          Piranha Returns     JP   \n",
       "1857  tt0795461        21                            Scary Movie 5     CA   \n",
       "1858  tt1517489        10  Spy Kids 4-D: All the Time in the World    XWW   \n",
       "1859  tt7825208         5                               Marighella    XWW   \n",
       "1860  tt4458206         1                        Code Name: K.O.Z.    XWW   \n",
       "\n",
       "     language  is_original_title            directors  \\\n",
       "0          en                0.0            nm3809021   \n",
       "1          en                0.0            nm2755490   \n",
       "2          en                0.0            nm0634240   \n",
       "3          en                0.0  nm0751577,nm0751648   \n",
       "4          en                0.0  nm0751577,nm0751648   \n",
       "...       ...                ...                  ...   \n",
       "1856       en                0.0            nm0347657   \n",
       "1857       en                0.0  nm0001878,nm0002700   \n",
       "1858       en                0.0            nm0001675   \n",
       "1859       en                0.0            nm0609944   \n",
       "1860       en                0.0            nm2930027   \n",
       "\n",
       "                                                writers  averagerating  \\\n",
       "0                                             nm3809021            9.3   \n",
       "1                         nm7861816,nm7861817,nm7861818            9.3   \n",
       "2                                             nm0634240            8.8   \n",
       "3     nm1321655,nm1321656,nm0498278,nm0456158,nm4160687            8.8   \n",
       "4     nm1321655,nm1321656,nm0498278,nm0456158,nm4160687            8.8   \n",
       "...                                                 ...            ...   \n",
       "1856  nm1733317,nm1729303,nm0812373,nm1539257,nm0831457            3.7   \n",
       "1857  nm0001878,nm0698493,nm0915465,nm0005541,nm0424...            3.5   \n",
       "1858                                          nm0001675            3.5   \n",
       "1859                      nm1806027,nm0609944,nm4486011            2.8   \n",
       "1860                                                NaN            1.5   \n",
       "\n",
       "      numvotes  title_id1   director  \n",
       "0       100568  tt5813916  nm3809021  \n",
       "1        18470  tt5354160  nm2755490  \n",
       "2      1841066  tt1375666  nm0634240  \n",
       "3       441135  tt4154796  nm0751577  \n",
       "4       441135  tt4154796  nm0751577  \n",
       "...        ...        ...        ...  \n",
       "1856     37088  tt1714203  nm0347657  \n",
       "1857     60139  tt0795461  nm0001878  \n",
       "1858     20043  tt1517489  nm0001675  \n",
       "1859     41882  tt7825208  nm0609944  \n",
       "1860     26723  tt4458206  nm2930027  \n",
       "\n",
       "[1861 rows x 12 columns]"
      ]
     },
     "execution_count": 150,
     "metadata": {},
     "output_type": "execute_result"
    }
   ],
   "source": [
    "imdb_crew_ratings_sorted"
   ]
  },
  {
   "cell_type": "code",
   "execution_count": 151,
   "metadata": {
    "ExecuteTime": {
     "end_time": "2021-07-01T22:49:32.862200Z",
     "start_time": "2021-07-01T22:49:32.852586Z"
    }
   },
   "outputs": [
    {
     "name": "stdout",
     "output_type": "stream",
     "text": [
      "<class 'pandas.core.frame.DataFrame'>\n",
      "Int64Index: 1861 entries, 0 to 1860\n",
      "Data columns (total 12 columns):\n",
      " #   Column             Non-Null Count  Dtype  \n",
      "---  ------             --------------  -----  \n",
      " 0   title_id           1861 non-null   object \n",
      " 1   ordering           1861 non-null   int64  \n",
      " 2   title              1861 non-null   object \n",
      " 3   region             1861 non-null   object \n",
      " 4   language           1861 non-null   object \n",
      " 5   is_original_title  1861 non-null   float64\n",
      " 6   directors          1861 non-null   object \n",
      " 7   writers            1847 non-null   object \n",
      " 8   averagerating      1861 non-null   float64\n",
      " 9   numvotes           1861 non-null   int64  \n",
      " 10  title_id1          1861 non-null   object \n",
      " 11  director           1861 non-null   object \n",
      "dtypes: float64(2), int64(2), object(8)\n",
      "memory usage: 189.0+ KB\n"
     ]
    }
   ],
   "source": [
    "imdb_crew_ratings_sorted.info()"
   ]
  },
  {
   "cell_type": "code",
   "execution_count": 152,
   "metadata": {
    "ExecuteTime": {
     "end_time": "2021-07-01T22:50:35.591781Z",
     "start_time": "2021-07-01T22:50:35.588290Z"
    }
   },
   "outputs": [],
   "source": [
    "imdb_crew_ratings_sorted.drop(columns = ['ordering', 'is_original_title', 'directors', 'writers', 'title_id1'], inplace = True)"
   ]
  },
  {
   "cell_type": "code",
   "execution_count": 153,
   "metadata": {
    "ExecuteTime": {
     "end_time": "2021-07-01T22:50:40.975575Z",
     "start_time": "2021-07-01T22:50:40.968443Z"
    }
   },
   "outputs": [
    {
     "name": "stdout",
     "output_type": "stream",
     "text": [
      "<class 'pandas.core.frame.DataFrame'>\n",
      "Int64Index: 1861 entries, 0 to 1860\n",
      "Data columns (total 7 columns):\n",
      " #   Column         Non-Null Count  Dtype  \n",
      "---  ------         --------------  -----  \n",
      " 0   title_id       1861 non-null   object \n",
      " 1   title          1861 non-null   object \n",
      " 2   region         1861 non-null   object \n",
      " 3   language       1861 non-null   object \n",
      " 4   averagerating  1861 non-null   float64\n",
      " 5   numvotes       1861 non-null   int64  \n",
      " 6   director       1861 non-null   object \n",
      "dtypes: float64(1), int64(1), object(5)\n",
      "memory usage: 116.3+ KB\n"
     ]
    }
   ],
   "source": [
    "imdb_crew_ratings_sorted.info()"
   ]
  },
  {
   "cell_type": "markdown",
   "metadata": {},
   "source": [
    "## Now join this df with name_basics to get the names of directors"
   ]
  },
  {
   "cell_type": "code",
   "execution_count": 154,
   "metadata": {
    "ExecuteTime": {
     "end_time": "2021-07-01T22:52:36.955895Z",
     "start_time": "2021-07-01T22:52:36.789271Z"
    }
   },
   "outputs": [],
   "source": [
    "imdb_directors = pd.merge(imdb_crew_ratings_sorted, imdb_name_basics, left_on = \"director\", right_on= \"nconst\", how = \"inner\")"
   ]
  },
  {
   "cell_type": "code",
   "execution_count": 155,
   "metadata": {
    "ExecuteTime": {
     "end_time": "2021-07-01T22:52:45.954180Z",
     "start_time": "2021-07-01T22:52:45.944498Z"
    }
   },
   "outputs": [
    {
     "name": "stdout",
     "output_type": "stream",
     "text": [
      "<class 'pandas.core.frame.DataFrame'>\n",
      "Int64Index: 1861 entries, 0 to 1860\n",
      "Data columns (total 13 columns):\n",
      " #   Column              Non-Null Count  Dtype  \n",
      "---  ------              --------------  -----  \n",
      " 0   title_id            1861 non-null   object \n",
      " 1   title               1861 non-null   object \n",
      " 2   region              1861 non-null   object \n",
      " 3   language            1861 non-null   object \n",
      " 4   averagerating       1861 non-null   float64\n",
      " 5   numvotes            1861 non-null   int64  \n",
      " 6   director            1861 non-null   object \n",
      " 7   nconst              1861 non-null   object \n",
      " 8   primary_name        1861 non-null   object \n",
      " 9   birth_year          1412 non-null   float64\n",
      " 10  death_year          32 non-null     float64\n",
      " 11  primary_profession  1861 non-null   object \n",
      " 12  known_for_titles    1861 non-null   object \n",
      "dtypes: float64(3), int64(1), object(9)\n",
      "memory usage: 203.5+ KB\n"
     ]
    }
   ],
   "source": [
    "imdb_directors.info()"
   ]
  },
  {
   "cell_type": "code",
   "execution_count": 156,
   "metadata": {
    "ExecuteTime": {
     "end_time": "2021-07-01T22:53:00.211441Z",
     "start_time": "2021-07-01T22:53:00.199704Z"
    }
   },
   "outputs": [
    {
     "data": {
      "text/html": [
       "<div>\n",
       "<style scoped>\n",
       "    .dataframe tbody tr th:only-of-type {\n",
       "        vertical-align: middle;\n",
       "    }\n",
       "\n",
       "    .dataframe tbody tr th {\n",
       "        vertical-align: top;\n",
       "    }\n",
       "\n",
       "    .dataframe thead th {\n",
       "        text-align: right;\n",
       "    }\n",
       "</style>\n",
       "<table border=\"1\" class=\"dataframe\">\n",
       "  <thead>\n",
       "    <tr style=\"text-align: right;\">\n",
       "      <th></th>\n",
       "      <th>title_id</th>\n",
       "      <th>title</th>\n",
       "      <th>region</th>\n",
       "      <th>language</th>\n",
       "      <th>averagerating</th>\n",
       "      <th>numvotes</th>\n",
       "      <th>director</th>\n",
       "      <th>nconst</th>\n",
       "      <th>primary_name</th>\n",
       "      <th>birth_year</th>\n",
       "      <th>death_year</th>\n",
       "      <th>primary_profession</th>\n",
       "      <th>known_for_titles</th>\n",
       "    </tr>\n",
       "  </thead>\n",
       "  <tbody>\n",
       "    <tr>\n",
       "      <th>0</th>\n",
       "      <td>tt5813916</td>\n",
       "      <td>The Mountain II</td>\n",
       "      <td>XWW</td>\n",
       "      <td>en</td>\n",
       "      <td>9.3</td>\n",
       "      <td>100568</td>\n",
       "      <td>nm3809021</td>\n",
       "      <td>nm3809021</td>\n",
       "      <td>Alper Caglar</td>\n",
       "      <td>NaN</td>\n",
       "      <td>NaN</td>\n",
       "      <td>producer,writer,editor</td>\n",
       "      <td>tt2471640,tt3345952,tt5813916,tt8197998</td>\n",
       "    </tr>\n",
       "    <tr>\n",
       "      <th>1</th>\n",
       "      <td>tt2471640</td>\n",
       "      <td>The Mountain</td>\n",
       "      <td>XWW</td>\n",
       "      <td>en</td>\n",
       "      <td>8.0</td>\n",
       "      <td>17443</td>\n",
       "      <td>nm3809021</td>\n",
       "      <td>nm3809021</td>\n",
       "      <td>Alper Caglar</td>\n",
       "      <td>NaN</td>\n",
       "      <td>NaN</td>\n",
       "      <td>producer,writer,editor</td>\n",
       "      <td>tt2471640,tt3345952,tt5813916,tt8197998</td>\n",
       "    </tr>\n",
       "    <tr>\n",
       "      <th>2</th>\n",
       "      <td>tt5354160</td>\n",
       "      <td>Mirror Game</td>\n",
       "      <td>BD</td>\n",
       "      <td>en</td>\n",
       "      <td>9.3</td>\n",
       "      <td>18470</td>\n",
       "      <td>nm2755490</td>\n",
       "      <td>nm2755490</td>\n",
       "      <td>Amitabh Reza Chowdhury</td>\n",
       "      <td>NaN</td>\n",
       "      <td>NaN</td>\n",
       "      <td>miscellaneous,director,actor</td>\n",
       "      <td>tt6974890,tt9172640,tt4853244,tt5354160</td>\n",
       "    </tr>\n",
       "    <tr>\n",
       "      <th>3</th>\n",
       "      <td>tt1375666</td>\n",
       "      <td>Inception</td>\n",
       "      <td>XWW</td>\n",
       "      <td>en</td>\n",
       "      <td>8.8</td>\n",
       "      <td>1841066</td>\n",
       "      <td>nm0634240</td>\n",
       "      <td>nm0634240</td>\n",
       "      <td>Christopher Nolan</td>\n",
       "      <td>1970.0</td>\n",
       "      <td>NaN</td>\n",
       "      <td>writer,producer,director</td>\n",
       "      <td>tt0482571,tt1375666,tt5013056,tt0154506</td>\n",
       "    </tr>\n",
       "    <tr>\n",
       "      <th>4</th>\n",
       "      <td>tt0816692</td>\n",
       "      <td>Interstellar</td>\n",
       "      <td>US</td>\n",
       "      <td>en</td>\n",
       "      <td>8.6</td>\n",
       "      <td>1299334</td>\n",
       "      <td>nm0634240</td>\n",
       "      <td>nm0634240</td>\n",
       "      <td>Christopher Nolan</td>\n",
       "      <td>1970.0</td>\n",
       "      <td>NaN</td>\n",
       "      <td>writer,producer,director</td>\n",
       "      <td>tt0482571,tt1375666,tt5013056,tt0154506</td>\n",
       "    </tr>\n",
       "  </tbody>\n",
       "</table>\n",
       "</div>"
      ],
      "text/plain": [
       "    title_id            title region language  averagerating  numvotes  \\\n",
       "0  tt5813916  The Mountain II    XWW       en            9.3    100568   \n",
       "1  tt2471640     The Mountain    XWW       en            8.0     17443   \n",
       "2  tt5354160      Mirror Game     BD       en            9.3     18470   \n",
       "3  tt1375666        Inception    XWW       en            8.8   1841066   \n",
       "4  tt0816692     Interstellar     US       en            8.6   1299334   \n",
       "\n",
       "    director     nconst            primary_name  birth_year  death_year  \\\n",
       "0  nm3809021  nm3809021            Alper Caglar         NaN         NaN   \n",
       "1  nm3809021  nm3809021            Alper Caglar         NaN         NaN   \n",
       "2  nm2755490  nm2755490  Amitabh Reza Chowdhury         NaN         NaN   \n",
       "3  nm0634240  nm0634240       Christopher Nolan      1970.0         NaN   \n",
       "4  nm0634240  nm0634240       Christopher Nolan      1970.0         NaN   \n",
       "\n",
       "             primary_profession                         known_for_titles  \n",
       "0        producer,writer,editor  tt2471640,tt3345952,tt5813916,tt8197998  \n",
       "1        producer,writer,editor  tt2471640,tt3345952,tt5813916,tt8197998  \n",
       "2  miscellaneous,director,actor  tt6974890,tt9172640,tt4853244,tt5354160  \n",
       "3      writer,producer,director  tt0482571,tt1375666,tt5013056,tt0154506  \n",
       "4      writer,producer,director  tt0482571,tt1375666,tt5013056,tt0154506  "
      ]
     },
     "execution_count": 156,
     "metadata": {},
     "output_type": "execute_result"
    }
   ],
   "source": [
    "imdb_directors.head()"
   ]
  },
  {
   "cell_type": "markdown",
   "metadata": {},
   "source": [
    "**Our final dataframe is ready for answering thew original question**"
   ]
  },
  {
   "cell_type": "code",
   "execution_count": 157,
   "metadata": {
    "ExecuteTime": {
     "end_time": "2021-07-01T22:54:21.766939Z",
     "start_time": "2021-07-01T22:54:21.761506Z"
    }
   },
   "outputs": [],
   "source": [
    "imdb_directors_grouped = imdb_directors.groupby(by = \"nconst\").agg(\"mean\")"
   ]
  },
  {
   "cell_type": "code",
   "execution_count": 158,
   "metadata": {
    "ExecuteTime": {
     "end_time": "2021-07-01T22:54:28.974833Z",
     "start_time": "2021-07-01T22:54:28.966238Z"
    }
   },
   "outputs": [
    {
     "data": {
      "text/html": [
       "<div>\n",
       "<style scoped>\n",
       "    .dataframe tbody tr th:only-of-type {\n",
       "        vertical-align: middle;\n",
       "    }\n",
       "\n",
       "    .dataframe tbody tr th {\n",
       "        vertical-align: top;\n",
       "    }\n",
       "\n",
       "    .dataframe thead th {\n",
       "        text-align: right;\n",
       "    }\n",
       "</style>\n",
       "<table border=\"1\" class=\"dataframe\">\n",
       "  <thead>\n",
       "    <tr style=\"text-align: right;\">\n",
       "      <th></th>\n",
       "      <th>averagerating</th>\n",
       "      <th>numvotes</th>\n",
       "      <th>birth_year</th>\n",
       "      <th>death_year</th>\n",
       "    </tr>\n",
       "    <tr>\n",
       "      <th>nconst</th>\n",
       "      <th></th>\n",
       "      <th></th>\n",
       "      <th></th>\n",
       "      <th></th>\n",
       "    </tr>\n",
       "  </thead>\n",
       "  <tbody>\n",
       "    <tr>\n",
       "      <th>nm0000095</th>\n",
       "      <td>6.450000</td>\n",
       "      <td>70923.500000</td>\n",
       "      <td>1935.0</td>\n",
       "      <td>NaN</td>\n",
       "    </tr>\n",
       "    <tr>\n",
       "      <th>nm0000108</th>\n",
       "      <td>6.309524</td>\n",
       "      <td>40284.952381</td>\n",
       "      <td>1959.0</td>\n",
       "      <td>NaN</td>\n",
       "    </tr>\n",
       "    <tr>\n",
       "      <th>nm0000110</th>\n",
       "      <td>6.633333</td>\n",
       "      <td>370611.111111</td>\n",
       "      <td>1960.0</td>\n",
       "      <td>NaN</td>\n",
       "    </tr>\n",
       "    <tr>\n",
       "      <th>nm0000118</th>\n",
       "      <td>5.600000</td>\n",
       "      <td>38287.000000</td>\n",
       "      <td>1948.0</td>\n",
       "      <td>NaN</td>\n",
       "    </tr>\n",
       "    <tr>\n",
       "      <th>nm0000123</th>\n",
       "      <td>6.100000</td>\n",
       "      <td>117638.000000</td>\n",
       "      <td>1961.0</td>\n",
       "      <td>NaN</td>\n",
       "    </tr>\n",
       "    <tr>\n",
       "      <th>...</th>\n",
       "      <td>...</td>\n",
       "      <td>...</td>\n",
       "      <td>...</td>\n",
       "      <td>...</td>\n",
       "    </tr>\n",
       "    <tr>\n",
       "      <th>nm5732579</th>\n",
       "      <td>5.700000</td>\n",
       "      <td>20659.000000</td>\n",
       "      <td>NaN</td>\n",
       "      <td>NaN</td>\n",
       "    </tr>\n",
       "    <tr>\n",
       "      <th>nm5820154</th>\n",
       "      <td>6.700000</td>\n",
       "      <td>78226.000000</td>\n",
       "      <td>NaN</td>\n",
       "      <td>NaN</td>\n",
       "    </tr>\n",
       "    <tr>\n",
       "      <th>nm5961051</th>\n",
       "      <td>7.600000</td>\n",
       "      <td>16623.500000</td>\n",
       "      <td>1983.0</td>\n",
       "      <td>NaN</td>\n",
       "    </tr>\n",
       "    <tr>\n",
       "      <th>nm7546166</th>\n",
       "      <td>7.500000</td>\n",
       "      <td>25267.000000</td>\n",
       "      <td>NaN</td>\n",
       "      <td>NaN</td>\n",
       "    </tr>\n",
       "    <tr>\n",
       "      <th>nm8466331</th>\n",
       "      <td>7.200000</td>\n",
       "      <td>18291.000000</td>\n",
       "      <td>NaN</td>\n",
       "      <td>NaN</td>\n",
       "    </tr>\n",
       "  </tbody>\n",
       "</table>\n",
       "<p>667 rows × 4 columns</p>\n",
       "</div>"
      ],
      "text/plain": [
       "           averagerating       numvotes  birth_year  death_year\n",
       "nconst                                                         \n",
       "nm0000095       6.450000   70923.500000      1935.0         NaN\n",
       "nm0000108       6.309524   40284.952381      1959.0         NaN\n",
       "nm0000110       6.633333  370611.111111      1960.0         NaN\n",
       "nm0000118       5.600000   38287.000000      1948.0         NaN\n",
       "nm0000123       6.100000  117638.000000      1961.0         NaN\n",
       "...                  ...            ...         ...         ...\n",
       "nm5732579       5.700000   20659.000000         NaN         NaN\n",
       "nm5820154       6.700000   78226.000000         NaN         NaN\n",
       "nm5961051       7.600000   16623.500000      1983.0         NaN\n",
       "nm7546166       7.500000   25267.000000         NaN         NaN\n",
       "nm8466331       7.200000   18291.000000         NaN         NaN\n",
       "\n",
       "[667 rows x 4 columns]"
      ]
     },
     "execution_count": 158,
     "metadata": {},
     "output_type": "execute_result"
    }
   ],
   "source": [
    "imdb_directors_grouped.reset_index(inplace=True)"
   ]
  },
  {
   "cell_type": "code",
   "execution_count": 159,
   "metadata": {
    "ExecuteTime": {
     "end_time": "2021-07-01T22:55:54.646089Z",
     "start_time": "2021-07-01T22:55:54.636331Z"
    }
   },
   "outputs": [],
   "source": [
    "imdb_directors_grouped = pd.merge(imdb_directors_grouped, imdb_directors, left_on= \"nconst\", right_on = \"nconst\", how = \"inner\")"
   ]
  },
  {
   "cell_type": "code",
   "execution_count": 161,
   "metadata": {
    "ExecuteTime": {
     "end_time": "2021-07-01T22:56:18.126147Z",
     "start_time": "2021-07-01T22:56:18.117410Z"
    }
   },
   "outputs": [
    {
     "name": "stdout",
     "output_type": "stream",
     "text": [
      "<class 'pandas.core.frame.DataFrame'>\n",
      "Int64Index: 1861 entries, 0 to 1860\n",
      "Data columns (total 17 columns):\n",
      " #   Column              Non-Null Count  Dtype  \n",
      "---  ------              --------------  -----  \n",
      " 0   nconst              1861 non-null   object \n",
      " 1   averagerating_x     1861 non-null   float64\n",
      " 2   numvotes_x          1861 non-null   float64\n",
      " 3   birth_year_x        1412 non-null   float64\n",
      " 4   death_year_x        32 non-null     float64\n",
      " 5   title_id            1861 non-null   object \n",
      " 6   title               1861 non-null   object \n",
      " 7   region              1861 non-null   object \n",
      " 8   language            1861 non-null   object \n",
      " 9   averagerating_y     1861 non-null   float64\n",
      " 10  numvotes_y          1861 non-null   int64  \n",
      " 11  director            1861 non-null   object \n",
      " 12  primary_name        1861 non-null   object \n",
      " 13  birth_year_y        1412 non-null   float64\n",
      " 14  death_year_y        32 non-null     float64\n",
      " 15  primary_profession  1861 non-null   object \n",
      " 16  known_for_titles    1861 non-null   object \n",
      "dtypes: float64(7), int64(1), object(9)\n",
      "memory usage: 261.7+ KB\n"
     ]
    }
   ],
   "source": [
    "imdb_directors_grouped.info()"
   ]
  },
  {
   "cell_type": "code",
   "execution_count": 163,
   "metadata": {
    "ExecuteTime": {
     "end_time": "2021-07-01T22:58:49.164830Z",
     "start_time": "2021-07-01T22:58:49.160456Z"
    }
   },
   "outputs": [],
   "source": [
    "imdb_directors_grouped.sort_values(by = [\"averagerating_x\", \"numvotes_x\"], inplace=True, ascending=False)"
   ]
  },
  {
   "cell_type": "code",
   "execution_count": 164,
   "metadata": {
    "ExecuteTime": {
     "end_time": "2021-07-01T22:58:58.083024Z",
     "start_time": "2021-07-01T22:58:58.069347Z"
    }
   },
   "outputs": [
    {
     "data": {
      "text/html": [
       "<div>\n",
       "<style scoped>\n",
       "    .dataframe tbody tr th:only-of-type {\n",
       "        vertical-align: middle;\n",
       "    }\n",
       "\n",
       "    .dataframe tbody tr th {\n",
       "        vertical-align: top;\n",
       "    }\n",
       "\n",
       "    .dataframe thead th {\n",
       "        text-align: right;\n",
       "    }\n",
       "</style>\n",
       "<table border=\"1\" class=\"dataframe\">\n",
       "  <thead>\n",
       "    <tr style=\"text-align: right;\">\n",
       "      <th></th>\n",
       "      <th>nconst</th>\n",
       "      <th>averagerating_x</th>\n",
       "      <th>numvotes_x</th>\n",
       "      <th>birth_year_x</th>\n",
       "      <th>death_year_x</th>\n",
       "      <th>title_id</th>\n",
       "      <th>title</th>\n",
       "      <th>region</th>\n",
       "      <th>language</th>\n",
       "      <th>averagerating_y</th>\n",
       "      <th>numvotes_y</th>\n",
       "      <th>director</th>\n",
       "      <th>primary_name</th>\n",
       "      <th>birth_year_y</th>\n",
       "      <th>death_year_y</th>\n",
       "      <th>primary_profession</th>\n",
       "      <th>known_for_titles</th>\n",
       "    </tr>\n",
       "  </thead>\n",
       "  <tbody>\n",
       "    <tr>\n",
       "      <th>1780</th>\n",
       "      <td>nm2755490</td>\n",
       "      <td>9.3</td>\n",
       "      <td>18470.0</td>\n",
       "      <td>NaN</td>\n",
       "      <td>NaN</td>\n",
       "      <td>tt5354160</td>\n",
       "      <td>Mirror Game</td>\n",
       "      <td>BD</td>\n",
       "      <td>en</td>\n",
       "      <td>9.3</td>\n",
       "      <td>18470</td>\n",
       "      <td>nm2755490</td>\n",
       "      <td>Amitabh Reza Chowdhury</td>\n",
       "      <td>NaN</td>\n",
       "      <td>NaN</td>\n",
       "      <td>miscellaneous,director,actor</td>\n",
       "      <td>tt6974890,tt9172640,tt4853244,tt5354160</td>\n",
       "    </tr>\n",
       "    <tr>\n",
       "      <th>1768</th>\n",
       "      <td>nm2572228</td>\n",
       "      <td>8.8</td>\n",
       "      <td>24326.0</td>\n",
       "      <td>NaN</td>\n",
       "      <td>NaN</td>\n",
       "      <td>tt3417422</td>\n",
       "      <td>Visual</td>\n",
       "      <td>XWW</td>\n",
       "      <td>en</td>\n",
       "      <td>8.8</td>\n",
       "      <td>24326</td>\n",
       "      <td>nm2572228</td>\n",
       "      <td>Jeethu Joseph</td>\n",
       "      <td>NaN</td>\n",
       "      <td>NaN</td>\n",
       "      <td>writer,director,producer</td>\n",
       "      <td>tt6620266,tt3417422,tt4429128,tt4430212</td>\n",
       "    </tr>\n",
       "    <tr>\n",
       "      <th>1769</th>\n",
       "      <td>nm2572228</td>\n",
       "      <td>8.8</td>\n",
       "      <td>24326.0</td>\n",
       "      <td>NaN</td>\n",
       "      <td>NaN</td>\n",
       "      <td>tt3417422</td>\n",
       "      <td>Visual</td>\n",
       "      <td>XWW</td>\n",
       "      <td>en</td>\n",
       "      <td>8.8</td>\n",
       "      <td>24326</td>\n",
       "      <td>nm2572228</td>\n",
       "      <td>Jeethu Joseph</td>\n",
       "      <td>NaN</td>\n",
       "      <td>NaN</td>\n",
       "      <td>writer,director,producer</td>\n",
       "      <td>tt6620266,tt3417422,tt4429128,tt4430212</td>\n",
       "    </tr>\n",
       "    <tr>\n",
       "      <th>1770</th>\n",
       "      <td>nm2572228</td>\n",
       "      <td>8.8</td>\n",
       "      <td>24326.0</td>\n",
       "      <td>NaN</td>\n",
       "      <td>NaN</td>\n",
       "      <td>tt3417422</td>\n",
       "      <td>Visuals</td>\n",
       "      <td>XWW</td>\n",
       "      <td>en</td>\n",
       "      <td>8.8</td>\n",
       "      <td>24326</td>\n",
       "      <td>nm2572228</td>\n",
       "      <td>Jeethu Joseph</td>\n",
       "      <td>NaN</td>\n",
       "      <td>NaN</td>\n",
       "      <td>writer,director,producer</td>\n",
       "      <td>tt6620266,tt3417422,tt4429128,tt4430212</td>\n",
       "    </tr>\n",
       "    <tr>\n",
       "      <th>1771</th>\n",
       "      <td>nm2572228</td>\n",
       "      <td>8.8</td>\n",
       "      <td>24326.0</td>\n",
       "      <td>NaN</td>\n",
       "      <td>NaN</td>\n",
       "      <td>tt3417422</td>\n",
       "      <td>Visuals</td>\n",
       "      <td>XWW</td>\n",
       "      <td>en</td>\n",
       "      <td>8.8</td>\n",
       "      <td>24326</td>\n",
       "      <td>nm2572228</td>\n",
       "      <td>Jeethu Joseph</td>\n",
       "      <td>NaN</td>\n",
       "      <td>NaN</td>\n",
       "      <td>writer,director,producer</td>\n",
       "      <td>tt6620266,tt3417422,tt4429128,tt4430212</td>\n",
       "    </tr>\n",
       "  </tbody>\n",
       "</table>\n",
       "</div>"
      ],
      "text/plain": [
       "         nconst  averagerating_x  numvotes_x  birth_year_x  death_year_x  \\\n",
       "1780  nm2755490              9.3     18470.0           NaN           NaN   \n",
       "1768  nm2572228              8.8     24326.0           NaN           NaN   \n",
       "1769  nm2572228              8.8     24326.0           NaN           NaN   \n",
       "1770  nm2572228              8.8     24326.0           NaN           NaN   \n",
       "1771  nm2572228              8.8     24326.0           NaN           NaN   \n",
       "\n",
       "       title_id        title region language  averagerating_y  numvotes_y  \\\n",
       "1780  tt5354160  Mirror Game     BD       en              9.3       18470   \n",
       "1768  tt3417422       Visual    XWW       en              8.8       24326   \n",
       "1769  tt3417422       Visual    XWW       en              8.8       24326   \n",
       "1770  tt3417422      Visuals    XWW       en              8.8       24326   \n",
       "1771  tt3417422      Visuals    XWW       en              8.8       24326   \n",
       "\n",
       "       director            primary_name  birth_year_y  death_year_y  \\\n",
       "1780  nm2755490  Amitabh Reza Chowdhury           NaN           NaN   \n",
       "1768  nm2572228           Jeethu Joseph           NaN           NaN   \n",
       "1769  nm2572228           Jeethu Joseph           NaN           NaN   \n",
       "1770  nm2572228           Jeethu Joseph           NaN           NaN   \n",
       "1771  nm2572228           Jeethu Joseph           NaN           NaN   \n",
       "\n",
       "                primary_profession                         known_for_titles  \n",
       "1780  miscellaneous,director,actor  tt6974890,tt9172640,tt4853244,tt5354160  \n",
       "1768      writer,director,producer  tt6620266,tt3417422,tt4429128,tt4430212  \n",
       "1769      writer,director,producer  tt6620266,tt3417422,tt4429128,tt4430212  \n",
       "1770      writer,director,producer  tt6620266,tt3417422,tt4429128,tt4430212  \n",
       "1771      writer,director,producer  tt6620266,tt3417422,tt4429128,tt4430212  "
      ]
     },
     "execution_count": 164,
     "metadata": {},
     "output_type": "execute_result"
    }
   ],
   "source": [
    "imdb_directors_grouped.head()"
   ]
  },
  {
   "cell_type": "code",
   "execution_count": 165,
   "metadata": {
    "ExecuteTime": {
     "end_time": "2021-07-01T23:00:03.552090Z",
     "start_time": "2021-07-01T23:00:03.547390Z"
    }
   },
   "outputs": [],
   "source": [
    "imdb_directors_grouped.drop_duplicates(subset = ['director', 'title_id'], inplace=True)"
   ]
  },
  {
   "cell_type": "code",
   "execution_count": 166,
   "metadata": {
    "ExecuteTime": {
     "end_time": "2021-07-01T23:00:15.769173Z",
     "start_time": "2021-07-01T23:00:15.760390Z"
    }
   },
   "outputs": [
    {
     "name": "stdout",
     "output_type": "stream",
     "text": [
      "<class 'pandas.core.frame.DataFrame'>\n",
      "Int64Index: 873 entries, 1780 to 1792\n",
      "Data columns (total 17 columns):\n",
      " #   Column              Non-Null Count  Dtype  \n",
      "---  ------              --------------  -----  \n",
      " 0   nconst              873 non-null    object \n",
      " 1   averagerating_x     873 non-null    float64\n",
      " 2   numvotes_x          873 non-null    float64\n",
      " 3   birth_year_x        662 non-null    float64\n",
      " 4   death_year_x        10 non-null     float64\n",
      " 5   title_id            873 non-null    object \n",
      " 6   title               873 non-null    object \n",
      " 7   region              873 non-null    object \n",
      " 8   language            873 non-null    object \n",
      " 9   averagerating_y     873 non-null    float64\n",
      " 10  numvotes_y          873 non-null    int64  \n",
      " 11  director            873 non-null    object \n",
      " 12  primary_name        873 non-null    object \n",
      " 13  birth_year_y        662 non-null    float64\n",
      " 14  death_year_y        10 non-null     float64\n",
      " 15  primary_profession  873 non-null    object \n",
      " 16  known_for_titles    873 non-null    object \n",
      "dtypes: float64(7), int64(1), object(9)\n",
      "memory usage: 122.8+ KB\n"
     ]
    }
   ],
   "source": [
    "imdb_directors_grouped.info()"
   ]
  },
  {
   "cell_type": "code",
   "execution_count": 167,
   "metadata": {
    "ExecuteTime": {
     "end_time": "2021-07-01T23:00:27.262137Z",
     "start_time": "2021-07-01T23:00:27.249562Z"
    }
   },
   "outputs": [
    {
     "data": {
      "text/html": [
       "<div>\n",
       "<style scoped>\n",
       "    .dataframe tbody tr th:only-of-type {\n",
       "        vertical-align: middle;\n",
       "    }\n",
       "\n",
       "    .dataframe tbody tr th {\n",
       "        vertical-align: top;\n",
       "    }\n",
       "\n",
       "    .dataframe thead th {\n",
       "        text-align: right;\n",
       "    }\n",
       "</style>\n",
       "<table border=\"1\" class=\"dataframe\">\n",
       "  <thead>\n",
       "    <tr style=\"text-align: right;\">\n",
       "      <th></th>\n",
       "      <th>nconst</th>\n",
       "      <th>averagerating_x</th>\n",
       "      <th>numvotes_x</th>\n",
       "      <th>birth_year_x</th>\n",
       "      <th>death_year_x</th>\n",
       "      <th>title_id</th>\n",
       "      <th>title</th>\n",
       "      <th>region</th>\n",
       "      <th>language</th>\n",
       "      <th>averagerating_y</th>\n",
       "      <th>numvotes_y</th>\n",
       "      <th>director</th>\n",
       "      <th>primary_name</th>\n",
       "      <th>birth_year_y</th>\n",
       "      <th>death_year_y</th>\n",
       "      <th>primary_profession</th>\n",
       "      <th>known_for_titles</th>\n",
       "    </tr>\n",
       "  </thead>\n",
       "  <tbody>\n",
       "    <tr>\n",
       "      <th>1780</th>\n",
       "      <td>nm2755490</td>\n",
       "      <td>9.30</td>\n",
       "      <td>18470.0</td>\n",
       "      <td>NaN</td>\n",
       "      <td>NaN</td>\n",
       "      <td>tt5354160</td>\n",
       "      <td>Mirror Game</td>\n",
       "      <td>BD</td>\n",
       "      <td>en</td>\n",
       "      <td>9.3</td>\n",
       "      <td>18470</td>\n",
       "      <td>nm2755490</td>\n",
       "      <td>Amitabh Reza Chowdhury</td>\n",
       "      <td>NaN</td>\n",
       "      <td>NaN</td>\n",
       "      <td>miscellaneous,director,actor</td>\n",
       "      <td>tt6974890,tt9172640,tt4853244,tt5354160</td>\n",
       "    </tr>\n",
       "    <tr>\n",
       "      <th>1768</th>\n",
       "      <td>nm2572228</td>\n",
       "      <td>8.80</td>\n",
       "      <td>24326.0</td>\n",
       "      <td>NaN</td>\n",
       "      <td>NaN</td>\n",
       "      <td>tt3417422</td>\n",
       "      <td>Visual</td>\n",
       "      <td>XWW</td>\n",
       "      <td>en</td>\n",
       "      <td>8.8</td>\n",
       "      <td>24326</td>\n",
       "      <td>nm2572228</td>\n",
       "      <td>Jeethu Joseph</td>\n",
       "      <td>NaN</td>\n",
       "      <td>NaN</td>\n",
       "      <td>writer,director,producer</td>\n",
       "      <td>tt6620266,tt3417422,tt4429128,tt4430212</td>\n",
       "    </tr>\n",
       "    <tr>\n",
       "      <th>1833</th>\n",
       "      <td>nm3809021</td>\n",
       "      <td>8.65</td>\n",
       "      <td>59005.5</td>\n",
       "      <td>NaN</td>\n",
       "      <td>NaN</td>\n",
       "      <td>tt5813916</td>\n",
       "      <td>The Mountain II</td>\n",
       "      <td>XWW</td>\n",
       "      <td>en</td>\n",
       "      <td>9.3</td>\n",
       "      <td>100568</td>\n",
       "      <td>nm3809021</td>\n",
       "      <td>Alper Caglar</td>\n",
       "      <td>NaN</td>\n",
       "      <td>NaN</td>\n",
       "      <td>producer,writer,editor</td>\n",
       "      <td>tt2471640,tt3345952,tt5813916,tt8197998</td>\n",
       "    </tr>\n",
       "    <tr>\n",
       "      <th>1834</th>\n",
       "      <td>nm3809021</td>\n",
       "      <td>8.65</td>\n",
       "      <td>59005.5</td>\n",
       "      <td>NaN</td>\n",
       "      <td>NaN</td>\n",
       "      <td>tt2471640</td>\n",
       "      <td>The Mountain</td>\n",
       "      <td>XWW</td>\n",
       "      <td>en</td>\n",
       "      <td>8.0</td>\n",
       "      <td>17443</td>\n",
       "      <td>nm3809021</td>\n",
       "      <td>Alper Caglar</td>\n",
       "      <td>NaN</td>\n",
       "      <td>NaN</td>\n",
       "      <td>producer,writer,editor</td>\n",
       "      <td>tt2471640,tt3345952,tt5813916,tt8197998</td>\n",
       "    </tr>\n",
       "    <tr>\n",
       "      <th>1452</th>\n",
       "      <td>nm1335875</td>\n",
       "      <td>8.60</td>\n",
       "      <td>15407.0</td>\n",
       "      <td>NaN</td>\n",
       "      <td>NaN</td>\n",
       "      <td>tt7392212</td>\n",
       "      <td>The Stage</td>\n",
       "      <td>US</td>\n",
       "      <td>en</td>\n",
       "      <td>8.6</td>\n",
       "      <td>15407</td>\n",
       "      <td>nm1335875</td>\n",
       "      <td>Sukumar</td>\n",
       "      <td>NaN</td>\n",
       "      <td>NaN</td>\n",
       "      <td>writer,director,assistant_director</td>\n",
       "      <td>tt2375559,tt1869226,tt5098128,tt1526323</td>\n",
       "    </tr>\n",
       "  </tbody>\n",
       "</table>\n",
       "</div>"
      ],
      "text/plain": [
       "         nconst  averagerating_x  numvotes_x  birth_year_x  death_year_x  \\\n",
       "1780  nm2755490             9.30     18470.0           NaN           NaN   \n",
       "1768  nm2572228             8.80     24326.0           NaN           NaN   \n",
       "1833  nm3809021             8.65     59005.5           NaN           NaN   \n",
       "1834  nm3809021             8.65     59005.5           NaN           NaN   \n",
       "1452  nm1335875             8.60     15407.0           NaN           NaN   \n",
       "\n",
       "       title_id            title region language  averagerating_y  numvotes_y  \\\n",
       "1780  tt5354160      Mirror Game     BD       en              9.3       18470   \n",
       "1768  tt3417422           Visual    XWW       en              8.8       24326   \n",
       "1833  tt5813916  The Mountain II    XWW       en              9.3      100568   \n",
       "1834  tt2471640     The Mountain    XWW       en              8.0       17443   \n",
       "1452  tt7392212        The Stage     US       en              8.6       15407   \n",
       "\n",
       "       director            primary_name  birth_year_y  death_year_y  \\\n",
       "1780  nm2755490  Amitabh Reza Chowdhury           NaN           NaN   \n",
       "1768  nm2572228           Jeethu Joseph           NaN           NaN   \n",
       "1833  nm3809021            Alper Caglar           NaN           NaN   \n",
       "1834  nm3809021            Alper Caglar           NaN           NaN   \n",
       "1452  nm1335875                 Sukumar           NaN           NaN   \n",
       "\n",
       "                      primary_profession  \\\n",
       "1780        miscellaneous,director,actor   \n",
       "1768            writer,director,producer   \n",
       "1833              producer,writer,editor   \n",
       "1834              producer,writer,editor   \n",
       "1452  writer,director,assistant_director   \n",
       "\n",
       "                             known_for_titles  \n",
       "1780  tt6974890,tt9172640,tt4853244,tt5354160  \n",
       "1768  tt6620266,tt3417422,tt4429128,tt4430212  \n",
       "1833  tt2471640,tt3345952,tt5813916,tt8197998  \n",
       "1834  tt2471640,tt3345952,tt5813916,tt8197998  \n",
       "1452  tt2375559,tt1869226,tt5098128,tt1526323  "
      ]
     },
     "execution_count": 167,
     "metadata": {},
     "output_type": "execute_result"
    }
   ],
   "source": [
    "imdb_directors_grouped.head()"
   ]
  },
  {
   "cell_type": "code",
   "execution_count": 168,
   "metadata": {
    "ExecuteTime": {
     "end_time": "2021-07-01T23:02:52.273523Z",
     "start_time": "2021-07-01T23:02:52.270465Z"
    }
   },
   "outputs": [
    {
     "data": {
      "text/plain": [
       "Index(['nconst', 'averagerating_x', 'numvotes_x', 'birth_year_x',\n",
       "       'death_year_x', 'title_id', 'title', 'region', 'language',\n",
       "       'averagerating_y', 'numvotes_y', 'director', 'primary_name',\n",
       "       'birth_year_y', 'death_year_y', 'primary_profession',\n",
       "       'known_for_titles'],\n",
       "      dtype='object')"
      ]
     },
     "execution_count": 168,
     "metadata": {},
     "output_type": "execute_result"
    }
   ],
   "source": [
    "imdb_directors_grouped.columns"
   ]
  },
  {
   "cell_type": "code",
   "execution_count": 169,
   "metadata": {
    "ExecuteTime": {
     "end_time": "2021-07-01T23:03:31.654217Z",
     "start_time": "2021-07-01T23:03:31.651070Z"
    }
   },
   "outputs": [],
   "source": [
    "imdb_directors_grouped_cleaned = imdb_directors_grouped.drop(columns=['nconst', 'title_id', 'averagerating_y', 'numvotes_y', 'director', 'birth_year_y', 'death_year_y', 'primary_profession',\n",
    "       'known_for_titles'])"
   ]
  },
  {
   "cell_type": "code",
   "execution_count": 170,
   "metadata": {
    "ExecuteTime": {
     "end_time": "2021-07-01T23:03:48.448630Z",
     "start_time": "2021-07-01T23:03:48.445961Z"
    }
   },
   "outputs": [],
   "source": [
    "imdb_directors_grouped_cleaned.reset_index(inplace=True)"
   ]
  },
  {
   "cell_type": "code",
   "execution_count": 171,
   "metadata": {
    "ExecuteTime": {
     "end_time": "2021-07-01T23:03:54.192740Z",
     "start_time": "2021-07-01T23:03:54.184733Z"
    }
   },
   "outputs": [
    {
     "name": "stdout",
     "output_type": "stream",
     "text": [
      "<class 'pandas.core.frame.DataFrame'>\n",
      "RangeIndex: 873 entries, 0 to 872\n",
      "Data columns (total 9 columns):\n",
      " #   Column           Non-Null Count  Dtype  \n",
      "---  ------           --------------  -----  \n",
      " 0   index            873 non-null    int64  \n",
      " 1   averagerating_x  873 non-null    float64\n",
      " 2   numvotes_x       873 non-null    float64\n",
      " 3   birth_year_x     662 non-null    float64\n",
      " 4   death_year_x     10 non-null     float64\n",
      " 5   title            873 non-null    object \n",
      " 6   region           873 non-null    object \n",
      " 7   language         873 non-null    object \n",
      " 8   primary_name     873 non-null    object \n",
      "dtypes: float64(4), int64(1), object(4)\n",
      "memory usage: 61.5+ KB\n"
     ]
    }
   ],
   "source": [
    "imdb_directors_grouped_cleaned.info()"
   ]
  },
  {
   "cell_type": "code",
   "execution_count": 173,
   "metadata": {
    "ExecuteTime": {
     "end_time": "2021-07-01T23:04:49.742167Z",
     "start_time": "2021-07-01T23:04:49.738194Z"
    }
   },
   "outputs": [],
   "source": [
    "imdb_directors_grouped_cleaned.sort_values(by='numvotes_x', ascending=False, inplace=True)"
   ]
  },
  {
   "cell_type": "code",
   "execution_count": 175,
   "metadata": {
    "ExecuteTime": {
     "end_time": "2021-07-01T23:06:08.168614Z",
     "start_time": "2021-07-01T23:06:08.164651Z"
    }
   },
   "outputs": [],
   "source": [
    "imdb_directors_grouped_cleaned.drop_duplicates(subset = 'primary_name', inplace=True)"
   ]
  },
  {
   "cell_type": "code",
   "execution_count": 176,
   "metadata": {
    "ExecuteTime": {
     "end_time": "2021-07-01T23:06:14.236260Z",
     "start_time": "2021-07-01T23:06:14.227402Z"
    }
   },
   "outputs": [
    {
     "data": {
      "text/html": [
       "<div>\n",
       "<style scoped>\n",
       "    .dataframe tbody tr th:only-of-type {\n",
       "        vertical-align: middle;\n",
       "    }\n",
       "\n",
       "    .dataframe tbody tr th {\n",
       "        vertical-align: top;\n",
       "    }\n",
       "\n",
       "    .dataframe thead th {\n",
       "        text-align: right;\n",
       "    }\n",
       "</style>\n",
       "<table border=\"1\" class=\"dataframe\">\n",
       "  <thead>\n",
       "    <tr style=\"text-align: right;\">\n",
       "      <th></th>\n",
       "      <th>index</th>\n",
       "      <th>averagerating_x</th>\n",
       "      <th>numvotes_x</th>\n",
       "      <th>birth_year_x</th>\n",
       "      <th>death_year_x</th>\n",
       "      <th>title</th>\n",
       "      <th>region</th>\n",
       "      <th>language</th>\n",
       "      <th>primary_name</th>\n",
       "    </tr>\n",
       "  </thead>\n",
       "  <tbody>\n",
       "    <tr>\n",
       "      <th>15</th>\n",
       "      <td>955</td>\n",
       "      <td>8.425000</td>\n",
       "      <td>1.248687e+06</td>\n",
       "      <td>1970.0</td>\n",
       "      <td>NaN</td>\n",
       "      <td>Dunkirk</td>\n",
       "      <td>US</td>\n",
       "      <td>en</td>\n",
       "      <td>Christopher Nolan</td>\n",
       "    </tr>\n",
       "    <tr>\n",
       "      <th>44</th>\n",
       "      <td>1219</td>\n",
       "      <td>8.020000</td>\n",
       "      <td>1.131849e+06</td>\n",
       "      <td>1964.0</td>\n",
       "      <td>NaN</td>\n",
       "      <td>Age of Ultron</td>\n",
       "      <td>XWW</td>\n",
       "      <td>en</td>\n",
       "      <td>Joss Whedon</td>\n",
       "    </tr>\n",
       "    <tr>\n",
       "      <th>47</th>\n",
       "      <td>1593</td>\n",
       "      <td>8.000000</td>\n",
       "      <td>8.208470e+05</td>\n",
       "      <td>NaN</td>\n",
       "      <td>NaN</td>\n",
       "      <td>Deadpool</td>\n",
       "      <td>XWW</td>\n",
       "      <td>en</td>\n",
       "      <td>Tim Miller</td>\n",
       "    </tr>\n",
       "    <tr>\n",
       "      <th>64</th>\n",
       "      <td>292</td>\n",
       "      <td>7.941176</td>\n",
       "      <td>7.574738e+05</td>\n",
       "      <td>1966.0</td>\n",
       "      <td>NaN</td>\n",
       "      <td>Star Wars: The Force Awakens</td>\n",
       "      <td>CA</td>\n",
       "      <td>en</td>\n",
       "      <td>J.J. Abrams</td>\n",
       "    </tr>\n",
       "    <tr>\n",
       "      <th>124</th>\n",
       "      <td>505</td>\n",
       "      <td>7.700000</td>\n",
       "      <td>7.100180e+05</td>\n",
       "      <td>1961.0</td>\n",
       "      <td>NaN</td>\n",
       "      <td>Gravity</td>\n",
       "      <td>CA</td>\n",
       "      <td>en</td>\n",
       "      <td>Alfonso Cuarón</td>\n",
       "    </tr>\n",
       "  </tbody>\n",
       "</table>\n",
       "</div>"
      ],
      "text/plain": [
       "     index  averagerating_x    numvotes_x  birth_year_x  death_year_x  \\\n",
       "15     955         8.425000  1.248687e+06        1970.0           NaN   \n",
       "44    1219         8.020000  1.131849e+06        1964.0           NaN   \n",
       "47    1593         8.000000  8.208470e+05           NaN           NaN   \n",
       "64     292         7.941176  7.574738e+05        1966.0           NaN   \n",
       "124    505         7.700000  7.100180e+05        1961.0           NaN   \n",
       "\n",
       "                            title region language       primary_name  \n",
       "15                        Dunkirk     US       en  Christopher Nolan  \n",
       "44                  Age of Ultron    XWW       en        Joss Whedon  \n",
       "47                       Deadpool    XWW       en         Tim Miller  \n",
       "64   Star Wars: The Force Awakens     CA       en        J.J. Abrams  \n",
       "124                       Gravity     CA       en     Alfonso Cuarón  "
      ]
     },
     "execution_count": 176,
     "metadata": {},
     "output_type": "execute_result"
    }
   ],
   "source": [
    "imdb_directors_grouped_cleaned.head()"
   ]
  },
  {
   "cell_type": "code",
   "execution_count": 182,
   "metadata": {
    "ExecuteTime": {
     "end_time": "2021-07-01T23:09:04.078089Z",
     "start_time": "2021-07-01T23:09:03.766705Z"
    }
   },
   "outputs": [
    {
     "data": {
      "text/plain": [
       "<AxesSubplot:xlabel='numvotes_x', ylabel='primary_name'>"
      ]
     },
     "execution_count": 182,
     "metadata": {},
     "output_type": "execute_result"
    },
    {
     "data": {
      "image/png": "[encoded data removed]",
      "text/plain": [
       "<Figure size 1440x1296 with 1 Axes>"
      ]
     },
     "metadata": {
      "needs_background": "light"
     },
     "output_type": "display_data"
    }
   ],
   "source": [
    "plt.figure(figsize = (20,18))\n",
    "sns.barplot(y = \"primary_name\", x = \"numvotes_x\", data = imdb_directors_grouped_cleaned[0:25])"
   ]
  },
  {
   "cell_type": "code",
   "execution_count": null,
   "metadata": {},
   "outputs": [],
   "source": []
  }
 ],
 "metadata": {
  "kernelspec": {
   "display_name": "Python 3",
   "language": "python",
   "name": "python3"
  },
  "language_info": {
   "codemirror_mode": {
    "name": "ipython",
    "version": 3
   },
   "file_extension": ".py",
   "mimetype": "text/x-python",
   "name": "python",
   "nbconvert_exporter": "python",
   "pygments_lexer": "ipython3",
   "version": "3.8.5"
  },
  "toc": {
   "base_numbering": 1,
   "nav_menu": {},
   "number_sections": true,
   "sideBar": true,
   "skip_h1_title": false,
   "title_cell": "Table of Contents",
   "title_sidebar": "Contents",
   "toc_cell": false,
   "toc_position": {},
   "toc_section_display": true,
   "toc_window_display": false
  },
  "varInspector": {
   "cols": {
    "lenName": 16,
    "lenType": 16,
    "lenVar": 40
   },
   "kernels_config": {
    "python": {
     "delete_cmd_postfix": "",
     "delete_cmd_prefix": "del ",
     "library": "var_list.py",
     "varRefreshCmd": "print(var_dic_list())"
    },
    "r": {
     "delete_cmd_postfix": ") ",
     "delete_cmd_prefix": "rm(",
     "library": "var_list.r",
     "varRefreshCmd": "cat(var_dic_list()) "
    }
   },
   "types_to_exclude": [
    "module",
    "function",
    "builtin_function_or_method",
    "instance",
    "_Feature"
   ],
   "window_display": false
  }
 },
 "nbformat": 4,
 "nbformat_minor": 2
}
